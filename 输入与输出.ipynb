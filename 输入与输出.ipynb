{
 "cells": [
  {
   "cell_type": "markdown",
   "id": "8b6b3b89-4ede-4e83-b4d4-f06bb826a067",
   "metadata": {},
   "source": [
    "## 输入与输出\n",
    "\n",
    "Python中格式化输出方法有：\n",
    "- [格式化字符串字面值](https://docs.python.org/zh-cn/3/tutorial/inputoutput.html#tut-f-strings)\n",
    "- 字符串的 [str.format()](https://docs.python.org/zh-cn/3/library/stdtypes.html#str.format) 方法\n",
    "- [str()](https://docs.python.org/zh-cn/3/library/stdtypes.html#str) 与 [repr()](https://docs.python.org/zh-cn/3/library/functions.html#repr)         "
   ]
  },
  {
   "cell_type": "markdown",
   "id": "dd85fa38-911b-4ae7-b572-557b2374545d",
   "metadata": {},
   "source": [
    "### 格式化字符串字面值"
   ]
  },
  {
   "cell_type": "markdown",
   "id": "aab549d7-9b98-4780-8f71-2c3e4d831ada",
   "metadata": {},
   "source": [
    "格式化字符串字面值 （简称为 f-字符串）在字符串前加前缀 f 或 F，通过 {expression} 表达式，把 Python 表达式的值添加到字符串内。"
   ]
  },
  {
   "cell_type": "markdown",
   "id": "879cb4ab-963a-4c8e-85ab-c7e487636a7c",
   "metadata": {},
   "source": [
    "格式说明符是可选的，写在表达式后面，可以更好地控制格式化值的方式。下例将 pi 舍入到小数点后三位："
   ]
  },
  {
   "cell_type": "code",
   "execution_count": 1,
   "id": "d7f45801-b7fb-44d9-b13f-bd72410e98c2",
   "metadata": {},
   "outputs": [
    {
     "name": "stdout",
     "output_type": "stream",
     "text": [
      "The value of pi is approximately 3.142.\n"
     ]
    }
   ],
   "source": [
    "import math\n",
    "\n",
    "print(f'The value of pi is approximately {math.pi:.3f}.')"
   ]
  },
  {
   "cell_type": "markdown",
   "id": "109053c0-e29f-4e50-8f9b-17f5b50d53f4",
   "metadata": {},
   "source": [
    "在 ':' 后传递整数，为该字段设置最小字符宽度，常用于列对齐："
   ]
  },
  {
   "cell_type": "code",
   "execution_count": 3,
   "id": "77f75e83-f399-4706-b58f-66ae93aac15b",
   "metadata": {},
   "outputs": [
    {
     "name": "stdout",
     "output_type": "stream",
     "text": [
      "Sjoerd     ==>       4127\n",
      "Jack       ==>       4098\n",
      "Dcab       ==>       7678\n"
     ]
    }
   ],
   "source": [
    "table = {'Sjoerd': 4127, 'Jack': 4098, 'Dcab': 7678}\n",
    "\n",
    "for name, phone in table.items():\n",
    "    print(f'{name:10} ==> {phone:10d}')"
   ]
  },
  {
   "cell_type": "markdown",
   "id": "70ee9345-dfd7-4a27-ac84-10d5c9e0d3e3",
   "metadata": {},
   "source": [
    "还有一些修饰符可以在格式化前转换值。 '!a' 应用 ascii() ，'!s' 应用 str()，'!r' 应用 repr()："
   ]
  },
  {
   "cell_type": "code",
   "execution_count": 4,
   "id": "f3b3482c-9953-491d-9128-83671e5643f4",
   "metadata": {},
   "outputs": [
    {
     "name": "stdout",
     "output_type": "stream",
     "text": [
      "My hovercraft is full of eels.\n",
      "My hovercraft is full of 'eels'.\n"
     ]
    }
   ],
   "source": [
    "animals = 'eels'\n",
    "print(f'My hovercraft is full of {animals}.')\n",
    "print(f'My hovercraft is full of {animals!r}.')"
   ]
  },
  {
   "cell_type": "markdown",
   "id": "e1bb757e-c145-4a79-890e-4d080accd1d0",
   "metadata": {},
   "source": [
    "= 说明符可被用于将一个表达式扩展为表达式文本、等号再加表达式求值结果的形式。\n",
    "\n",
    "形式为 f'{expr=}' 的 f-字符串将扩展表示为表达式文本，加一个等于号，再加表达式的求值结果"
   ]
  },
  {
   "cell_type": "code",
   "execution_count": 5,
   "id": "ec180e03-54ff-4c91-ac53-0a65878fb3bd",
   "metadata": {},
   "outputs": [
    {
     "name": "stdout",
     "output_type": "stream",
     "text": [
      "Debugging bugs='roaches' count=13 area='living room'\n"
     ]
    }
   ],
   "source": [
    "bugs = 'roaches'\n",
    "count = 13\n",
    "area = 'living room'\n",
    "print(f'Debugging {bugs=} {count=} {area=}')"
   ]
  },
  {
   "cell_type": "markdown",
   "id": "a3e8bf19-6555-45ff-a222-448162c60eac",
   "metadata": {},
   "source": [
    "### 字符串 format() 方法"
   ]
  },
  {
   "cell_type": "markdown",
   "id": "30b6661a-367f-45f3-a35f-204f9267c6c9",
   "metadata": {},
   "source": [
    "- 花括号及之内的字符（称为格式字段）被替换为传递给 str.format() 方法的对象\n",
    "- 花括号中的数字表示传递给 str.format() 方法的对象所在的位置\n",
    "- 可以使用关键字参数名引用值\n",
    "\n",
    "更多使用方法见 [格式字符串语法](https://docs.python.org/zh-cn/3/library/string.html#formatstrings)"
   ]
  },
  {
   "cell_type": "code",
   "execution_count": 7,
   "id": "9ea24ef3-d12d-450d-9fb1-2f6b0d291768",
   "metadata": {},
   "outputs": [
    {
     "name": "stdout",
     "output_type": "stream",
     "text": [
      "We are the knights who say \"Ni!\"\n",
      "spam and eggs\n",
      "eggs and spam\n",
      "This spam is absolutely horrible.\n"
     ]
    }
   ],
   "source": [
    "print('We are the {} who say \"{}!\"'.format('knights', 'Ni'))\n",
    "print('{0} and {1}'.format('spam', 'eggs'))\n",
    "print('{1} and {0}'.format('spam', 'eggs'))\n",
    "\n",
    "print('This {food} is {adjective}.'.format(\n",
    "      food='spam', adjective='absolutely horrible'))"
   ]
  },
  {
   "cell_type": "markdown",
   "id": "3b48de26-4831-4012-8784-82b94eecdd4a",
   "metadata": {},
   "source": [
    "- 位置参数和关键字参数可以任意组合"
   ]
  },
  {
   "cell_type": "code",
   "execution_count": 8,
   "id": "7c15490b-f3bb-4019-a6eb-7221e5c41258",
   "metadata": {},
   "outputs": [
    {
     "name": "stdout",
     "output_type": "stream",
     "text": [
      "The story of Bill, Manfred, and Georg.\n"
     ]
    }
   ],
   "source": [
    "print('The story of {0}, {1}, and {other}.'.format('Bill', 'Manfred', other='Georg'))"
   ]
  },
  {
   "cell_type": "markdown",
   "id": "3cd07ed9-77f7-402e-b64b-74d8496aa82e",
   "metadata": {},
   "source": [
    "可以通过将 table 字典作为采用 ** 标记的关键字参数传入："
   ]
  },
  {
   "cell_type": "code",
   "execution_count": 9,
   "id": "74346696-479e-4546-9aa6-7325403ff456",
   "metadata": {},
   "outputs": [
    {
     "name": "stdout",
     "output_type": "stream",
     "text": [
      "Jack: 4098; Sjoerd: 4127; Dcab: 8637678\n"
     ]
    }
   ],
   "source": [
    "table = {'Sjoerd': 4127, 'Jack': 4098, 'Dcab': 8637678}\n",
    "print('Jack: {Jack:d}; Sjoerd: {Sjoerd:d}; Dcab: {Dcab:d}'.format(**table))"
   ]
  },
  {
   "cell_type": "code",
   "execution_count": 10,
   "id": "df70ef33-d2d4-4e45-b3b2-f0f359cf0f14",
   "metadata": {},
   "outputs": [
    {
     "name": "stdout",
     "output_type": "stream",
     "text": [
      "__name__: __main__; __doc__: Automatically created module for IPython interactive environment; __package__: None; __loader__: None; __spec__: None; __builtin__: <module 'builtins' (built-in)>; __builtins__: <module 'builtins' (built-in)>; _ih: ['', \"import math\\n\\nprint(f'The value of pi is approximately {math.pi:.3f}.')\", \"table = {'Sjoerd': 4127, 'Jack': 4098, 'Dcab': 7678}\\n\\nfor name, phone in table.items():\\n    print(f'{name:10} ==> {phone:10d}')\", \"table = {'Sjoerd': 4127, 'Jack': 4098, 'Dcab': 7678}\\n\\nfor name, phone in table.items():\\n    print(f'{name:10} ==> {phone:10d}')\", \"animals = 'eels'\\nprint(f'My hovercraft is full of {animals}.')\\nprint(f'My hovercraft is full of {animals!r}.')\", \"bugs = 'roaches'\\ncount = 13\\narea = 'living room'\\nprint(f'Debugging {bugs=} {count=} {area=}')\", 'print(\\'We are the {} who say \"{}!\"\\'.format(\\'knights\\', \\'Ni\\'))\\nprint(\\'{0} and {1}\\'.format(\\'spam\\', \\'eggs\\'))\\nprint(\\'{1} and {0}\\'.format(\\'spam\\', \\'eggs\\'))', 'print(\\'We are the {} who say \"{}!\"\\'.format(\\'knights\\', \\'Ni\\'))\\nprint(\\'{0} and {1}\\'.format(\\'spam\\', \\'eggs\\'))\\nprint(\\'{1} and {0}\\'.format(\\'spam\\', \\'eggs\\'))\\n\\nprint(\\'This {food} is {adjective}.\\'.format(\\n      food=\\'spam\\', adjective=\\'absolutely horrible\\'))', \"print('The story of {0}, {1}, and {other}.'.format('Bill', 'Manfred', other='Georg'))\", \"table = {'Sjoerd': 4127, 'Jack': 4098, 'Dcab': 8637678}\\nprint('Jack: {Jack:d}; Sjoerd: {Sjoerd:d}; Dcab: {Dcab:d}'.format(**table))\", '# 包含所有局部变量的字典\\ntable = {k: str(v) for k, v in vars().items()}\\nmessage = \" \".join([f\\'{k}: \\' + \\'{\\' + k +\\'};\\' for k in table.keys()])\\nprint(message.format(**table))']; _oh: {}; _dh: [PosixPath('/data/tink/jupyter-lab/The Way to Python')]; In: ['', \"import math\\n\\nprint(f'The value of pi is approximately {math.pi:.3f}.')\", \"table = {'Sjoerd': 4127, 'Jack': 4098, 'Dcab': 7678}\\n\\nfor name, phone in table.items():\\n    print(f'{name:10} ==> {phone:10d}')\", \"table = {'Sjoerd': 4127, 'Jack': 4098, 'Dcab': 7678}\\n\\nfor name, phone in table.items():\\n    print(f'{name:10} ==> {phone:10d}')\", \"animals = 'eels'\\nprint(f'My hovercraft is full of {animals}.')\\nprint(f'My hovercraft is full of {animals!r}.')\", \"bugs = 'roaches'\\ncount = 13\\narea = 'living room'\\nprint(f'Debugging {bugs=} {count=} {area=}')\", 'print(\\'We are the {} who say \"{}!\"\\'.format(\\'knights\\', \\'Ni\\'))\\nprint(\\'{0} and {1}\\'.format(\\'spam\\', \\'eggs\\'))\\nprint(\\'{1} and {0}\\'.format(\\'spam\\', \\'eggs\\'))', 'print(\\'We are the {} who say \"{}!\"\\'.format(\\'knights\\', \\'Ni\\'))\\nprint(\\'{0} and {1}\\'.format(\\'spam\\', \\'eggs\\'))\\nprint(\\'{1} and {0}\\'.format(\\'spam\\', \\'eggs\\'))\\n\\nprint(\\'This {food} is {adjective}.\\'.format(\\n      food=\\'spam\\', adjective=\\'absolutely horrible\\'))', \"print('The story of {0}, {1}, and {other}.'.format('Bill', 'Manfred', other='Georg'))\", \"table = {'Sjoerd': 4127, 'Jack': 4098, 'Dcab': 8637678}\\nprint('Jack: {Jack:d}; Sjoerd: {Sjoerd:d}; Dcab: {Dcab:d}'.format(**table))\", '# 包含所有局部变量的字典\\ntable = {k: str(v) for k, v in vars().items()}\\nmessage = \" \".join([f\\'{k}: \\' + \\'{\\' + k +\\'};\\' for k in table.keys()])\\nprint(message.format(**table))']; Out: {}; get_ipython: <function get_ipython at 0x7f975b6f1d80>; exit: <IPython.core.autocall.ZMQExitAutocall object at 0x7f97581e82b0>; quit: <IPython.core.autocall.ZMQExitAutocall object at 0x7f97581e82b0>; open: <function open at 0x7f975b1d7eb0>; _: ; __: ; ___: ; __session__: /data/tink/jupyter-lab/The Way to Python/Untitled.ipynb; json: <module 'json' from '/usr/lib/python3.10/json/__init__.py'>; sys: <module 'sys' (built-in)>; __import__: <function __import__ at 0x7f975cebb5b0>; islice: <class 'itertools.islice'>; collections: <module 'collections' from '/usr/lib/python3.10/collections/__init__.py'>; NamespaceMagics: <class 'IPython.core.magics.namespace.NamespaceMagics'>; _jupyterlab_variableinspector_nms: <IPython.core.magics.namespace.NamespaceMagics object at 0x7f97581e9db0>; _jupyterlab_variableinspector_Jupyter: <ipykernel.zmqshell.ZMQInteractiveShell object at 0x7f975819f5e0>; _jupyterlab_variableinspector_maxitems: 10; __np: None; __pd: None; __pyspark: None; __tf: None; __K: None; __torch: None; __ipywidgets: None; __xr: None; _attempt_import: <function _attempt_import at 0x7f97581d39a0>; _check_imported: <function _check_imported at 0x7f97581d3a30>; _jupyterlab_variableinspector_changesettings: <function _jupyterlab_variableinspector_changesettings at 0x7f97581d3ac0>; _jupyterlab_variableinspector_getsizeof: <function _jupyterlab_variableinspector_getsizeof at 0x7f97581d3b50>; _jupyterlab_variableinspector_getshapeof: <function _jupyterlab_variableinspector_getshapeof at 0x7f97581d3be0>; _jupyterlab_variableinspector_getcontentof: <function _jupyterlab_variableinspector_getcontentof at 0x7f97581d3eb0>; _jupyterlab_variableinspector_is_matrix: <function _jupyterlab_variableinspector_is_matrix at 0x7f97581d3f40>; _jupyterlab_variableinspector_is_widget: <function _jupyterlab_variableinspector_is_widget at 0x7f97580d4040>; _jupyterlab_variableinspector_dict_list: <function _jupyterlab_variableinspector_dict_list at 0x7f97580d40d0>; _jupyterlab_variableinspector_getmatrixcontent: <function _jupyterlab_variableinspector_getmatrixcontent at 0x7f97580d4160>; _jupyterlab_variableinspector_displaywidget: <function _jupyterlab_variableinspector_displaywidget at 0x7f97580d41f0>; _jupyterlab_variableinspector_default: <function _jupyterlab_variableinspector_default at 0x7f97580d4280>; _jupyterlab_variableinspector_deletevariable: <function _jupyterlab_variableinspector_deletevariable at 0x7f97580d4310>; _i: table = {'Sjoerd': 4127, 'Jack': 4098, 'Dcab': 8637678}\n",
      "print('Jack: {Jack:d}; Sjoerd: {Sjoerd:d}; Dcab: {Dcab:d}'.format(**table)); _ii: print('The story of {0}, {1}, and {other}.'.format('Bill', 'Manfred', other='Georg')); _iii: print('We are the {} who say \"{}!\"'.format('knights', 'Ni'))\n",
      "print('{0} and {1}'.format('spam', 'eggs'))\n",
      "print('{1} and {0}'.format('spam', 'eggs'))\n",
      "\n",
      "print('This {food} is {adjective}.'.format(\n",
      "      food='spam', adjective='absolutely horrible')); _i1: import math\n",
      "\n",
      "print(f'The value of pi is approximately {math.pi:.3f}.'); math: <module 'math' (built-in)>; _i2: table = {'Sjoerd': 4127, 'Jack': 4098, 'Dcab': 7678}\n",
      "\n",
      "for name, phone in table.items():\n",
      "    print(f'{name:10} ==> {phone:10d}'); table: {'Sjoerd': 4127, 'Jack': 4098, 'Dcab': 8637678}; name: Dcab; phone: 7678; _i3: table = {'Sjoerd': 4127, 'Jack': 4098, 'Dcab': 7678}\n",
      "\n",
      "for name, phone in table.items():\n",
      "    print(f'{name:10} ==> {phone:10d}'); _i4: animals = 'eels'\n",
      "print(f'My hovercraft is full of {animals}.')\n",
      "print(f'My hovercraft is full of {animals!r}.'); animals: eels; _i5: bugs = 'roaches'\n",
      "count = 13\n",
      "area = 'living room'\n",
      "print(f'Debugging {bugs=} {count=} {area=}'); bugs: roaches; count: 13; area: living room; _i6: print('We are the {} who say \"{}!\"'.format('knights', 'Ni'))\n",
      "print('{0} and {1}'.format('spam', 'eggs'))\n",
      "print('{1} and {0}'.format('spam', 'eggs')); _i7: print('We are the {} who say \"{}!\"'.format('knights', 'Ni'))\n",
      "print('{0} and {1}'.format('spam', 'eggs'))\n",
      "print('{1} and {0}'.format('spam', 'eggs'))\n",
      "\n",
      "print('This {food} is {adjective}.'.format(\n",
      "      food='spam', adjective='absolutely horrible')); _i8: print('The story of {0}, {1}, and {other}.'.format('Bill', 'Manfred', other='Georg')); _i9: table = {'Sjoerd': 4127, 'Jack': 4098, 'Dcab': 8637678}\n",
      "print('Jack: {Jack:d}; Sjoerd: {Sjoerd:d}; Dcab: {Dcab:d}'.format(**table)); _i10: # 包含所有局部变量的字典\n",
      "table = {k: str(v) for k, v in vars().items()}\n",
      "message = \" \".join([f'{k}: ' + '{' + k +'};' for k in table.keys()])\n",
      "print(message.format(**table));\n"
     ]
    }
   ],
   "source": [
    "# 包含所有局部变量的字典\n",
    "table = {k: str(v) for k, v in vars().items()}\n",
    "message = \" \".join([f'{k}: ' + '{' + k +'};' for k in table.keys()])\n",
    "print(message.format(**table))"
   ]
  },
  {
   "cell_type": "code",
   "execution_count": 12,
   "id": "3834a496-9199-4023-b6b9-31d136c1b610",
   "metadata": {
    "editable": true,
    "slideshow": {
     "slide_type": ""
    },
    "tags": []
   },
   "outputs": [
    {
     "name": "stdout",
     "output_type": "stream",
     "text": [
      " 1   1    1\n",
      " 2   4    8\n",
      " 3   9   27\n",
      " 4  16   64\n",
      " 5  25  125\n",
      " 6  36  216\n",
      " 7  49  343\n",
      " 8  64  512\n",
      " 9  81  729\n",
      "10 100 1000\n"
     ]
    }
   ],
   "source": [
    "# 打印给定的整数及其平方与立方\n",
    "\n",
    "for x in range(1, 11):\n",
    "    print('{0:2d} {1:3d} {2:4d}'.format(x, x*x, x*x*x))"
   ]
  },
  {
   "cell_type": "code",
   "execution_count": 11,
   "id": "f6f2fb1a-4982-4294-a75f-e1c971133a62",
   "metadata": {},
   "outputs": [
    {
     "name": "stdout",
     "output_type": "stream",
     "text": [
      " 1   1    1\n",
      " 2   4    8\n",
      " 3   9   27\n",
      " 4  16   64\n",
      " 5  25  125\n",
      " 6  36  216\n",
      " 7  49  343\n",
      " 8  64  512\n",
      " 9  81  729\n",
      "10 100 1000\n"
     ]
    }
   ],
   "source": []
  },
  {
   "cell_type": "markdown",
   "id": "9356dc15-369c-4f03-bd0a-f49479d4a52b",
   "metadata": {},
   "source": [
    "### str() 与 repr()\n",
    "\n",
    "str() 函数返回供人阅读的值，repr() 则生成适于解释器读取的值（如果没有等效的语法，则强制执行 SyntaxError）。对于没有支持供人阅读展示结果的对象， str() 返回与 repr() 相同的值。一般情况下，数字、列表或字典等结构的值，使用这两个函数输出的表现形式是一样的。字符串有两种不同的表现形式。"
   ]
  },
  {
   "cell_type": "code",
   "execution_count": 13,
   "id": "01b46371-5c3f-42d0-80ae-58e65ec5f2c9",
   "metadata": {},
   "outputs": [],
   "source": [
    "s = 'Hello, world.'"
   ]
  },
  {
   "cell_type": "code",
   "execution_count": 14,
   "id": "161d9965-cbc0-4d59-9150-80aa3dad6474",
   "metadata": {},
   "outputs": [
    {
     "data": {
      "text/plain": [
       "'Hello, world.'"
      ]
     },
     "execution_count": 14,
     "metadata": {},
     "output_type": "execute_result"
    }
   ],
   "source": [
    "str(s)"
   ]
  },
  {
   "cell_type": "code",
   "execution_count": 15,
   "id": "c36a2e54-c841-483d-bf2e-b1705f5ee291",
   "metadata": {},
   "outputs": [
    {
     "data": {
      "text/plain": [
       "\"'Hello, world.'\""
      ]
     },
     "execution_count": 15,
     "metadata": {},
     "output_type": "execute_result"
    }
   ],
   "source": [
    "repr(s)"
   ]
  },
  {
   "cell_type": "code",
   "execution_count": 16,
   "id": "050391f0-6958-4f13-a500-b50d7d96b02b",
   "metadata": {},
   "outputs": [
    {
     "data": {
      "text/plain": [
       "'0.14285714285714285'"
      ]
     },
     "execution_count": 16,
     "metadata": {},
     "output_type": "execute_result"
    }
   ],
   "source": [
    "str(1/7)"
   ]
  },
  {
   "cell_type": "code",
   "execution_count": 17,
   "id": "81762615-8f7a-43bf-9289-12d83b9e7c27",
   "metadata": {},
   "outputs": [
    {
     "name": "stdout",
     "output_type": "stream",
     "text": [
      "The value of x is 32.5, and y is 40000...\n"
     ]
    }
   ],
   "source": [
    "x = 10 * 3.25\n",
    "y = 200 * 200\n",
    "s = 'The value of x is ' + repr(x) + ', and y is ' + repr(y) + '...'\n",
    "print(s)"
   ]
  },
  {
   "cell_type": "code",
   "execution_count": 18,
   "id": "72611cc7-edba-4c78-bd30-3cc34a4dc8c4",
   "metadata": {},
   "outputs": [
    {
     "name": "stdout",
     "output_type": "stream",
     "text": [
      "'hello, world\\n'\n"
     ]
    }
   ],
   "source": [
    "hello = 'hello, world\\n'\n",
    "hellos = repr(hello)\n",
    "print(hellos)"
   ]
  },
  {
   "cell_type": "code",
   "execution_count": 19,
   "id": "8e1a3f60-ca5b-40b2-af15-b913eb957b29",
   "metadata": {},
   "outputs": [
    {
     "data": {
      "text/plain": [
       "\"(32.5, 40000, ('spam', 'eggs'))\""
      ]
     },
     "execution_count": 19,
     "metadata": {},
     "output_type": "execute_result"
    }
   ],
   "source": [
    "repr((x, y, ('spam', 'eggs')))"
   ]
  },
  {
   "cell_type": "markdown",
   "id": "e4b2af98-d61d-442e-b100-efa42dc87c71",
   "metadata": {},
   "source": [
    "### 读写文件"
   ]
  },
  {
   "cell_type": "markdown",
   "id": "440b0042-dd5f-4f7a-a42f-bb57e3ab2b6d",
   "metadata": {},
   "source": [
    "打开文件语法：\n",
    "\n",
    "```python\n",
    "open(filename, mode, encoding=None)\n",
    "```\n",
    "- filename是文件名字符串\n",
    "- mode是包含描述文件使用方式字符的字符串，省略时的默认值为 'r'\n",
    "  - 'r' ，表示文件只能读取\n",
    "  - 'w' 表示只能写入（现有同名文件会被覆盖）\n",
    "  - 'a' 表示打开文件并追加内容，任何写入的数据会自动添加到文件末尾\n",
    "  - 'r+' 表示打开文件进行读写\n",
    "  - 'b' 可以用 binary mode 打开文件，二进制模式的数据是以 bytes 对象的形式读写的\n",
    "- encoding指定待打开文件的编码，如果没有指定 encoding ，[默认的是与平台有关的](https://docs.python.org/zh-cn/3/library/functions.html#open)。在二进制模式下打开文件时，你不能指定 encoding 。\n",
    "\n",
    "在文本模式下读取文件时，默认把平台特定的行结束符（Unix 上为 \\n, Windows 上为 \\r\\n）转换为 \\n。在文本模式下写入数据时，默认把 \\n 转换回平台特定结束符。这种操作方式在后台修改文件数据对文本文件来说没有问题，但会破坏 JPEG 或 EXE 等二进制文件中的数据。注意，在读写此类文件时，一定要使用二进制模式。"
   ]
  },
  {
   "cell_type": "markdown",
   "id": "b8bbcc7e-7f40-4a92-99d6-346c35ad0f16",
   "metadata": {},
   "source": [
    "处理文件对象时，最好使用 with 关键字。优点是，子句体结束后，文件会正确关闭，即便触发异常也可以。而且，使用 with 相比等效的 try-finally 代码块要简短得多："
   ]
  },
  {
   "cell_type": "code",
   "execution_count": 21,
   "id": "8ec0e53d-5dca-4ec6-bd9f-140f0ffae941",
   "metadata": {},
   "outputs": [
    {
     "ename": "FileNotFoundError",
     "evalue": "[Errno 2] No such file or directory: 'workfile'",
     "output_type": "error",
     "traceback": [
      "\u001b[0;31m---------------------------------------------------------------------------\u001b[0m",
      "\u001b[0;31mFileNotFoundError\u001b[0m                         Traceback (most recent call last)",
      "Cell \u001b[0;32mIn[21], line 1\u001b[0m\n\u001b[0;32m----> 1\u001b[0m \u001b[38;5;28;01mwith\u001b[39;00m \u001b[38;5;28;43mopen\u001b[39;49m\u001b[43m(\u001b[49m\u001b[38;5;124;43m'\u001b[39;49m\u001b[38;5;124;43mworkfile\u001b[39;49m\u001b[38;5;124;43m'\u001b[39;49m\u001b[43m,\u001b[49m\u001b[43m \u001b[49m\u001b[43mencoding\u001b[49m\u001b[38;5;241;43m=\u001b[39;49m\u001b[38;5;124;43m\"\u001b[39;49m\u001b[38;5;124;43mutf-8\u001b[39;49m\u001b[38;5;124;43m\"\u001b[39;49m\u001b[43m)\u001b[49m \u001b[38;5;28;01mas\u001b[39;00m f:\n\u001b[1;32m      2\u001b[0m     read_data \u001b[38;5;241m=\u001b[39m f\u001b[38;5;241m.\u001b[39mread()\n\u001b[1;32m      4\u001b[0m \u001b[38;5;66;03m# 我们可以检测文件是否已被自动关闭。\u001b[39;00m\n",
      "File \u001b[0;32m/usr/local/lib/python3.10/dist-packages/IPython/core/interactiveshell.py:324\u001b[0m, in \u001b[0;36m_modified_open\u001b[0;34m(file, *args, **kwargs)\u001b[0m\n\u001b[1;32m    317\u001b[0m \u001b[38;5;28;01mif\u001b[39;00m file \u001b[38;5;129;01min\u001b[39;00m {\u001b[38;5;241m0\u001b[39m, \u001b[38;5;241m1\u001b[39m, \u001b[38;5;241m2\u001b[39m}:\n\u001b[1;32m    318\u001b[0m     \u001b[38;5;28;01mraise\u001b[39;00m \u001b[38;5;167;01mValueError\u001b[39;00m(\n\u001b[1;32m    319\u001b[0m         \u001b[38;5;124mf\u001b[39m\u001b[38;5;124m\"\u001b[39m\u001b[38;5;124mIPython won\u001b[39m\u001b[38;5;124m'\u001b[39m\u001b[38;5;124mt let you open fd=\u001b[39m\u001b[38;5;132;01m{\u001b[39;00mfile\u001b[38;5;132;01m}\u001b[39;00m\u001b[38;5;124m by default \u001b[39m\u001b[38;5;124m\"\u001b[39m\n\u001b[1;32m    320\u001b[0m         \u001b[38;5;124m\"\u001b[39m\u001b[38;5;124mas it is likely to crash IPython. If you know what you are doing, \u001b[39m\u001b[38;5;124m\"\u001b[39m\n\u001b[1;32m    321\u001b[0m         \u001b[38;5;124m\"\u001b[39m\u001b[38;5;124myou can use builtins\u001b[39m\u001b[38;5;124m'\u001b[39m\u001b[38;5;124m open.\u001b[39m\u001b[38;5;124m\"\u001b[39m\n\u001b[1;32m    322\u001b[0m     )\n\u001b[0;32m--> 324\u001b[0m \u001b[38;5;28;01mreturn\u001b[39;00m \u001b[43mio_open\u001b[49m\u001b[43m(\u001b[49m\u001b[43mfile\u001b[49m\u001b[43m,\u001b[49m\u001b[43m \u001b[49m\u001b[38;5;241;43m*\u001b[39;49m\u001b[43margs\u001b[49m\u001b[43m,\u001b[49m\u001b[43m \u001b[49m\u001b[38;5;241;43m*\u001b[39;49m\u001b[38;5;241;43m*\u001b[39;49m\u001b[43mkwargs\u001b[49m\u001b[43m)\u001b[49m\n",
      "\u001b[0;31mFileNotFoundError\u001b[0m: [Errno 2] No such file or directory: 'workfile'"
     ]
    }
   ],
   "source": [
    "with open('workfile', encoding=\"utf-8\") as f:\n",
    "    read_data = f.read()\n",
    "\n",
    "# 我们可以检测文件是否已被自动关闭。\n",
    "f.closed"
   ]
  },
  {
   "cell_type": "markdown",
   "id": "757adf5d-0b66-48cf-bdb5-715f435bcda5",
   "metadata": {},
   "source": [
    "#### f.read(size) \n",
    "\n",
    ".read(size) 可用于读取文件内容，它会读取一些数据，并返回字符串str（文本模式），或字节串对象bytes（在二进制模式下）。 size 是可选的数值参数。省略 size 或 size 为负数时，读取并返回整个文件的内容。如已到达文件末尾，f.read() 返回空字符串（''）。"
   ]
  },
  {
   "cell_type": "markdown",
   "id": "2b49b0cd-2813-4cd9-a81d-db9837d09abc",
   "metadata": {
    "editable": true,
    "slideshow": {
     "slide_type": ""
    },
    "tags": []
   },
   "source": [
    "#### f.readline()\n",
    "\n",
    "f.readline() 从文件中读取单行数据；字符串末尾保留换行符（\\n），只有在文件不以换行符结尾时，文件的最后一行才会省略换行符。这种方式让返回值清晰明确；只要 f.readline() 返回空字符串，就表示已经到达了文件末尾，空行使用 '\\n' 表示，该字符串只包含一个换行符。\n",
    "\n",
    "从文件中读取多行时，可以用循环遍历整个文件对象。这种操作能高效利用内存，快速，且代码简单：\n",
    "\n",
    "```python\n",
    "for line in f:\n",
    "    print(line, end='')\n",
    "```"
   ]
  }
 ],
 "metadata": {
  "kernelspec": {
   "display_name": "Python 3 (ipykernel)",
   "language": "python",
   "name": "python3"
  },
  "language_info": {
   "codemirror_mode": {
    "name": "ipython",
    "version": 3
   },
   "file_extension": ".py",
   "mimetype": "text/x-python",
   "name": "python",
   "nbconvert_exporter": "python",
   "pygments_lexer": "ipython3",
   "version": "3.10.12"
  }
 },
 "nbformat": 4,
 "nbformat_minor": 5
}
