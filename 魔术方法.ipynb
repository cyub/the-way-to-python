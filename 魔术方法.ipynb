{
 "cells": [
  {
   "cell_type": "markdown",
   "id": "5744bf49-4ce7-4ec7-b3bb-8d262d510744",
   "metadata": {},
   "source": [
    "# 魔术方法"
   ]
  },
  {
   "cell_type": "markdown",
   "id": "b710a43b-c651-479e-b6fc-7c9a7f788a88",
   "metadata": {},
   "source": [
    "Python定义了一些以双下划线开始和结束的方法，它们在特定的操作中被自动调用。这些方法允许开发者定义或修改内置操作的行为，称为**魔术方法（magic method)**。这些魔术方法是 Python 对象模型的核心，允许开发者定义或修改对象的行为，以适应不同的使用场景。\n",
    " "
   ]
  },
  {
   "cell_type": "markdown",
   "id": "5128e6a4-7a09-4692-b905-2588104f3669",
   "metadata": {},
   "source": [
    "## 常用的魔术方法及其示例\n",
    "下面是一些常用的魔术方法及其使用示例："
   ]
  },
  {
   "cell_type": "markdown",
   "id": "f8ea2db8-1789-4de2-953f-9e9b729f93e4",
   "metadata": {},
   "source": [
    "1. `__init__(self, ...)`：类的构造器，当一个实例被创建时调用。"
   ]
  },
  {
   "cell_type": "code",
   "execution_count": 6,
   "id": "b3675179-27b8-4b2b-bdfe-7a29f2c2b623",
   "metadata": {},
   "outputs": [
    {
     "name": "stdout",
     "output_type": "stream",
     "text": [
      "__init__ call\n"
     ]
    }
   ],
   "source": [
    "class Greeter:\n",
    "    def __init__(self, name):\n",
    "        self.name = name\n",
    "        print(\"__init__ call\")\n",
    "\n",
    "greeter = Greeter(\"World\")"
   ]
  },
  {
   "cell_type": "markdown",
   "id": "0d3c6e3a-616b-46ae-93a4-93555414ed73",
   "metadata": {},
   "source": [
    "2. `__str__(self)`：返回对象的字符串表示，用于 `print()` 函数和 `str()`。"
   ]
  },
  {
   "cell_type": "code",
   "execution_count": 9,
   "id": "92515748-fd6e-4cbd-8d2e-6653540441ea",
   "metadata": {},
   "outputs": [
    {
     "name": "stdout",
     "output_type": "stream",
     "text": [
      "__init__\n",
      "Hello, World!\n"
     ]
    }
   ],
   "source": [
    "class Greeter:\n",
    "    def __init__(self, name):\n",
    "        self.name = name\n",
    "        print(\"__init__\")\n",
    "    def __str__(self):\n",
    "        return f\"Hello, {self.name}!\"\n",
    "\n",
    "greeter = Greeter(\"World\")\n",
    "print(greeter)  # 输出: Hello, World!"
   ]
  },
  {
   "cell_type": "markdown",
   "id": "316a25b7-3a59-42d9-8aeb-f1306f59eec7",
   "metadata": {},
   "source": [
    "3. `__repr__(self)`：返回对象的官方字符串表示，通常用于调试。"
   ]
  },
  {
   "cell_type": "code",
   "execution_count": 10,
   "id": "6084ba12-0370-458b-9302-6e60b0516ef9",
   "metadata": {},
   "outputs": [
    {
     "data": {
      "text/plain": [
       "\"Greeter('World')\""
      ]
     },
     "execution_count": 10,
     "metadata": {},
     "output_type": "execute_result"
    }
   ],
   "source": [
    "class Greeter:\n",
    "    def __init__(self, name):\n",
    "        self.name = name\n",
    "\n",
    "    def __repr__(self):\n",
    "        return f\"Greeter('{self.name}')\"\n",
    " \n",
    "greeter = Greeter(\"World\")\n",
    "repr(greeter)  # 输出: Greeter('World')"
   ]
  },
  {
   "cell_type": "markdown",
   "id": "ee1a8b68-7292-4c7c-a224-a52b7c8e8085",
   "metadata": {},
   "source": [
    "4. `__len__(self)`：返回容器类型的长度。"
   ]
  },
  {
   "cell_type": "code",
   "execution_count": 11,
   "id": "e19db38f-bb27-4fd2-a3a0-d128c6d69626",
   "metadata": {},
   "outputs": [
    {
     "data": {
      "text/plain": [
       "3"
      ]
     },
     "execution_count": 11,
     "metadata": {},
     "output_type": "execute_result"
    }
   ],
   "source": [
    "class MyList:\n",
    "    def __init__(self, elements):\n",
    "        self.elements = elements\n",
    "\n",
    "    def __len__(self):\n",
    "        return len(self.elements)\n",
    "\n",
    "my_list = MyList([1, 2, 3])\n",
    "len(my_list)  # 输出: 3"
   ]
  },
  {
   "cell_type": "markdown",
   "id": "09962faf-4c25-4bf9-9f16-3d868116ee17",
   "metadata": {},
   "source": [
    "5. `__getitem__(self, key)`：获取序列的元素。"
   ]
  },
  {
   "cell_type": "code",
   "execution_count": 13,
   "id": "273ac3f9-a75c-422e-83c1-e131c5d49a25",
   "metadata": {},
   "outputs": [
    {
     "data": {
      "text/plain": [
       "2"
      ]
     },
     "execution_count": 13,
     "metadata": {},
     "output_type": "execute_result"
    }
   ],
   "source": [
    "class MyList:\n",
    "    def __init__(self, elements):\n",
    "        self.elements = elements\n",
    "\n",
    "    def __getitem__(self, index):\n",
    "        return self.elements[index]\n",
    "\n",
    "my_list = MyList([1, 2, 3])\n",
    "my_list[1]  # 输出: 2"
   ]
  },
  {
   "cell_type": "markdown",
   "id": "ca386640-f542-4fb8-9244-30fee4ef5906",
   "metadata": {},
   "source": [
    "6. `__setitem__(self, key, value)`：设置序列的元素。"
   ]
  },
  {
   "cell_type": "code",
   "execution_count": 14,
   "id": "5394d157-7cb3-4eb3-841e-381c0f982dcb",
   "metadata": {},
   "outputs": [
    {
     "data": {
      "text/plain": [
       "[1, 5, 3]"
      ]
     },
     "execution_count": 14,
     "metadata": {},
     "output_type": "execute_result"
    }
   ],
   "source": [
    "class MyList:\n",
    "    def __init__(self, elements):\n",
    "        self.elements = elements\n",
    "\n",
    "    def __setitem__(self, index, value):\n",
    "           self.elements[index] = value\n",
    "\n",
    "my_list = MyList([1, 2, 3])\n",
    "my_list[1] = 5\n",
    "my_list.elements  # 输出: [1, 5, 3]"
   ]
  },
  {
   "cell_type": "markdown",
   "id": "5d78bb07-e402-4468-90c9-257c404810ed",
   "metadata": {},
   "source": [
    "7. `__iter__(self)` 和 `__next__(self)`：返回迭代器对象。"
   ]
  },
  {
   "cell_type": "code",
   "execution_count": null,
   "id": "95c61038-6ced-4555-8c50-f32629d6b48b",
   "metadata": {},
   "outputs": [],
   "source": [
    "class MyRange:\n",
    "   def __init__(self, start, end):\n",
    "       self.current = start\n",
    "       self.end = end\n",
    "\n",
    "   def __iter__(self):\n",
    "       return self\n",
    "\n",
    "   def __next__(self):\n",
    "       if self.current < self.end:\n",
    "           current = self.current\n",
    "           self.current += 1\n",
    "           return current\n",
    "       else:\n",
    "           raise StopIteration\n",
    "           \n",
    "for number in MyRange(0, 3):\n",
    "    print(number)  # 输出: 0, 1, 2"
   ]
  },
  {
   "cell_type": "markdown",
   "id": "ac9b8b5f-4b16-4cc2-b4a9-3d89db73a14c",
   "metadata": {},
   "source": [
    "8. `__eq__(self, other)`：比较两个对象是否相等。"
   ]
  },
  {
   "cell_type": "code",
   "execution_count": 15,
   "id": "04507c48-edbe-42a6-ad0c-dc16b9fda6a6",
   "metadata": {},
   "outputs": [
    {
     "data": {
      "text/plain": [
       "True"
      ]
     },
     "execution_count": 15,
     "metadata": {},
     "output_type": "execute_result"
    }
   ],
   "source": [
    "class Point:\n",
    "   def __init__(self, x, y):\n",
    "       self.x = x\n",
    "       self.y = y\n",
    "   def __eq__(self, other):\n",
    "       return self.x == other.x and self.y == other.y\n",
    "\n",
    "p1 = Point(1, 2)\n",
    "p2 = Point(1, 2)\n",
    "p1 == p2  # 输出: True"
   ]
  },
  {
   "cell_type": "markdown",
   "id": "5735dc09-bfa1-4b17-b5b0-31b49ab47395",
   "metadata": {},
   "source": [
    "## 知名库使用情况"
   ]
  },
  {
   "cell_type": "markdown",
   "id": "b9a1840b-c2b8-45b8-8a37-ba86cba08091",
   "metadata": {},
   "source": [
    "NumPy 是一个广泛使用的科学计算库，它大量使用了魔术方法来支持数组运算。例如，`__add__` 方法使得两个 NumPy 数组可以直接相加："
   ]
  },
  {
   "cell_type": "code",
   "execution_count": 16,
   "id": "5aa8bd4e-a1f6-423e-9ac4-701b3c341c68",
   "metadata": {},
   "outputs": [
    {
     "name": "stdout",
     "output_type": "stream",
     "text": [
      "[5 7 9]\n"
     ]
    }
   ],
   "source": [
    "import numpy as np\n",
    "\n",
    "a = np.array([1, 2, 3])\n",
    "b = np.array([4, 5, 6])\n",
    "c = a + b  # 使用了 ndarray 类的 __add__ 方法\n",
    "print(c)  # 输出: [5 7 9]"
   ]
  },
  {
   "cell_type": "markdown",
   "id": "5378be68-6adc-410c-b60e-77580d456157",
   "metadata": {},
   "source": [
    "另一个例子是 Python 的内置 `list` 类型，它实现了 `__getitem__`、`__setitem__`、`__len__`、`__iter__`、`__add__` 等魔术方法，使得列表支持索引、切片、长度获取、迭代和连接等操作。"
   ]
  },
  {
   "cell_type": "code",
   "execution_count": 18,
   "id": "2c1dc14d-81b9-47e8-b5b6-e47ab3d5a9b3",
   "metadata": {},
   "outputs": [
    {
     "name": "stdout",
     "output_type": "stream",
     "text": [
      "1\n",
      "5\n",
      "3\n"
     ]
    },
    {
     "data": {
      "text/plain": [
       "[1, 5, 3, 4]"
      ]
     },
     "execution_count": 18,
     "metadata": {},
     "output_type": "execute_result"
    }
   ],
   "source": [
    "my_list = [1, 2, 3]\n",
    "my_list[1]  # 使用了 __getitem__，输出: 2\n",
    "my_list[1] = 5  # 使用了 __setitem__\n",
    "len(my_list)  # 使用了 __len__，输出: 3\n",
    "for item in my_list:  # 使用了 __iter__\n",
    "    print(item)  # 输出: 1, 5, 3\n",
    "my_list + [4]  # 使用了 __add__，输出: [1, 5, 3, 4]"
   ]
  },
  {
   "cell_type": "code",
   "execution_count": null,
   "id": "8060e7ac-cce1-4ec1-8e55-afceff444299",
   "metadata": {},
   "outputs": [],
   "source": []
  }
 ],
 "metadata": {
  "kernelspec": {
   "display_name": "Python 3 (ipykernel)",
   "language": "python",
   "name": "python3"
  },
  "language_info": {
   "codemirror_mode": {
    "name": "ipython",
    "version": 3
   },
   "file_extension": ".py",
   "mimetype": "text/x-python",
   "name": "python",
   "nbconvert_exporter": "python",
   "pygments_lexer": "ipython3",
   "version": "3.10.12"
  }
 },
 "nbformat": 4,
 "nbformat_minor": 5
}
