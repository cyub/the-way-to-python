{
 "cells": [
  {
   "cell_type": "markdown",
   "id": "8f565c0b-8893-4768-a900-ed6ebf37c035",
   "metadata": {},
   "source": [
    "## 模块\n",
    "\n",
    "模块是包含 Python 定义和语句的文件。其文件名是模块名加后缀名 .py 。在模块内部，通过全局变量 __name__ 可以获取模块名（即字符串）。"
   ]
  },
  {
   "cell_type": "code",
   "execution_count": 51,
   "id": "0cf4ffc1-48bc-4c5d-85fb-82515bb8655d",
   "metadata": {},
   "outputs": [
    {
     "ename": "ImportError",
     "evalue": "attempted relative import with no known parent package",
     "output_type": "error",
     "traceback": [
      "\u001b[0;31m---------------------------------------------------------------------------\u001b[0m",
      "\u001b[0;31mImportError\u001b[0m                               Traceback (most recent call last)",
      "Cell \u001b[0;32mIn[51], line 1\u001b[0m\n\u001b[0;32m----> 1\u001b[0m \u001b[38;5;28;01mfrom\u001b[39;00m \u001b[38;5;21;01m.\u001b[39;00m\u001b[38;5;21;01mfibo\u001b[39;00m \u001b[38;5;28;01mimport\u001b[39;00m fib\n",
      "\u001b[0;31mImportError\u001b[0m: attempted relative import with no known parent package"
     ]
    }
   ],
   "source": [
    "from .fibo import fib"
   ]
  },
  {
   "cell_type": "code",
   "execution_count": 40,
   "id": "9672a47d-5e01-4017-856d-3f5310642eda",
   "metadata": {
    "editable": true,
    "slideshow": {
     "slide_type": ""
    },
    "tags": []
   },
   "outputs": [
    {
     "data": {
      "text/plain": [
       "['__builtins__',\n",
       " '__cached__',\n",
       " '__doc__',\n",
       " '__file__',\n",
       " '__loader__',\n",
       " '__name__',\n",
       " '__package__',\n",
       " '__spec__']"
      ]
     },
     "execution_count": 40,
     "metadata": {},
     "output_type": "execute_result"
    }
   ],
   "source": [
    "dir(fibo)"
   ]
  },
  {
   "cell_type": "code",
   "execution_count": 15,
   "id": "19b4b28d-0d2a-4418-a35c-819ddffd47be",
   "metadata": {
    "editable": true,
    "slideshow": {
     "slide_type": ""
    },
    "tags": []
   },
   "outputs": [
    {
     "data": {
      "text/plain": [
       "['__builtins__',\n",
       " '__cached__',\n",
       " '__doc__',\n",
       " '__file__',\n",
       " '__loader__',\n",
       " '__name__',\n",
       " '__package__',\n",
       " '__spec__']"
      ]
     },
     "execution_count": 15,
     "metadata": {},
     "output_type": "execute_result"
    }
   ],
   "source": [
    "dir(fibo)"
   ]
  },
  {
   "cell_type": "code",
   "execution_count": 12,
   "id": "ada37bd9-3ad5-4d3b-8001-95faa735e9a5",
   "metadata": {},
   "outputs": [
    {
     "data": {
      "text/plain": [
       "'fibo'"
      ]
     },
     "execution_count": 12,
     "metadata": {},
     "output_type": "execute_result"
    }
   ],
   "source": [
    "fibo.__name__"
   ]
  },
  {
   "cell_type": "code",
   "execution_count": 29,
   "id": "a565b6e6-bab3-4cdc-b73e-a71b893b6adf",
   "metadata": {},
   "outputs": [
    {
     "name": "stdout",
     "output_type": "stream",
     "text": [
      "# -*- coding: utf-8 -*-\n",
      "\n",
      "# 斐波那契数列模块\n",
      "\n",
      "def fib(n):    # 打印斐波那契数列直到 n\n",
      "    a, b = 0, 1\n",
      "    while a < n:\n",
      "        print(a, end=' ')\n",
      "        a, b = b, a+b\n",
      "    print()\n",
      "\n",
      "def fib2(n):   # 返回斐波那契数列直到 n\n",
      "    result = []\n",
      "    a, b = 0, 1\n",
      "    while a < n:\n",
      "        result.append(a)\n",
      "        a, b = b, a+b\n",
      "    return result\n",
      "\n",
      "if __name__ == \"__main__\":\n",
      "    print(fib(100))"
     ]
    }
   ],
   "source": [
    "!cat fibo.py"
   ]
  },
  {
   "cell_type": "code",
   "execution_count": 30,
   "id": "8ebf0a8c-2444-42cd-863f-6878e8ef2a8d",
   "metadata": {},
   "outputs": [
    {
     "name": "stdout",
     "output_type": "stream",
     "text": [
      "0 1 1 2 3 5 8 13 21 34 55 89 \n",
      "None\n"
     ]
    }
   ],
   "source": [
    "!python3 fibo.py"
   ]
  },
  {
   "cell_type": "markdown",
   "id": "1a4f9cd9-6b52-469d-a3f8-ae7df9a3eb1e",
   "metadata": {},
   "source": [
    "### 导入包\n",
    "\n",
    "模块包含可执行语句及函数定义。这些语句用于初始化模块，且仅在 import 语句 第一次 遇到模块名时执行(文件作为脚本运行时，也会执行这些语句)。\n",
    "\n",
    "每个模块都有自己的私有命名空间，它会被用作模块中定义的所有函数的全局命名空间。 我们可以通过与引用模块函数一样的标记法 modname.itemname 来访问一个模块的全局变量。\n",
    "\n",
    "模块可以导入其他模块。 根据惯例可以将所有 import 语句都放在模块（或者也可以说是脚本）的开头但这并非强制要求。 如果被放置于一个模块的最高层级，则被导入的模块名称会被添加到该模块的全局命名空间。"
   ]
  },
  {
   "cell_type": "markdown",
   "id": "674224fa-7ef7-497b-9b6f-c04d982c233e",
   "metadata": {},
   "source": [
    "```python\n",
    "import fibo\n",
    "fibo.fib(1000) # 使用包里面函数\n",
    "\n",
    "from fibo import fib, fib2 # 显示指定导入包里面的名称\n",
    "\n",
    "from fibo import * # 导入所有不以下划线（_）开头的名称，不推荐，因为可能会覆盖已经定义的名称\n",
    "\n",
    "import fibo as fib # 使用模块别名\n",
    "\n",
    "from fibo import fib as fibonacci # 使用模块内部名称的别名\n",
    "fibonacci(500)\n",
    "\n",
    "import importlib # 默认只导入一次模块。如果更改了模块内容，可以重新加载模块\n",
    "importlib.reload(modulename) # 重新加载模块名\n",
    "```"
   ]
  },
  {
   "cell_type": "markdown",
   "id": "23fa2428-b019-478e-bbfb-9b295c429100",
   "metadata": {},
   "source": [
    "### 以脚本方式执行模块"
   ]
  },
  {
   "cell_type": "markdown",
   "id": "8159188d-49de-44a6-9bd2-07b0a2222bdf",
   "metadata": {},
   "source": [
    "可以用以下方式运行 Python 模块：\n",
    "\n",
    "```sh\n",
    "python fibo.py <arguments>\n",
    "```\n",
    "\n",
    "这项操作将执行模块里的代码，和导入模块一样，但会把 __name__ 赋值为 \"__main__\"。 也就是把下列代码添加到模块末尾：\n",
    "\n",
    "```python\n",
    "if __name__ == \"__main__\":\n",
    "    import sys\n",
    "    fib(int(sys.argv[1]))\n",
    "```"
   ]
  },
  {
   "cell_type": "markdown",
   "id": "e3ca5547-6358-4560-94ee-1c8896de16ba",
   "metadata": {},
   "source": [
    "### 模块搜索路径"
   ]
  },
  {
   "cell_type": "markdown",
   "id": "79ad6f12-4015-4039-a1f4-72fdff1e6aa5",
   "metadata": {},
   "source": [
    "当导入一个名为 spam 的模块时，会安装如下流程搜索：\n",
    "\n",
    "1. 解释器首先会搜索具有该名称的内置模块（所有内置模块见：sys.builtin_module_names ）\n",
    "2. 如果未找到，它将在变量 sys.path 所给出的目录列表中搜索名为 spam.py 的文件，sys.path初始化值来自：\n",
    "   1. 被命令行直接运行的脚本所在的目录（或未指定文件时的当前目录）。\n",
    "   2. PYTHONPATH （目录列表，与 shell 变量 PATH 的语法一样）。\n",
    "   3. 依赖于安装的默认值（按照惯例包括一个 site-packages 目录，由 site 模块处理）。\n",
    "\n",
    "\n",
    "\n",
    "**注意：**\n",
    "\n",
    "1. 在支持符号链接的文件系统中，“被命令行直接运行的脚本所在的目录”是符号链接最终指向的目录。换句话说，符号链接所在的目录并 没有 被添加至模块搜索路径。\n",
    "2. 初始化后，Python 程序可以更改 sys.path。这样可以添加自定义的目录到搜索路径中:\n",
    "    ```python\n",
    "    import sys\n",
    "    sys.path.append('/ufs/guido/lib/python')\n",
    "    ```"
   ]
  },
  {
   "cell_type": "markdown",
   "id": "d0b0c977-e357-450d-8a76-6d69d09de6ba",
   "metadata": {
    "editable": true,
    "slideshow": {
     "slide_type": ""
    },
    "tags": []
   },
   "source": [
    "### “已编译的” Python 文件\n",
    "\n",
    "为了快速加载模块，Python 把模块的编译版本缓存在 __pycache__ 目录中，文件名为 module.version.pyc，version 对编译文件格式进行编码，一般是 Python 的版本号。例如，CPython 的 3.3 发行版中，spam.py 的编译版本缓存为 __pycache__/spam.cpython-33.pyc。这种命名惯例让不同 Python 版本编译的模块可以共存。\n",
    "\n",
    "Python 对比编译版与源码的修改日期，查看编译版是否已过期，是否要重新编译。此进程完全是自动的。此外，编译模块与平台无关，因此，可在不同架构的系统之间共享相同的库。\n",
    "\n",
    "Python 在两种情况下不检查缓存。一，从命令行直接载入的模块，每次都会重新编译，且不储存编译结果；二，没有源模块，就不会检查缓存。为了让一个库能以隐藏源代码的形式分发（通过将所有源代码变为编译后的版本），编译后的模块必须放在源目录而非缓存目录中，并且源目录绝不能包含同名的未编译的源模块。"
   ]
  },
  {
   "cell_type": "markdown",
   "id": "48b618e3-1200-4af4-9e75-17611235fead",
   "metadata": {
    "editable": true,
    "slideshow": {
     "slide_type": ""
    },
    "tags": []
   },
   "source": [
    "## dir() 函数\n",
    "内置函数 dir() 用于查找模块定义的名称。返回结果是经过排序的字符串列表："
   ]
  },
  {
   "cell_type": "code",
   "execution_count": 43,
   "id": "37b6dc87-2de3-4112-893a-5ed30667636e",
   "metadata": {},
   "outputs": [
    {
     "data": {
      "text/plain": [
       "'__breakpointhook__, __displayhook__, __doc__, __excepthook__, __interactivehook__, __loader__, __name__, __package__, __spec__, __stderr__, __stdin__, __stdout__, __unraisablehook__, _base_executable, _clear_type_cache, _current_exceptions, _current_frames, _deactivate_opcache, _debugmallocstats, _framework, _getframe, _git, _home, _xoptions, abiflags, addaudithook, api_version, argv, audit, base_exec_prefix, base_prefix, breakpointhook, builtin_module_names, byteorder, call_tracing, copyright, displayhook, dont_write_bytecode, exc_info, excepthook, exec_prefix, executable, exit, flags, float_info, float_repr_style, get_asyncgen_hooks, get_coroutine_origin_tracking_depth, get_int_max_str_digits, getallocatedblocks, getdefaultencoding, getdlopenflags, getfilesystemencodeerrors, getfilesystemencoding, getprofile, getrecursionlimit, getrefcount, getsizeof, getswitchinterval, gettrace, hash_info, hexversion, implementation, int_info, intern, is_finalizing, last_traceback, last_type, last_value, maxsize, maxunicode, meta_path, modules, orig_argv, path, path_hooks, path_importer_cache, platform, platlibdir, prefix, ps1, ps2, ps3, pycache_prefix, set_asyncgen_hooks, set_coroutine_origin_tracking_depth, set_int_max_str_digits, setdlopenflags, setprofile, setrecursionlimit, setswitchinterval, settrace, stderr, stdin, stdlib_module_names, stdout, thread_info, unraisablehook, version, version_info, warnoptions'"
      ]
     },
     "execution_count": 43,
     "metadata": {},
     "output_type": "execute_result"
    }
   ],
   "source": [
    "import sys\n",
    "\", \".join(dir(sys))"
   ]
  },
  {
   "cell_type": "markdown",
   "id": "a8735cab-1e03-4354-825d-bfa5bc2bd522",
   "metadata": {},
   "source": [
    "没有参数时，dir() 列出当前已定义的名称："
   ]
  },
  {
   "cell_type": "code",
   "execution_count": 45,
   "id": "ef16ec97-c5a4-414d-a793-b2446348007e",
   "metadata": {},
   "outputs": [
    {
     "data": {
      "text/plain": [
       "'In, NamespaceMagics, Out, _, _12, _15, _35, _40, _41, _42, _43, _44, _7, __, __K, ___, __builtin__, __builtins__, __doc__, __import__, __ipywidgets, __loader__, __name__, __np, __package__, __pd, __pyspark, __session__, __spec__, __tf, __torch, __xr, _attempt_import, _check_imported, _dh, _exit_code, _i, _i1, _i10, _i11, _i12, _i13, _i14, _i15, _i16, _i17, _i18, _i19, _i2, _i20, _i21, _i22, _i23, _i24, _i25, _i26, _i27, _i28, _i29, _i3, _i30, _i31, _i32, _i33, _i34, _i35, _i36, _i37, _i38, _i39, _i4, _i40, _i41, _i42, _i43, _i44, _i45, _i5, _i6, _i7, _i8, _i9, _ih, _ii, _iii, _jupyterlab_variableinspector_Jupyter, _jupyterlab_variableinspector_changesettings, _jupyterlab_variableinspector_default, _jupyterlab_variableinspector_deletevariable, _jupyterlab_variableinspector_dict_list, _jupyterlab_variableinspector_displaywidget, _jupyterlab_variableinspector_getcontentof, _jupyterlab_variableinspector_getmatrixcontent, _jupyterlab_variableinspector_getshapeof, _jupyterlab_variableinspector_getsizeof, _jupyterlab_variableinspector_is_matrix, _jupyterlab_variableinspector_is_widget, _jupyterlab_variableinspector_maxitems, _jupyterlab_variableinspector_nms, _oh, collections, exit, ff, fibo, get_ipython, islice, json, open, quit, sys'"
      ]
     },
     "execution_count": 45,
     "metadata": {},
     "output_type": "execute_result"
    }
   ],
   "source": [
    "\", \".join(dir())"
   ]
  },
  {
   "cell_type": "markdown",
   "id": "142c2bd0-25f8-4814-829b-868178bddd73",
   "metadata": {},
   "source": [
    "dir() 不会列出内置函数和变量的名称。这些内容的定义在标准模块 builtins 中："
   ]
  },
  {
   "cell_type": "code",
   "execution_count": 46,
   "id": "2fcc4445-bf02-4bdd-b7fd-719319204814",
   "metadata": {},
   "outputs": [
    {
     "data": {
      "text/plain": [
       "'ArithmeticError, AssertionError, AttributeError, BaseException, BlockingIOError, BrokenPipeError, BufferError, BytesWarning, ChildProcessError, ConnectionAbortedError, ConnectionError, ConnectionRefusedError, ConnectionResetError, DeprecationWarning, EOFError, Ellipsis, EncodingWarning, EnvironmentError, Exception, False, FileExistsError, FileNotFoundError, FloatingPointError, FutureWarning, GeneratorExit, IOError, ImportError, ImportWarning, IndentationError, IndexError, InterruptedError, IsADirectoryError, KeyError, KeyboardInterrupt, LookupError, MemoryError, ModuleNotFoundError, NameError, None, NotADirectoryError, NotImplemented, NotImplementedError, OSError, OverflowError, PendingDeprecationWarning, PermissionError, ProcessLookupError, RecursionError, ReferenceError, ResourceWarning, RuntimeError, RuntimeWarning, StopAsyncIteration, StopIteration, SyntaxError, SyntaxWarning, SystemError, SystemExit, TabError, TimeoutError, True, TypeError, UnboundLocalError, UnicodeDecodeError, UnicodeEncodeError, UnicodeError, UnicodeTranslateError, UnicodeWarning, UserWarning, ValueError, Warning, ZeroDivisionError, __IPYTHON__, __build_class__, __debug__, __doc__, __import__, __loader__, __name__, __package__, __spec__, abs, aiter, all, anext, any, ascii, bin, bool, breakpoint, bytearray, bytes, callable, chr, classmethod, compile, complex, copyright, credits, delattr, dict, dir, display, divmod, enumerate, eval, exec, execfile, filter, float, format, frozenset, get_ipython, getattr, globals, hasattr, hash, help, hex, id, input, int, isinstance, issubclass, iter, len, license, list, locals, map, max, memoryview, min, next, object, oct, open, ord, pow, print, property, range, repr, reversed, round, runfile, set, setattr, slice, sorted, staticmethod, str, sum, super, tuple, type, vars, zip'"
      ]
     },
     "execution_count": 46,
     "metadata": {},
     "output_type": "execute_result"
    }
   ],
   "source": [
    "import builtins\n",
    "\n",
    "\", \".join(dir(builtins))"
   ]
  },
  {
   "cell_type": "markdown",
   "id": "8be52b03-827b-4599-9df3-79fd63b195e7",
   "metadata": {},
   "source": [
    "内置模块名称保存到sys.builtin_module_names"
   ]
  },
  {
   "cell_type": "code",
   "execution_count": 49,
   "id": "caf44dd2-8c9e-440e-b6a0-4ae34feabece",
   "metadata": {},
   "outputs": [
    {
     "data": {
      "text/plain": [
       "'_abc, _ast, _bisect, _blake2, _codecs, _collections, _csv, _datetime, _elementtree, _functools, _heapq, _imp, _io, _locale, _md5, _operator, _pickle, _posixsubprocess, _random, _sha1, _sha256, _sha3, _sha512, _signal, _socket, _sre, _stat, _statistics, _string, _struct, _symtable, _thread, _tracemalloc, _warnings, _weakref, array, atexit, binascii, builtins, cmath, errno, faulthandler, fcntl, gc, grp, itertools, marshal, math, posix, pwd, pyexpat, select, spwd, sys, syslog, time, unicodedata, xxsubtype, zlib'"
      ]
     },
     "execution_count": 49,
     "metadata": {},
     "output_type": "execute_result"
    }
   ],
   "source": [
    "import sys\n",
    "\n",
    "\", \".join(sys.builtin_module_names)"
   ]
  },
  {
   "cell_type": "markdown",
   "id": "4fc3cdf6-2b96-4bf0-ba7f-95deab4e208f",
   "metadata": {},
   "source": [
    "## 包\n",
    "\n",
    "包是通过使用“带点号模块名”来构造 Python 模块命名空间的一种方式。 例如，模块名 A.B 表示名为 A 的包中名为 B 的子模块。"
   ]
  },
  {
   "cell_type": "markdown",
   "id": "d2440b21-3fa1-4450-964b-fa54e4aa8350",
   "metadata": {},
   "source": [
    "示例包结构如下：\n",
    "\n",
    "```\n",
    "sound/                          最高层级的包\n",
    "      __init__.py               初始化 sound 包\n",
    "      formats/                  用于文件格式转换的子包\n",
    "              __init__.py\n",
    "              wavread.py\n",
    "              wavwrite.py\n",
    "              aiffread.py\n",
    "              aiffwrite.py\n",
    "              auread.py\n",
    "              auwrite.py\n",
    "              ...\n",
    "      effects/                  用于音效的子包\n",
    "              __init__.py\n",
    "              echo.py\n",
    "              surround.py\n",
    "              reverse.py\n",
    "              ...\n",
    "      filters/                  用于过滤器的子包\n",
    "              __init__.py\n",
    "              equalizer.py\n",
    "              vocoder.py\n",
    "              karaoke.py\n",
    "              ...\n",
    "```"
   ]
  },
  {
   "cell_type": "markdown",
   "id": "48604794-8169-46d4-8a56-98f072e06a2f",
   "metadata": {},
   "source": [
    "需要有 __init__.py 文件才能让 Python 将包含该文件的目录当作包来处理（除非使用 namespace package，这是一个相对高级的特性）。 这可以防止重名的目录如 string 在无意中屏蔽后继出现在模块搜索路径中的有效模块。 在最简单的情况下，__init__.py 可以只是一个空文件，但它也可以执行包的初始化代码或设置 __all__ 变量。"
   ]
  },
  {
   "cell_type": "markdown",
   "id": "ad67d56d-4cd0-434a-be4a-1a89e502f3a6",
   "metadata": {},
   "source": [
    "### 导入模块\n",
    "\n",
    "导入单个模块:\n",
    "\n",
    "```python \n",
    "\n",
    "import sound.effects.echo # 导入单个模块\n",
    "\n",
    "sound.effects.echo.echofilter(input, output, delay=0.7, atten=4) # 导入单个模块时候，必须通过其全名来引用\n",
    "```\n",
    "\n",
    "另外一种导入单个模块方法：\n",
    "\n",
    "```python\n",
    "from sound.effects import echo\n",
    "echo.echofilter(input, output, delay=0.7, atten=4) # 引用函数时候不需要再不必加包前缀\n",
    "```\n",
    "\n",
    "直接导入所需的函数或变量：\n",
    "\n",
    "```python\n",
    "from sound.effects.echo import echofilter\n",
    "echofilter(input, output, delay=0.7, atten=4)\n",
    "```\n",
    "\n",
    "**注意:**\n",
    "\n",
    "- 使用 from package import item 时，item 可以是包的子模块（或子包），也可以是包中定义的函数、类或变量等其他名称。import 语句首先测试包中是否定义了 item；如果未在包中定义，则假定 item 是模块，并尝试加载。如果找不到 item，则触发 ImportError 异常。\n",
    "\n",
    "- 相反，使用 import item.subitem.subsubitem 句法时，除最后一项外，每个 item 都必须是包；最后一项可以是模块或包，但不能是上一项中定义的类、函数或变量。"
   ]
  },
  {
   "cell_type": "markdown",
   "id": "af928686-7f5f-4b89-9dc6-7fa30d1014fe",
   "metadata": {},
   "source": [
    "### 从包中导入 *\n",
    "\n",
    "使用 from sound.effects import * 时会发生什么？你可能希望它会查找并导入包的所有子模块，但事实并非如此。因为这将花费很长的时间，并且可能会产生你不想要的副作用，如果这种副作用被你设计为只有在导入某个特定的子模块时才应该发生。\n",
    "\n",
    "唯一的解决办法是提供包的显式索引。import 语句使用如下惯例：如果包的 __init__.py 代码定义了列表 __all__，运行 from package import * 时，它就是被导入的模块名列表。发布包的新版本时，包的作者应更新此列表。如果包的作者认为没有必要在包中执行导入 * 操作，也可以不提供此列表。例如，sound/effects/__init__.py 文件可以包含以下代码：\n",
    "\n",
    "```python\n",
    "__all__ = [\"echo\", \"surround\", \"reverse\"]\n",
    "```\n",
    "\n",
    "这意味着 from sound.effects import * 将导入 sound.effects 包的三个命名子模块。"
   ]
  },
  {
   "cell_type": "markdown",
   "id": "33862d0b-4601-49da-8e86-bcbac042b4dd",
   "metadata": {},
   "source": [
    "### 相对导入\n",
    "\n",
    "当包由多个子包构成（如示例中的 sound 包）时，可以使用绝对导入来引用同级包的子模块。 例如，如果 sound.filters.vocoder 模块需要使用 sound.effects 包中的 echo 模块，它可以使用 from sound.effects import echo。\n",
    "\n",
    "可以编写相对导入代码，即使用 from module import name 形式的 import 语句。 这些导入使用前导点号来表示相对导入所涉及的当前包和上级包。 例如对于 surround 模块，可以使用:\n",
    "\n",
    "```python\n",
    "from . import echo\n",
    "from .. import formats\n",
    "from ..filters import equalizer\n",
    "```\n",
    "\n",
    "**注意:** 相对导入基于当前模块名。因为主模块名永远是 \"__main__\" ，所以如果计划将一个模块用作 Python 应用程序的主模块，那么该模块内的导入语句必须始终使用绝对导入。\n",
    "\n",
    "为什么在主模块中使用绝对导入？\n",
    "\n",
    "- 避免歧义：如果你使用相对导入，如from .subpackage import module2，当模块作为脚本直接运行时，相对导入可能会失败，因为相对导入是相对于当前模块的，而主模块__main__没有父模块。\n",
    "\n",
    "- 明确性：绝对导入清楚地表明了模块的来源，使得代码更容易理解和维护。\n",
    "\n",
    "- 可移植性：当你的代码被重构或者模块被移动到不同的包中时，绝对导入可以确保导入语句仍然有效。\n",
    "\n"
   ]
  },
  {
   "cell_type": "markdown",
   "id": "78c5e36c-e23d-40a6-90be-4c7886a9c964",
   "metadata": {
    "editable": true,
    "slideshow": {
     "slide_type": ""
    },
    "tags": []
   },
   "source": [
    "### 多目录中的包\n",
    "\n",
    "包还支持一个特殊属性 __path__ ,可用于扩展包中的模块集。。在包的 __init__.py 中的代码被执行前，该属性被初始化为一个只含一项的列表，该项是一个字符串，是 __init__.py 所在目录的名称。可以修改此变量；这样做会改变在此包中搜索模块和子包的方式。"
   ]
  },
  {
   "cell_type": "code",
   "execution_count": null,
   "id": "1c7ce57c-5a66-4b5c-9587-b4e8038496c1",
   "metadata": {},
   "outputs": [],
   "source": []
  }
 ],
 "metadata": {
  "kernelspec": {
   "display_name": "Python 3 (ipykernel)",
   "language": "python",
   "name": "python3"
  },
  "language_info": {
   "codemirror_mode": {
    "name": "ipython",
    "version": 3
   },
   "file_extension": ".py",
   "mimetype": "text/x-python",
   "name": "python",
   "nbconvert_exporter": "python",
   "pygments_lexer": "ipython3",
   "version": "3.10.12"
  }
 },
 "nbformat": 4,
 "nbformat_minor": 5
}
