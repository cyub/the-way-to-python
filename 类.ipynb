{
 "cells": [
  {
   "cell_type": "markdown",
   "id": "3da92b34-8023-4210-816f-b6b37bfe2ef1",
   "metadata": {
    "editable": true,
    "slideshow": {
     "slide_type": ""
    },
    "tags": []
   },
   "source": [
    "## 类"
   ]
  },
  {
   "cell_type": "markdown",
   "id": "0605280c-edb8-4e42-a4b5-d62ff4118ff4",
   "metadata": {
    "editable": true,
    "slideshow": {
     "slide_type": ""
    },
    "tags": []
   },
   "source": [
    "类提供了把数据和功能绑定在一起的方法。Python中支持面向对象编程（OOP）的所有标准特性：类的继承机制支持多个基类、派生的类能覆盖基类的方法、类的方法能调用基类中的同名方法。对象可包含任意数量和类型的数据。和模块一样，类也支持 Python 动态特性：在运行时创建，创建后还可以修改。"
   ]
  },
  {
   "cell_type": "markdown",
   "id": "70f7a737-db4e-4693-a75e-f85e8e214011",
   "metadata": {},
   "source": [
    "### 作用域和命名空间"
   ]
  },
  {
   "cell_type": "markdown",
   "id": "e951e924-89d0-4d8b-9688-251a1edb28cd",
   "metadata": {},
   "source": [
    " global 和 nonlocal 对变量绑定的影响示例："
   ]
  },
  {
   "cell_type": "code",
   "execution_count": 3,
   "id": "7feb8dcf-01ce-4af0-88de-b013672c80cb",
   "metadata": {},
   "outputs": [
    {
     "name": "stdout",
     "output_type": "stream",
     "text": [
      "After local assignment: test spam\n",
      "After nonlocal assignment: nonlocal spam\n",
      "After global assignment: nonlocal spam\n",
      "In global scope: global spam\n"
     ]
    }
   ],
   "source": [
    "def scope_test():\n",
    "    def do_local():\n",
    "        spam = \"local spam\"\n",
    "\n",
    "    def do_nonlocal():\n",
    "        nonlocal spam\n",
    "        spam = \"nonlocal spam\"\n",
    "\n",
    "    def do_global():\n",
    "        global spam\n",
    "        spam = \"global spam\"\n",
    "\n",
    "    spam = \"test spam\"\n",
    "    do_local()\n",
    "    print(\"After local assignment:\", spam)\n",
    "    do_nonlocal()\n",
    "    print(\"After nonlocal assignment:\", spam)\n",
    "    do_global()\n",
    "    print(\"After global assignment:\", spam)\n",
    "\n",
    "scope_test()\n",
    "print(\"In global scope:\", spam)"
   ]
  },
  {
   "cell_type": "markdown",
   "id": "1558dbf0-8066-4d12-a79e-54f1f0da0885",
   "metadata": {},
   "source": [
    "### 类定义"
   ]
  },
  {
   "cell_type": "markdown",
   "id": "8d7f767b-2622-4ed4-8227-98fa818b2389",
   "metadata": {},
   "source": [
    "最简单的类定义形式如下：\n",
    "\n",
    "```python\n",
    "class ClassName:\n",
    "    <语句-1>\n",
    "    .\n",
    "    .\n",
    "    .\n",
    "    <语句-N>\n",
    "```"
   ]
  },
  {
   "cell_type": "markdown",
   "id": "d4306047-011d-4caa-8cef-175ea14f006f",
   "metadata": {},
   "source": [
    "### 类对象（class对象）"
   ]
  },
  {
   "cell_type": "markdown",
   "id": "ffa4e552-cf34-464c-a485-715a57565ff6",
   "metadata": {},
   "source": [
    "类对象(这里指的是类似其他面向对象语言中的类名）支持两种操作：属性引用（这里的属性是广义上的属性，包含一般意义的属性和方法）和实例化。\n",
    "\n",
    "属性引用 使用 Python 中所有属性引用所使用的标准语法: obj.name。 有效的属性名称是类对象被创建时存在于类命名空间中的所有名称。 "
   ]
  },
  {
   "cell_type": "code",
   "execution_count": 46,
   "id": "969ae170-6da6-4bf6-9344-eff6d947a3a3",
   "metadata": {},
   "outputs": [],
   "source": [
    "class MyClass:\n",
    "    \"\"\"一个简单的示例类\"\"\"\n",
    "    i = 12345\n",
    "\n",
    "    def f(self):\n",
    "        return 'hello world'"
   ]
  },
  {
   "cell_type": "code",
   "execution_count": 47,
   "id": "3675e640-2223-4f4a-8b9e-c687c8789848",
   "metadata": {},
   "outputs": [
    {
     "name": "stdout",
     "output_type": "stream",
     "text": [
      "<__main__.MyClass object at 0x7f7fd0431840> <class '__main__.MyClass'>\n"
     ]
    }
   ],
   "source": [
    "x = MyClass() # 类的实例化\n",
    "print(x, type(x))"
   ]
  },
  {
   "cell_type": "markdown",
   "id": "2dfb9db2-82c3-4124-87a0-e541eac2e5c9",
   "metadata": {},
   "source": [
    "MyClass.i"
   ]
  },
  {
   "cell_type": "code",
   "execution_count": 48,
   "id": "d1517a7a-73ed-4872-95f4-e9a8fdbc8138",
   "metadata": {},
   "outputs": [
    {
     "name": "stdout",
     "output_type": "stream",
     "text": [
      "<function MyClass.f at 0x7f7fd0187370> <class 'function'>\n"
     ]
    }
   ],
   "source": [
    "print(MyClass.f, type(MyClass.f))"
   ]
  },
  {
   "cell_type": "markdown",
   "id": "79666c18-1d1a-4602-ae89-d9988d4a95e3",
   "metadata": {},
   "source": [
    "支持初始化操作的类对象："
   ]
  },
  {
   "cell_type": "code",
   "execution_count": 49,
   "id": "1b7b19ac-b7e3-43aa-979c-66255aa4c563",
   "metadata": {},
   "outputs": [
    {
     "data": {
      "text/plain": [
       "(3.0, -4.5)"
      ]
     },
     "execution_count": 49,
     "metadata": {},
     "output_type": "execute_result"
    }
   ],
   "source": [
    "class Complex:\n",
    "    def __init__(self, realpart, imagpart):\n",
    "        self.r = realpart\n",
    "        self.i = imagpart\n",
    "x = Complex(3.0, -4.5)\n",
    "x.r,x.i"
   ]
  },
  {
   "cell_type": "markdown",
   "id": "94b8fc39-9e9d-4f48-b03d-f5bbe28b1823",
   "metadata": {},
   "source": [
    "### 实例对象\n",
    "\n",
    "实例对象所能理解的唯一操作是属性引用。 有两种有效的属性名称：数据属性和方法。"
   ]
  },
  {
   "cell_type": "code",
   "execution_count": 54,
   "id": "b7ca5ffb-683e-415a-b195-6ea49b3e87a4",
   "metadata": {},
   "outputs": [
    {
     "data": {
      "text/plain": [
       "(100, 12345)"
      ]
     },
     "execution_count": 54,
     "metadata": {},
     "output_type": "execute_result"
    }
   ],
   "source": [
    "x = MyClass() # 类的实例化\n",
    "x.i = 100\n",
    "x.i, MyClass.i"
   ]
  },
  {
   "cell_type": "code",
   "execution_count": 55,
   "id": "51644023-82e4-4873-96e8-3b6535a92729",
   "metadata": {},
   "outputs": [
    {
     "data": {
      "text/plain": [
       "100"
      ]
     },
     "execution_count": 55,
     "metadata": {},
     "output_type": "execute_result"
    }
   ],
   "source": [
    "x.j = 100\n",
    "x.j"
   ]
  },
  {
   "cell_type": "code",
   "execution_count": 56,
   "id": "0df6d2a7-d830-402b-b296-def45bf3db42",
   "metadata": {},
   "outputs": [],
   "source": [
    "del x.j # 新增的属性可以删除\n",
    "\n",
    "try:\n",
    "    del x.i\n",
    "except:\n",
    "     print(\"x的i属性是类定义时候就存在的，不能删除掉\")\n",
    "\n",
    "#del MyClass.i\n",
    "\n",
    "#MyClass.i"
   ]
  },
  {
   "cell_type": "code",
   "execution_count": 58,
   "id": "e6280923-b790-4aba-b320-a0485c49d5c9",
   "metadata": {},
   "outputs": [
    {
     "data": {
      "text/plain": [
       "(function, method)"
      ]
     },
     "execution_count": 58,
     "metadata": {},
     "output_type": "execute_result"
    }
   ],
   "source": [
    "type(MyClass.f), type(x.f) # 一个是函数，一个是方法"
   ]
  },
  {
   "cell_type": "code",
   "execution_count": null,
   "id": "f6d15bce-17d7-4b25-96f4-c787e2d11bbb",
   "metadata": {},
   "outputs": [],
   "source": [
    "xf = x.f # xf是方法对象\n",
    "print(xf())"
   ]
  },
  {
   "cell_type": "markdown",
   "id": "75a8a96e-56f3-4054-8d95-1c3e704cfa0f",
   "metadata": {},
   "source": [
    "方法的特殊之处就在于实例对象会作为函数的第一个参数被传入。 调用 x.f() 其实就相当于 MyClass.f(x)。 调用xf()也相当于MyClass.f(x)。"
   ]
  },
  {
   "cell_type": "markdown",
   "id": "97564c42-f6f8-479d-aa7f-869e5aa298e7",
   "metadata": {},
   "source": [
    "### 类和实例变量"
   ]
  },
  {
   "cell_type": "markdown",
   "id": "5a117d5b-2977-4498-aea2-b0cc246f3357",
   "metadata": {},
   "source": [
    "一般来说，实例变量用于每个实例的唯一数据，而类变量用于类的所有实例共享的属性和方法:"
   ]
  },
  {
   "cell_type": "code",
   "execution_count": 1,
   "id": "018e686b-38ed-455f-8f0a-d9944ae09133",
   "metadata": {},
   "outputs": [],
   "source": [
    "class Dog:\n",
    "    kind = 'canine'         # 类变量被所有实例所共享\n",
    "    def __init__(self, name):\n",
    "        self.name = name    # 实例变量为每个实例所独有\n",
    "\n",
    "d = Dog('Fido')\n",
    "e = Dog('Buddy')"
   ]
  },
  {
   "cell_type": "code",
   "execution_count": 2,
   "id": "c7bb7f76-bad2-4fb0-8ae4-48f56d6b2d65",
   "metadata": {},
   "outputs": [
    {
     "data": {
      "text/plain": [
       "'canine'"
      ]
     },
     "execution_count": 2,
     "metadata": {},
     "output_type": "execute_result"
    }
   ],
   "source": [
    "d.kind # # 被所有的 Dog 实例所共享"
   ]
  },
  {
   "cell_type": "code",
   "execution_count": 3,
   "id": "ae34bdf5-2a14-4063-8a68-de89336fa6c8",
   "metadata": {},
   "outputs": [
    {
     "data": {
      "text/plain": [
       "'canine'"
      ]
     },
     "execution_count": 3,
     "metadata": {},
     "output_type": "execute_result"
    }
   ],
   "source": [
    "e.kind # # 被所有的 Dog 实例所共享"
   ]
  },
  {
   "cell_type": "code",
   "execution_count": 7,
   "id": "b9bac6c1-10c7-45ce-b242-6db665295bb0",
   "metadata": {},
   "outputs": [
    {
     "name": "stdout",
     "output_type": "stream",
     "text": [
      "canine test\n"
     ]
    }
   ],
   "source": [
    "e.kind = \"test\"\n",
    "print(d.kind, e.kind) # 由于kind是imutable对象，每个对象都有一个副本，\n",
    "# 修改其中一个之后不会影响另外一个"
   ]
  },
  {
   "cell_type": "code",
   "execution_count": 5,
   "id": "e2829793-84fc-405d-97fa-3d501bb9de22",
   "metadata": {},
   "outputs": [
    {
     "data": {
      "text/plain": [
       "'Fido'"
      ]
     },
     "execution_count": 5,
     "metadata": {},
     "output_type": "execute_result"
    }
   ],
   "source": [
    "d.name # d所独有"
   ]
  },
  {
   "cell_type": "code",
   "execution_count": 6,
   "id": "4a243b4f-1d7c-4be9-8839-ae6dafaf13c2",
   "metadata": {},
   "outputs": [
    {
     "data": {
      "text/plain": [
       "'Buddy'"
      ]
     },
     "execution_count": 6,
     "metadata": {},
     "output_type": "execute_result"
    }
   ],
   "source": [
    "e.name # e所独有"
   ]
  },
  {
   "cell_type": "markdown",
   "id": "80eeed80-ff1a-4969-8ffa-362b7964e3b5",
   "metadata": {},
   "source": [
    "### 类变量是mutable对象时候\n",
    "\n",
    "当类变量是 [mutable](https://docs.python.org/zh-cn/3/glossary.html#term-mutable) 对象例如列表和字典的时候，需要特别小心。"
   ]
  },
  {
   "cell_type": "code",
   "execution_count": 8,
   "id": "f1e5dc54-ed59-4e86-bd22-d79a51477274",
   "metadata": {},
   "outputs": [],
   "source": [
    "class Dog:\n",
    "    tricks = []             # 类变量的错误用法\n",
    "    def __init__(self, name):\n",
    "        self.name = name\n",
    "\n",
    "    def add_trick(self, trick):\n",
    "        self.tricks.append(trick)"
   ]
  },
  {
   "cell_type": "code",
   "execution_count": 9,
   "id": "0fe995ad-7b1c-4982-b26c-ef433576edab",
   "metadata": {},
   "outputs": [
    {
     "data": {
      "text/plain": [
       "['roll over', 'play dead']"
      ]
     },
     "execution_count": 9,
     "metadata": {},
     "output_type": "execute_result"
    }
   ],
   "source": [
    "d = Dog('Fido')\n",
    "e = Dog('Buddy')\n",
    "d.add_trick('roll over')\n",
    "e.add_trick('play dead')\n",
    "d.tricks                # 非预期地被所有的 Dog 实例所共享"
   ]
  },
  {
   "cell_type": "markdown",
   "id": "2cd0ed18-9ae3-407c-8de8-8753f1707106",
   "metadata": {},
   "source": [
    "正确的类设计应该使用实例变量:"
   ]
  },
  {
   "cell_type": "code",
   "execution_count": 10,
   "id": "9f39d6f7-cbf9-4f45-927d-34ac70633336",
   "metadata": {},
   "outputs": [
    {
     "data": {
      "text/plain": [
       "['roll over']"
      ]
     },
     "execution_count": 10,
     "metadata": {},
     "output_type": "execute_result"
    }
   ],
   "source": [
    "class Dog:\n",
    "    def __init__(self, name):\n",
    "        self.name = name\n",
    "        self.tricks = []    # 为每个 Dog 实例新建一个空列表\n",
    "    def add_trick(self, trick):\n",
    "        self.tricks.append(trick)\n",
    "\n",
    "d = Dog('Fido')\n",
    "e = Dog('Buddy')\n",
    "d.add_trick('roll over')\n",
    "e.add_trick('play dead')\n",
    "d.tricks"
   ]
  },
  {
   "cell_type": "markdown",
   "id": "aaf79a2c-77f4-41ff-a8e4-8910c8dd8dc6",
   "metadata": {},
   "source": [
    "如果同样的属性名称同时出现在实例和类中，则属性查找会优先选择实例:"
   ]
  },
  {
   "cell_type": "code",
   "execution_count": 11,
   "id": "2ad0467a-8fe6-42ab-9c34-7995b2cf5508",
   "metadata": {},
   "outputs": [],
   "source": [
    "class Warehouse:\n",
    "   purpose = 'storage'\n",
    "   region = 'west'"
   ]
  },
  {
   "cell_type": "code",
   "execution_count": 12,
   "id": "2dd814d8-582f-401a-9a00-2f3f67afefba",
   "metadata": {},
   "outputs": [
    {
     "name": "stdout",
     "output_type": "stream",
     "text": [
      "storage west\n"
     ]
    }
   ],
   "source": [
    "w1 = Warehouse()\n",
    "print(w1.purpose, w1.region)"
   ]
  },
  {
   "cell_type": "code",
   "execution_count": 13,
   "id": "46674189-2279-4426-8ba5-19db2a8b30e9",
   "metadata": {},
   "outputs": [
    {
     "name": "stdout",
     "output_type": "stream",
     "text": [
      "storage east\n"
     ]
    }
   ],
   "source": [
    "w2 = Warehouse()\n",
    "w2.region = 'east'\n",
    "print(w2.purpose, w2.region)"
   ]
  },
  {
   "cell_type": "markdown",
   "id": "89d3248d-76f6-4ff1-9a3f-cfdca57ffc87",
   "metadata": {},
   "source": [
    "### 继承"
   ]
  },
  {
   "cell_type": "markdown",
   "id": "932e4306-05e4-4868-9173-2a3d5c0aa2b6",
   "metadata": {},
   "source": [
    "派生类定义的语法如下所示:\n",
    "\n",
    "```python\n",
    "class DerivedClassName(BaseClassName):\n",
    "    <语句-1>\n",
    "    .\n",
    "    .\n",
    "    .\n",
    "    <语句-N>\n",
    "```\n",
    "\n",
    "当基类定义在另一个模块中时:\n",
    "\n",
    "```python\n",
    "class DerivedClassName(modname.BaseClassName):\n",
    "```"
   ]
  },
  {
   "cell_type": "markdown",
   "id": "b5377abe-ce31-490f-b74d-1be1688e3351",
   "metadata": {},
   "source": [
    "Python有两个内置函数可被用于继承机制：\n",
    "\n",
    "- 使用 isinstance() 来检查一个实例的类型: isinstance(obj, int) 仅会在 obj.__class__ 为 int 或某个派生自 int 的类时为 True。\n",
    "\n",
    "- 使用 issubclass() 来检查类的继承关系: issubclass(bool, int) 为 True，因为 bool 是 int 的子类。 但是，issubclass(float, int) 为 False，因为 float 不是 int 的子类。"
   ]
  },
  {
   "cell_type": "markdown",
   "id": "46b12543-1135-4f5d-a683-402bb4c2de6d",
   "metadata": {},
   "source": [
    "####  多重继承\n",
    "\n",
    "Python 也支持一种多重继承。 带有多个基类的类定义语句如下所示:\n",
    "\n",
    "```python\n",
    "class DerivedClassName(Base1, Base2, Base3):\n",
    "    <语句-1>\n",
    "    .\n",
    "    .\n",
    "    .\n",
    "    <语句-N>\n",
    "```"
   ]
  },
  {
   "cell_type": "markdown",
   "id": "2a144f40-9a23-43d3-8ca3-17969aabfb5d",
   "metadata": {},
   "source": [
    "### 私有变量\n",
    "\n",
    "那种仅限从一个对象内部访问的“私有”实例变量在 Python 中并不存在。 但是，大多数 Python 代码都遵循这样一个约定：带有一个下划线的名称 (例如 _spam) 应该被当作是 API 的非公有部分 (无论它是函数、方法或是数据成员)。 这应当被视为一个实现细节，可能不经通知即加以改变。"
   ]
  },
  {
   "cell_type": "markdown",
   "id": "3c5c0e78-4385-4a03-aca9-cc2da655f8c7",
   "metadata": {},
   "source": [
    "任何形式为 __spam 的标识符（至少带有两个前缀下划线，至多一个后缀下划线）的文本将被替换为 _classname__spam，其中 classname 为去除了前缀下划线的当前类名称。 这种情况称为 **名称改写**。"
   ]
  },
  {
   "cell_type": "markdown",
   "id": "5404f708-755b-4a93-8f15-339a0d1df684",
   "metadata": {},
   "source": [
    "名称改写有助于让子类重写方法而不破坏类内方法调用。例如:"
   ]
  },
  {
   "cell_type": "code",
   "execution_count": 14,
   "id": "162d7fd7-3835-4c34-8f34-f4074d5bd533",
   "metadata": {},
   "outputs": [],
   "source": [
    "class Mapping:\n",
    "    def __init__(self, iterable):\n",
    "        self.items_list = []\n",
    "        self.__update(iterable)\n",
    "\n",
    "    def update(self, iterable):\n",
    "        for item in iterable:\n",
    "            self.items_list.append(item)\n",
    "\n",
    "    __update = update   # 原始 update() 方法的私有副本\n",
    "\n",
    "class MappingSubclass(Mapping):\n",
    "\n",
    "    def update(self, keys, values):\n",
    "        # 为 update() 提供了新的签名\n",
    "        # 但不会破坏 __init__()\n",
    "        for item in zip(keys, values):\n",
    "            self.items_list.append(item)"
   ]
  },
  {
   "cell_type": "markdown",
   "id": "1123cd24-5168-465c-bc86-9979e6f5b199",
   "metadata": {},
   "source": [
    "上面的示例即使在 MappingSubclass 引入了一个 __update 标识符的情况下也不会出错，因为它会在 Mapping 类中被替换为 _Mapping__update 而在 MappingSubclass 类中被替换为 _MappingSubclass__update。\n",
    "\n",
    "请注意，改写规则的设计主要是为了避免意外冲突；访问或修改被视为私有的变量仍然是可能的。这在特殊情况下甚至会很有用，例如在调试器中。"
   ]
  },
  {
   "cell_type": "markdown",
   "id": "635a3848-eaf8-43f5-8126-efd47e448c29",
   "metadata": {},
   "source": [
    "### 数据类"
   ]
  },
  {
   "cell_type": "markdown",
   "id": "c4124b08-9afd-4070-a4ac-3cbd9ebd8e70",
   "metadata": {},
   "source": [
    "通过 [dataclasses](https://docs.python.org/zh-cn/3/library/dataclasses.html#module-dataclasses) 可以实现类型C \"struct\"效果的类："
   ]
  },
  {
   "cell_type": "code",
   "execution_count": 16,
   "id": "fb563547-57e5-4acf-b774-ddec404a4337",
   "metadata": {},
   "outputs": [
    {
     "data": {
      "text/plain": [
       "('computer lab', 'john', 1000)"
      ]
     },
     "execution_count": 16,
     "metadata": {},
     "output_type": "execute_result"
    }
   ],
   "source": [
    "from dataclasses import dataclass\n",
    "\n",
    "@dataclass\n",
    "class Employee:\n",
    "    name: str\n",
    "    dept: str\n",
    "    salary: int\n",
    "\n",
    "john = Employee('john', 'computer lab', 1000)\n",
    "john.dept, john.name, john.salary"
   ]
  },
  {
   "cell_type": "markdown",
   "id": "3acdb14a-f708-43fe-9d2f-2e105a950f8c",
   "metadata": {},
   "source": [
    "### 迭代器"
   ]
  },
  {
   "cell_type": "markdown",
   "id": "dbe54884-25aa-4aeb-91c9-bbb5511c6581",
   "metadata": {},
   "source": [
    "大多数容器对象都可以使用 for 语句:"
   ]
  },
  {
   "cell_type": "code",
   "execution_count": 17,
   "id": "4b36e83d-4343-44d7-8cad-675c68b4d544",
   "metadata": {},
   "outputs": [
    {
     "name": "stdout",
     "output_type": "stream",
     "text": [
      "1\n",
      "2\n",
      "3\n",
      "1\n",
      "2\n",
      "3\n",
      "one\n",
      "two\n",
      "1\n",
      "2\n",
      "3\n"
     ]
    },
    {
     "ename": "FileNotFoundError",
     "evalue": "[Errno 2] No such file or directory: 'myfile.txt'",
     "output_type": "error",
     "traceback": [
      "\u001b[0;31m---------------------------------------------------------------------------\u001b[0m",
      "\u001b[0;31mFileNotFoundError\u001b[0m                         Traceback (most recent call last)",
      "Cell \u001b[0;32mIn[17], line 9\u001b[0m\n\u001b[1;32m      7\u001b[0m \u001b[38;5;28;01mfor\u001b[39;00m char \u001b[38;5;129;01min\u001b[39;00m \u001b[38;5;124m\"\u001b[39m\u001b[38;5;124m123\u001b[39m\u001b[38;5;124m\"\u001b[39m:\n\u001b[1;32m      8\u001b[0m     \u001b[38;5;28mprint\u001b[39m(char)\n\u001b[0;32m----> 9\u001b[0m \u001b[38;5;28;01mfor\u001b[39;00m line \u001b[38;5;129;01min\u001b[39;00m \u001b[38;5;28;43mopen\u001b[39;49m\u001b[43m(\u001b[49m\u001b[38;5;124;43m\"\u001b[39;49m\u001b[38;5;124;43mmyfile.txt\u001b[39;49m\u001b[38;5;124;43m\"\u001b[39;49m\u001b[43m)\u001b[49m:\n\u001b[1;32m     10\u001b[0m     \u001b[38;5;28mprint\u001b[39m(line, end\u001b[38;5;241m=\u001b[39m\u001b[38;5;124m'\u001b[39m\u001b[38;5;124m'\u001b[39m)\n",
      "File \u001b[0;32m/usr/local/lib/python3.10/dist-packages/IPython/core/interactiveshell.py:324\u001b[0m, in \u001b[0;36m_modified_open\u001b[0;34m(file, *args, **kwargs)\u001b[0m\n\u001b[1;32m    317\u001b[0m \u001b[38;5;28;01mif\u001b[39;00m file \u001b[38;5;129;01min\u001b[39;00m {\u001b[38;5;241m0\u001b[39m, \u001b[38;5;241m1\u001b[39m, \u001b[38;5;241m2\u001b[39m}:\n\u001b[1;32m    318\u001b[0m     \u001b[38;5;28;01mraise\u001b[39;00m \u001b[38;5;167;01mValueError\u001b[39;00m(\n\u001b[1;32m    319\u001b[0m         \u001b[38;5;124mf\u001b[39m\u001b[38;5;124m\"\u001b[39m\u001b[38;5;124mIPython won\u001b[39m\u001b[38;5;124m'\u001b[39m\u001b[38;5;124mt let you open fd=\u001b[39m\u001b[38;5;132;01m{\u001b[39;00mfile\u001b[38;5;132;01m}\u001b[39;00m\u001b[38;5;124m by default \u001b[39m\u001b[38;5;124m\"\u001b[39m\n\u001b[1;32m    320\u001b[0m         \u001b[38;5;124m\"\u001b[39m\u001b[38;5;124mas it is likely to crash IPython. If you know what you are doing, \u001b[39m\u001b[38;5;124m\"\u001b[39m\n\u001b[1;32m    321\u001b[0m         \u001b[38;5;124m\"\u001b[39m\u001b[38;5;124myou can use builtins\u001b[39m\u001b[38;5;124m'\u001b[39m\u001b[38;5;124m open.\u001b[39m\u001b[38;5;124m\"\u001b[39m\n\u001b[1;32m    322\u001b[0m     )\n\u001b[0;32m--> 324\u001b[0m \u001b[38;5;28;01mreturn\u001b[39;00m \u001b[43mio_open\u001b[49m\u001b[43m(\u001b[49m\u001b[43mfile\u001b[49m\u001b[43m,\u001b[49m\u001b[43m \u001b[49m\u001b[38;5;241;43m*\u001b[39;49m\u001b[43margs\u001b[49m\u001b[43m,\u001b[49m\u001b[43m \u001b[49m\u001b[38;5;241;43m*\u001b[39;49m\u001b[38;5;241;43m*\u001b[39;49m\u001b[43mkwargs\u001b[49m\u001b[43m)\u001b[49m\n",
      "\u001b[0;31mFileNotFoundError\u001b[0m: [Errno 2] No such file or directory: 'myfile.txt'"
     ]
    }
   ],
   "source": [
    "for element in [1, 2, 3]:\n",
    "    print(element)\n",
    "for element in (1, 2, 3):\n",
    "    print(element)\n",
    "for key in {'one':1, 'two':2}:\n",
    "    print(key)\n",
    "for char in \"123\":\n",
    "    print(char)\n",
    "for line in open(\"myfile.txt\"):\n",
    "    print(line, end='')"
   ]
  },
  {
   "cell_type": "markdown",
   "id": "b8d68853-6e9c-4ff2-a88c-51406b728a87",
   "metadata": {},
   "source": [
    "在幕后，for 语句会在容器对象上调用 iter()。 该函数返回一个定义了 __next__() 方法的迭代器对象，此方法将逐一访问容器中的元素。 当元素用尽时，__next__() 将引发 StopIteration 异常来通知终止 for 循环。 你可以使用 next() 内置函数来调用 __next__() 方法，下面例子显示它的运作方式："
   ]
  },
  {
   "cell_type": "code",
   "execution_count": 18,
   "id": "00b00493-0a0e-44b1-89bb-e84cd8f0c519",
   "metadata": {},
   "outputs": [],
   "source": [
    "s = 'abc'\n",
    "it = iter(s)"
   ]
  },
  {
   "cell_type": "code",
   "execution_count": 19,
   "id": "c1d46f3d-0d99-4b11-9abb-b800d030a773",
   "metadata": {},
   "outputs": [
    {
     "data": {
      "text/plain": [
       "'a'"
      ]
     },
     "execution_count": 19,
     "metadata": {},
     "output_type": "execute_result"
    }
   ],
   "source": [
    "next(it)"
   ]
  },
  {
   "cell_type": "code",
   "execution_count": 20,
   "id": "d64acf79-b5d3-453b-93f2-b7cc827b17a9",
   "metadata": {},
   "outputs": [
    {
     "data": {
      "text/plain": [
       "'b'"
      ]
     },
     "execution_count": 20,
     "metadata": {},
     "output_type": "execute_result"
    }
   ],
   "source": [
    "next(it)"
   ]
  },
  {
   "cell_type": "code",
   "execution_count": 21,
   "id": "26bd601d-884f-4a96-888d-09f52b9e6869",
   "metadata": {},
   "outputs": [
    {
     "data": {
      "text/plain": [
       "'c'"
      ]
     },
     "execution_count": 21,
     "metadata": {},
     "output_type": "execute_result"
    }
   ],
   "source": [
    "next(it)"
   ]
  },
  {
   "cell_type": "code",
   "execution_count": 22,
   "id": "bbb19a0f-d060-46c8-adcd-db7053b27ea0",
   "metadata": {},
   "outputs": [
    {
     "ename": "StopIteration",
     "evalue": "",
     "output_type": "error",
     "traceback": [
      "\u001b[0;31m---------------------------------------------------------------------------\u001b[0m",
      "\u001b[0;31mStopIteration\u001b[0m                             Traceback (most recent call last)",
      "Cell \u001b[0;32mIn[22], line 1\u001b[0m\n\u001b[0;32m----> 1\u001b[0m \u001b[38;5;28;43mnext\u001b[39;49m\u001b[43m(\u001b[49m\u001b[43mit\u001b[49m\u001b[43m)\u001b[49m\n",
      "\u001b[0;31mStopIteration\u001b[0m: "
     ]
    }
   ],
   "source": [
    "next(it)"
   ]
  },
  {
   "cell_type": "code",
   "execution_count": 23,
   "id": "482db01b-1c8c-4971-8d83-e71eac203715",
   "metadata": {},
   "outputs": [],
   "source": [
    "## 自定义一个迭代器\n",
    "\n",
    "class Reverse:\n",
    "    \"\"\"对一个序列执行反向循环的迭代器。\"\"\"\n",
    "    def __init__(self, data):\n",
    "        self.data = data\n",
    "        self.index = len(data)\n",
    "\n",
    "    def __iter__(self):\n",
    "        return self\n",
    "\n",
    "    def __next__(self):\n",
    "        if self.index == 0:\n",
    "            raise StopIteration\n",
    "        self.index = self.index - 1\n",
    "        return self.data[self.index]"
   ]
  },
  {
   "cell_type": "code",
   "execution_count": 24,
   "id": "a06b8be9-1bcf-416f-941f-2ed8a48a4f27",
   "metadata": {},
   "outputs": [
    {
     "data": {
      "text/plain": [
       "<__main__.Reverse at 0x7f43b1d44c40>"
      ]
     },
     "execution_count": 24,
     "metadata": {},
     "output_type": "execute_result"
    }
   ],
   "source": [
    "rev = Reverse('spam')\n",
    "iter(rev)"
   ]
  },
  {
   "cell_type": "code",
   "execution_count": 25,
   "id": "1c9cff70-2661-44ea-906c-eb8d9a4f3646",
   "metadata": {},
   "outputs": [
    {
     "name": "stdout",
     "output_type": "stream",
     "text": [
      "m\n",
      "a\n",
      "p\n",
      "s\n"
     ]
    }
   ],
   "source": [
    "for char in rev:\n",
    "    print(char)"
   ]
  },
  {
   "cell_type": "markdown",
   "id": "d9746cd8-cc11-4018-8884-3e2a09b1a159",
   "metadata": {},
   "source": [
    "### 生成器\n",
    "\n",
    "生成器 是一个用于创建迭代器的简单而强大的工具。 它们的写法类似于标准的函数，但当它们要返回数据时会使用 yield 语句。 每次在生成器上调用 next() 时，它会从上次离开的位置恢复执行（它会记住上次执行语句时的所有数据值）。 一个显示如何非常容易地创建生成器的示例如下:"
   ]
  },
  {
   "cell_type": "code",
   "execution_count": 26,
   "id": "2d83ffd8-f958-46c5-bf50-cde4473be7d8",
   "metadata": {},
   "outputs": [],
   "source": [
    "def reverse(data):\n",
    "    for index in range(len(data)-1, -1, -1):\n",
    "        yield data[index]"
   ]
  },
  {
   "cell_type": "code",
   "execution_count": 27,
   "id": "ea9a7ee3-ee8d-4464-94c3-a029c016125e",
   "metadata": {},
   "outputs": [
    {
     "name": "stdout",
     "output_type": "stream",
     "text": [
      "f\n",
      "l\n",
      "o\n",
      "g\n"
     ]
    }
   ],
   "source": [
    "for char in reverse('golf'):\n",
    "    print(char)"
   ]
  },
  {
   "cell_type": "markdown",
   "id": "e8831431-6c51-43d2-9a7b-f9b221645072",
   "metadata": {},
   "source": [
    "可以用生成器来完成的任何功能同样可以通过基于类的迭代器来完成。 但生成器的写法更为紧凑，因为它会自动创建 __iter__() 和 __next__() 方法。\n",
    "\n",
    "另一个关键特性在于局部变量和执行状态会在每次调用之间自动保存。 这使得该函数相比使用 self.index 和 self.data 这种实例变量的方式更易编写且更为清晰。\n",
    "\n",
    "除了会自动创建方法和保存程序状态，当生成器终结时，它们还会自动引发 StopIteration。 这些特性结合在一起，使得创建迭代器能与编写常规函数一样容易。"
   ]
  },
  {
   "cell_type": "markdown",
   "id": "91c91265-5d4a-43c4-b717-f4f2995efb62",
   "metadata": {},
   "source": [
    "#### 生成器表达式"
   ]
  },
  {
   "cell_type": "markdown",
   "id": "a858177b-689e-460f-93d3-ff078c4a04b6",
   "metadata": {},
   "source": [
    "某些简单的生成器可以写成简洁的表达式代码，所用语法类似列表推导式，但外层为圆括号而非方括号。 这种表达式被设计用于生成器将立即被外层函数所使用的情况。 生成器表达式相比完整的生成器更紧凑但较不灵活，相比等效的列表推导式则更为节省内存。"
   ]
  },
  {
   "cell_type": "code",
   "execution_count": 28,
   "id": "e18da0cf-9270-497d-be49-10d696c1390c",
   "metadata": {},
   "outputs": [
    {
     "data": {
      "text/plain": [
       "285"
      ]
     },
     "execution_count": 28,
     "metadata": {},
     "output_type": "execute_result"
    }
   ],
   "source": [
    "sum(i*i for i in range(10)) # 平方和"
   ]
  },
  {
   "cell_type": "code",
   "execution_count": 29,
   "id": "b37b189c-02df-45ee-b6c5-09a8db1033bc",
   "metadata": {},
   "outputs": [
    {
     "data": {
      "text/plain": [
       "260"
      ]
     },
     "execution_count": 29,
     "metadata": {},
     "output_type": "execute_result"
    }
   ],
   "source": [
    "xvec = [10, 20, 30]\n",
    "yvec = [7, 5, 3]\n",
    "sum(x*y for x,y in zip(xvec, yvec))  # 点乘"
   ]
  },
  {
   "cell_type": "code",
   "execution_count": 31,
   "id": "ae440fbb-7777-408a-b013-ca6a3488afe8",
   "metadata": {},
   "outputs": [
    {
     "data": {
      "text/plain": [
       "['f', 'l', 'o', 'g']"
      ]
     },
     "execution_count": 31,
     "metadata": {},
     "output_type": "execute_result"
    }
   ],
   "source": [
    "data = 'golf'\n",
    "list(data[i] for i in range(len(data)-1, -1, -1))"
   ]
  },
  {
   "cell_type": "code",
   "execution_count": 30,
   "id": "9dfdaa73-d38b-4619-98b2-5ed6dfea64a3",
   "metadata": {},
   "outputs": [
    {
     "ename": "NameError",
     "evalue": "name 'page' is not defined",
     "output_type": "error",
     "traceback": [
      "\u001b[0;31m---------------------------------------------------------------------------\u001b[0m",
      "\u001b[0;31mNameError\u001b[0m                                 Traceback (most recent call last)",
      "Cell \u001b[0;32mIn[30], line 1\u001b[0m\n\u001b[0;32m----> 1\u001b[0m nique_words \u001b[38;5;241m=\u001b[39m \u001b[38;5;28mset\u001b[39m(word \u001b[38;5;28;01mfor\u001b[39;00m line \u001b[38;5;129;01min\u001b[39;00m \u001b[43mpage\u001b[49m  \u001b[38;5;28;01mfor\u001b[39;00m word \u001b[38;5;129;01min\u001b[39;00m line\u001b[38;5;241m.\u001b[39msplit())\n",
      "\u001b[0;31mNameError\u001b[0m: name 'page' is not defined"
     ]
    }
   ],
   "source": [
    "nique_words = set(word for line in page  for word in line.split())"
   ]
  },
  {
   "cell_type": "code",
   "execution_count": 32,
   "id": "c1d673f7-b9c7-43a2-b01b-3ceb8acf9bc7",
   "metadata": {},
   "outputs": [
    {
     "ename": "NameError",
     "evalue": "name 'graduates' is not defined",
     "output_type": "error",
     "traceback": [
      "\u001b[0;31m---------------------------------------------------------------------------\u001b[0m",
      "\u001b[0;31mNameError\u001b[0m                                 Traceback (most recent call last)",
      "Cell \u001b[0;32mIn[32], line 1\u001b[0m\n\u001b[0;32m----> 1\u001b[0m valedictorian \u001b[38;5;241m=\u001b[39m \u001b[38;5;28mmax\u001b[39m((student\u001b[38;5;241m.\u001b[39mgpa, student\u001b[38;5;241m.\u001b[39mname) \u001b[38;5;28;01mfor\u001b[39;00m student \u001b[38;5;129;01min\u001b[39;00m \u001b[43mgraduates\u001b[49m)\n",
      "\u001b[0;31mNameError\u001b[0m: name 'graduates' is not defined"
     ]
    }
   ],
   "source": [
    "valedictorian = max((student.gpa, student.name) for student in graduates)"
   ]
  },
  {
   "cell_type": "code",
   "execution_count": null,
   "id": "5c0eab92-c68d-4ade-b4c9-ad95904c3a71",
   "metadata": {},
   "outputs": [],
   "source": []
  }
 ],
 "metadata": {
  "kernelspec": {
   "display_name": "Python 3 (ipykernel)",
   "language": "python",
   "name": "python3"
  },
  "language_info": {
   "codemirror_mode": {
    "name": "ipython",
    "version": 3
   },
   "file_extension": ".py",
   "mimetype": "text/x-python",
   "name": "python",
   "nbconvert_exporter": "python",
   "pygments_lexer": "ipython3",
   "version": "3.10.12"
  }
 },
 "nbformat": 4,
 "nbformat_minor": 5
}
