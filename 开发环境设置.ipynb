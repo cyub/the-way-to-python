{
 "cells": [
  {
   "cell_type": "markdown",
   "id": "cbb16797-ae83-497a-92fe-c71ebf53d421",
   "metadata": {
    "editable": true,
    "slideshow": {
     "slide_type": ""
    },
    "tags": []
   },
   "source": [
    "# 开发环境设置"
   ]
  },
  {
   "cell_type": "markdown",
   "id": "b2bc1ef3-0834-4c6b-a688-a1752a8debcf",
   "metadata": {},
   "source": [
    "## Python的交互模式"
   ]
  },
  {
   "cell_type": "markdown",
   "id": "5bd8a6a1-d79a-40f3-8203-3e91f46ca6f0",
   "metadata": {},
   "source": [
    "```sh\n",
    "python # 进入交互模式\n",
    "\n",
    "python -c command [arg] ... # 执行 command 中的语句，相当于 shell 的 -c 选项\n",
    "\n",
    "python -m module [arg] ... #  将模块当作脚本使用，运行 module 中的 main 函数\n",
    "```"
   ]
  },
  {
   "cell_type": "markdown",
   "id": "dcb7e368-9447-4960-aeed-f86255dce2be",
   "metadata": {},
   "source": [
    "### 传入参数"
   ]
  },
  {
   "cell_type": "markdown",
   "id": "81979caf-3ccf-498d-9b0b-9a2d139e27bd",
   "metadata": {},
   "source": [
    "Pythont通过sys模块读取命令行参数，读取到的命令行参数保存到sys模块的argv变量中。使用 -c command 时，sys.argv[0] 是 '-c'。如果使用选项 -m module，sys.argv[0] 就是包含目录的模块全名。解释器不处理 -c command 或 -m module 之后的选项，而是直接留在 sys.argv 中由命令或模块来处理。"
   ]
  },
  {
   "cell_type": "markdown",
   "id": "af1587bd-acb4-4d41-b559-6dafb9118557",
   "metadata": {},
   "source": [
    "## Python源文件编码"
   ]
  },
  {
   "cell_type": "markdown",
   "id": "d9821ba0-81e5-4274-8536-115c6cad76dd",
   "metadata": {},
   "source": [
    "默认情况下，Python 源码文件的编码是 UTF-8。\n",
    "如果不使用默认编码，则要声明文件的编码，文件的 第一 行要写成特殊注释。句法如下：\n",
    "\n",
    "```py\n",
    "# -*- coding: encoding -*-\n",
    "```\n",
    "\n",
    "其中，encoding 可以是 Python 支持的任意一种 [codecs](https://docs.python.org/zh-cn/3/library/codecs.html#module-codecs)。\n",
    "\n",
    "比如显示指定使用utf-8编码：\n",
    "\n",
    "```py\n",
    "# -*- coding: utf-8 -*-\n",
    "```\n",
    "\n",
    "\n",
    "当python文件设置为可执行文件时候，源码第一行应该是 [UNIX \"shebang\"](https://docs.python.org/zh-cn/3/tutorial/appendix.html#tut-scripts) 行 开头：\n",
    "\n",
    "```py\n",
    "#!/usr/bin/env python3\n",
    "# -*- coding: cp1252 -*-\n",
    "```"
   ]
  },
  {
   "cell_type": "markdown",
   "id": "22d7f413-aed9-460b-b902-4c450f5f6e1b",
   "metadata": {},
   "source": [
    "## 开发环境设置\n",
    "\n",
    "\n",
    "Python 的 `venv` 模块是一个内置的库，用于创建虚拟环境。虚拟环境允许你为不同的项目创建隔离的 Python 环境，这样可以避免不同项目之间的依赖包冲突。以下是如何使用 `venv` 模块创建和使用虚拟环境的步骤："
   ]
  },
  {
   "cell_type": "markdown",
   "id": "5544a8ba-166c-49d5-9662-7a1676fbb913",
   "metadata": {},
   "source": [
    "### 1. 创建虚拟环境"
   ]
  },
  {
   "cell_type": "markdown",
   "id": "5760ddd6-08a2-4466-95f8-9235d7e6892e",
   "metadata": {},
   "source": [
    "1. 打开命令行界面（在 Windows 上是命令提示符或 PowerShell，在 macOS 或 Linux 上是终端）。\n",
    "2. 导航到你想要创建虚拟环境的项目目录。\n",
    "3. 运行以下命令来创建一个新的虚拟环境目录：\n",
    "\n",
    "   ```bash\n",
    "   python -m venv myenv\n",
    "   ```\n",
    "\n",
    "   这里 `myenv` 是你为虚拟环境指定的目录名。你可以将其替换为任何你喜欢的名称。"
   ]
  },
  {
   "cell_type": "markdown",
   "id": "e84e5953-c2b2-48d3-aa8d-58c949a38bc6",
   "metadata": {},
   "source": [
    "### 2. 激活虚拟环境"
   ]
  },
  {
   "cell_type": "markdown",
   "id": "e096a2d3-870d-4e21-807b-31f723f93565",
   "metadata": {},
   "source": [
    "\n",
    "创建虚拟环境后，你需要激活它才能开始使用。激活虚拟环境的方法取决于你的操作系统。\n",
    "\n",
    "- **在 Windows 上**：\n",
    "\n",
    "  ```bash\n",
    "  .\\myenv\\Scripts\\activate\n",
    "  ```\n",
    "\n",
    "- **在 macOS 和 Linux 上**：\n",
    "\n",
    "  ```bash\n",
    "  source myenv/bin/activate\n",
    "  ```\n",
    "\n",
    "  如果你使用的是 `fish` shell，你可能需要运行：\n",
    "\n",
    "  ```bash\n",
    "  source myenv/bin/activate.fish\n",
    "  ```"
   ]
  },
  {
   "cell_type": "markdown",
   "id": "fe3eb350-11a1-49ca-a622-bb9be6c8d7de",
   "metadata": {},
   "source": [
    "### 3. 安装依赖包"
   ]
  },
  {
   "cell_type": "markdown",
   "id": "e21d40cb-23db-43ba-acd8-342cbb2b18b9",
   "metadata": {},
   "source": [
    "一旦虚拟环境被激活，你可以使用 `pip` 来安装项目所需的依赖包，这些包将只安装在虚拟环境中，而不会影响系统中的其他 Python 项目。\n",
    "\n",
    "```bash\n",
    "pip install package_name\n",
    "```"
   ]
  },
  {
   "cell_type": "markdown",
   "id": "17629d76-8ae5-486d-8f53-dfd009128a07",
   "metadata": {},
   "source": [
    "### 4. 退出虚拟环境"
   ]
  },
  {
   "cell_type": "markdown",
   "id": "f2ae3795-667d-4551-8a03-cc07bf229329",
   "metadata": {},
   "source": [
    "\n",
    "当你完成工作并想要退出虚拟环境时，可以运行以下命令：\n",
    "\n",
    "```bash\n",
    "deactivate\n",
    "```\n",
    "\n",
    "这将返回到系统默认的 Python 环境。"
   ]
  },
  {
   "cell_type": "markdown",
   "id": "63bead4c-9b1c-4ca1-a520-d30ba3b0bcf9",
   "metadata": {},
   "source": [
    "### 5. 删除虚拟环境"
   ]
  },
  {
   "cell_type": "markdown",
   "id": "5aa5b245-126b-4f22-846e-130964cf1c22",
   "metadata": {},
   "source": [
    "如果你不再需要虚拟环境，可以删除整个虚拟环境目录。这可以通过以下命令完成：\n",
    "\n",
    "```bash\n",
    "rm -rf myenv/\n",
    "```"
   ]
  },
  {
   "cell_type": "markdown",
   "id": "a83824af-b9ac-46d2-8807-6d6ed97f0de2",
   "metadata": {},
   "source": [
    "### 注意事项"
   ]
  },
  {
   "cell_type": "markdown",
   "id": "67ab650d-3c7e-48b6-aff7-366da8da1055",
   "metadata": {},
   "source": [
    "- 确保你使用的 Python 版本支持 `venv` 模块。`venv` 从 Python 3.3 版本开始成为标准库的一部分。\n",
    "- 如果你的系统中同时安装了 Python 2 和 Python 3，确保使用 `python3` 命令来创建和管理虚拟环境。\n",
    "- 在虚拟环境中，你可以使用 `python` 或 `python3` 命令来运行 Python 解释器，这取决于虚拟环境是如何配置的。\n",
    "- Visual Studio Code 的 Python 扩展也支持虚拟环境，因此你可以在编辑器中直接使用虚拟环境中的 Python。你只需要在编辑器右下角选择正确的 Python 环境。\n",
    "\n",
    "通过使用 `venv` 模块，你可以轻松地为每个 Python 项目创建和管理独立的环境，这有助于维护项目的依赖关系并避免潜在的冲突。"
   ]
  },
  {
   "cell_type": "code",
   "execution_count": null,
   "id": "d6e9cf21-e13e-45a3-9480-54000afcf486",
   "metadata": {},
   "outputs": [],
   "source": []
  }
 ],
 "metadata": {
  "kernelspec": {
   "display_name": "Python 3 (ipykernel)",
   "language": "python",
   "name": "python3"
  },
  "language_info": {
   "codemirror_mode": {
    "name": "ipython",
    "version": 3
   },
   "file_extension": ".py",
   "mimetype": "text/x-python",
   "name": "python",
   "nbconvert_exporter": "python",
   "pygments_lexer": "ipython3",
   "version": "3.10.12"
  }
 },
 "nbformat": 4,
 "nbformat_minor": 5
}
