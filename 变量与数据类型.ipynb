{
 "cells": [
  {
   "cell_type": "markdown",
   "id": "a829a102-f7de-4dd4-82c9-c0942f65b9a6",
   "metadata": {
    "editable": true,
    "slideshow": {
     "slide_type": ""
    },
    "tags": []
   },
   "source": [
    "# 变量与数据类型\n",
    "\n",
    "- [内置类型](https://docs.python.org/zh-cn/3/library/stdtypes.html#typesseq)"
   ]
  },
  {
   "cell_type": "markdown",
   "id": "0c4f5abe-20c1-4b64-8050-e9886ef47e7c",
   "metadata": {},
   "source": [
    "## 变量"
   ]
  },
  {
   "cell_type": "markdown",
   "id": "f8763a79-00f2-486f-90b1-e9884f8523d0",
   "metadata": {},
   "source": [
    "在 Python 中，变量是保存值的命名存储位置。您可以将变量视为存储值的容器。要在 Python 中创建变量，只需为变量选择一个名称并使用等号 (=) 为该变量赋值。例如，以下代码创建一个名为 x 的变量并为其分配值 5："
   ]
  },
  {
   "cell_type": "code",
   "execution_count": 1,
   "id": "ad85a651-29b0-4f55-94b2-f4b5fad1c4f0",
   "metadata": {},
   "outputs": [
    {
     "name": "stdout",
     "output_type": "stream",
     "text": [
      "5\n"
     ]
    }
   ],
   "source": [
    "x = 5\n",
    "print(x)"
   ]
  },
  {
   "cell_type": "markdown",
   "id": "38ae46ff-1052-4a5f-b3ee-319df30b92e9",
   "metadata": {},
   "source": [
    "因为Python 是动态类型的，变量不需要指定类型。这意味着如果我们想将 某个变量 作为其他类型重用，在Python 不会有任何问题。如："
   ]
  },
  {
   "cell_type": "code",
   "execution_count": 2,
   "id": "b2ef2fe4-1e11-4b47-a54a-87abaacb6342",
   "metadata": {},
   "outputs": [
    {
     "name": "stdout",
     "output_type": "stream",
     "text": [
      "5 <class 'int'>\n",
      "hello <class 'str'>\n"
     ]
    }
   ],
   "source": [
    "x = 5\n",
    "print(x, type(x))\n",
    "x = \"hello\"\n",
    "print(x, type(x))"
   ]
  },
  {
   "cell_type": "markdown",
   "id": "164fb02e-59d8-4220-bd89-2ac7ccd3f439",
   "metadata": {},
   "source": [
    "## 整数类型"
   ]
  },
  {
   "cell_type": "code",
   "execution_count": 3,
   "id": "936eb769-abf1-419b-8120-8c3900bfec42",
   "metadata": {},
   "outputs": [
    {
     "name": "stdout",
     "output_type": "stream",
     "text": [
      "2\n",
      "<class 'int'>\n"
     ]
    }
   ],
   "source": [
    "x = 2 # 整数类型\n",
    "print(x)\n",
    "print(type(x))"
   ]
  },
  {
   "cell_type": "markdown",
   "id": "eb6783f2-f68a-4644-87a8-cc584d3d28d2",
   "metadata": {},
   "source": [
    "## 浮点类型"
   ]
  },
  {
   "cell_type": "code",
   "execution_count": 4,
   "id": "54c657e3-2122-470c-929c-cc752a921dc1",
   "metadata": {},
   "outputs": [
    {
     "name": "stdout",
     "output_type": "stream",
     "text": [
      "2 3.0 5.0\n",
      "<class 'int'> <class 'float'> <class 'float'>\n"
     ]
    }
   ],
   "source": [
    "x = 2 # 整数型\n",
    "y = 3.0 # 浮点型\n",
    "z = x + y # 浮点型\n",
    "print(x, y, z)\n",
    "print(type(x), type(y), type(z))"
   ]
  },
  {
   "cell_type": "markdown",
   "id": "690df594-fb76-43ef-bc84-f15ede4e8c7e",
   "metadata": {},
   "source": [
    "## 布尔类型"
   ]
  },
  {
   "cell_type": "code",
   "execution_count": 5,
   "id": "5a01aa99-50b6-4017-b648-f45970348223",
   "metadata": {},
   "outputs": [
    {
     "name": "stdout",
     "output_type": "stream",
     "text": [
      "True False\n",
      "True\n",
      "<class 'bool'>\n",
      "2\n"
     ]
    }
   ],
   "source": [
    "x = True # 布尔类型\n",
    "y = not x\n",
    "print(x, y)\n",
    "y = not y\n",
    "print(y)\n",
    "\n",
    "print(type(x))\n",
    "print(x + y) # 布尔类型隐式转换成整数类型，进行数学计算"
   ]
  },
  {
   "cell_type": "markdown",
   "id": "c74f8c36-b0bb-400e-967a-89f761a68033",
   "metadata": {},
   "source": [
    "## 字符串\n",
    "\n",
    "python中字符串用成对的单引号 ('...') 或双引号 (\"...\") 来标示，两者完全等同。"
   ]
  },
  {
   "cell_type": "code",
   "execution_count": 6,
   "id": "b5aa1759-1d2c-481a-aa0b-1dd78c512540",
   "metadata": {},
   "outputs": [
    {
     "name": "stdout",
     "output_type": "stream",
     "text": [
      "hello world\n",
      "<class 'str'> <class 'str'>\n",
      "hello world\n"
     ]
    }
   ],
   "source": [
    "s = \"hello\" # s是字符串，hello 是字符串字面值\n",
    "w = 'world'\n",
    "print(s, w)\n",
    "print(type(s), type(w))\n",
    "print(s + \" \" +  w) # 字符串拼接用+符号\n"
   ]
  },
  {
   "cell_type": "code",
   "execution_count": 7,
   "id": "b631a76e-ea1d-4bc0-935d-aa8aef5ff26c",
   "metadata": {},
   "outputs": [
    {
     "name": "stdout",
     "output_type": "stream",
     "text": [
      "First line.\n",
      "Second line.\n"
     ]
    }
   ],
   "source": [
    "s = 'First line.\\nSecond line.'  # \\n 表示换行符\n",
    "print(s) # \\n将会转义"
   ]
  },
  {
   "cell_type": "markdown",
   "id": "5fe173ce-aafb-4871-8ff4-3bee0cd217cb",
   "metadata": {},
   "source": [
    "字符串前加`r`前缀，表示为原始字符串(raw的首字母)，那么字符串中加\\前缀进行的转义的字符，将表示原始字符串含义。"
   ]
  },
  {
   "cell_type": "code",
   "execution_count": 8,
   "id": "6961495f-4ef0-4f38-acce-3c94e167fdd7",
   "metadata": {},
   "outputs": [
    {
     "name": "stdout",
     "output_type": "stream",
     "text": [
      "don\\'t. First line.\\nSecond line.\n"
     ]
    }
   ],
   "source": [
    "r = r'don\\'t. First line.\\nSecond line.'\n",
    "print(r)"
   ]
  },
  {
   "cell_type": "markdown",
   "id": "a1862967-4f1b-4732-80b6-1e57719f10e9",
   "metadata": {},
   "source": [
    "字符串字面值可以包含多行。 一种实现方式是使用三重引号：\"\"\"...\"\"\" 或 '''...'''。 **字符串中将自动包括行结束符，但也可以在换行的地方添加一个 \\ 来避免此情况**。"
   ]
  },
  {
   "cell_type": "code",
   "execution_count": 9,
   "id": "bad24a9f-415c-4051-a5a9-767184a8968a",
   "metadata": {},
   "outputs": [
    {
     "name": "stdout",
     "output_type": "stream",
     "text": [
      "Usage: thingy [OPTIONS]\n",
      "     -h                        Display this usage message\n",
      "     -H hostname               Hostname to connect to\n",
      "\n"
     ]
    }
   ],
   "source": [
    "print(\"\"\"\\\n",
    "Usage: thingy [OPTIONS]\n",
    "     -h                        Display this usage message\n",
    "     -H hostname               Hostname to connect to\n",
    "\"\"\")"
   ]
  },
  {
   "cell_type": "markdown",
   "id": "99c73ca6-4274-49f7-8848-0efab36b0f00",
   "metadata": {},
   "source": [
    "注意：上面输出中开始的换行符没有被包括在内。"
   ]
  },
  {
   "cell_type": "markdown",
   "id": "b506d13b-59cf-4631-9245-d725e2840fc7",
   "metadata": {},
   "source": [
    "相邻的两个或多个 字符串字面值 （引号标注的字符）会自动合并："
   ]
  },
  {
   "cell_type": "code",
   "execution_count": 10,
   "id": "b3a21c4b-91c9-4b7e-8914-8a8d9a9a21f6",
   "metadata": {},
   "outputs": [
    {
     "name": "stdout",
     "output_type": "stream",
     "text": [
      "Python\n",
      "Put several strings within parentheses to have them joined together.\n"
     ]
    }
   ],
   "source": [
    "s = 'Py' \"thon\"\n",
    "print(s)\n",
    "\n",
    "text = ('Put several strings within parentheses '\n",
    "        'to have them joined together.')\n",
    "\n",
    "print(text)"
   ]
  },
  {
   "cell_type": "markdown",
   "id": "87fbb23d-4fef-4db6-b3dc-4ef407cc2daf",
   "metadata": {},
   "source": [
    "## 类型转换"
   ]
  },
  {
   "cell_type": "code",
   "execution_count": 11,
   "id": "2b459d75-92fe-4549-bfd2-0fdc02faeca2",
   "metadata": {},
   "outputs": [
    {
     "name": "stdout",
     "output_type": "stream",
     "text": [
      "5.0\n"
     ]
    }
   ],
   "source": [
    "# 整数转换成浮点类型\n",
    "\n",
    "x = 5\n",
    "y = float(x)\n",
    "print(y)"
   ]
  },
  {
   "cell_type": "code",
   "execution_count": 12,
   "id": "5bdb09f4-ab23-4a99-a4e1-e42936646a6c",
   "metadata": {},
   "outputs": [
    {
     "name": "stdout",
     "output_type": "stream",
     "text": [
      "3\n"
     ]
    }
   ],
   "source": [
    "# 浮点类型转换成整数类型\n",
    "\n",
    "x = 3.14\n",
    "y = int(x)\n",
    "\n",
    "print(y)"
   ]
  },
  {
   "cell_type": "code",
   "execution_count": 13,
   "id": "cb969b0a-66db-470c-9153-b13fe1748f8f",
   "metadata": {},
   "outputs": [
    {
     "name": "stdout",
     "output_type": "stream",
     "text": [
      "5\n",
      "3.14\n"
     ]
    }
   ],
   "source": [
    "# numberic characters转换成整数或者浮点类型\n",
    "x = \"5\"\n",
    "y = int(x) \n",
    "print(y)\n",
    "\n",
    "z = \"3.14\"\n",
    "y = float(z) # int(z)尝试转换成整数类型，会发生异常\n",
    "print(y)\n",
    "\n",
    "x = \"hello\"\n",
    "# y = int(x) 将非数字字符串转换成数字类型，会发生异常"
   ]
  },
  {
   "cell_type": "code",
   "execution_count": 14,
   "id": "51100a70-ee5f-4e8a-a8ac-610fd0b549b9",
   "metadata": {},
   "outputs": [
    {
     "name": "stdout",
     "output_type": "stream",
     "text": [
      "3 <class 'str'>\n",
      "3.14 <class 'str'>\n"
     ]
    }
   ],
   "source": [
    "# 数字转字符串\n",
    "x = 3\n",
    "y = str(x)\n",
    "print(y, type(y))\n",
    "\n",
    "y = 3.14\n",
    "z = str(y)\n",
    "print(z, type(z))"
   ]
  },
  {
   "cell_type": "markdown",
   "id": "e2cddc14-248a-4aaf-b068-87b88b78457c",
   "metadata": {},
   "source": [
    "## 基本操作符"
   ]
  },
  {
   "cell_type": "markdown",
   "id": "cf3a11e9-ab95-4192-833f-ef2325345986",
   "metadata": {},
   "source": [
    "在Python中，有不同类型的**操作符(operators)**（特殊符号）对不同的值进行运算。一些基本运算符包括：\n",
    "\n",
    "操作符 | 作用 | 类别\n",
    "--- | --- | ---\n",
    "\\+ | 加法 | 算术运算符\n",
    "\\- | 减法 |\n",
    "\\* | 乘法 |\n",
    "\\/ | 除法 |\n",
    "\\/\\/ \t| floor division\n",
    "\\*\\* | 指数(to the power of) |\n",
    "= | 赋值 | 赋值运算符\n",
    "+= | 相加然后赋值 |\n",
    "-= | 相减然后赋值 |\n",
    "*= | 相乘然后赋值 |\n",
    "== | 相等 | 比较运算符\n",
    "!= | 不等于\n",
    "< | 小于\n",
    "<= | 小于等于\n",
    "\\> | 大于\n",
    "\\>= | 大于等于\n",
    "not | not |布尔运算符\n",
    "and | 与\n",
    "or | 或\n",
    "& | Logical And | Bitwise Operators\n",
    "| | Logical OR\n",
    "^ |  \tXOR\n",
    "~ \t| Negate\n",
    "\\>> |\tRight shift\n",
    "\\<< \t| Left shift"
   ]
  },
  {
   "cell_type": "markdown",
   "id": "bb738f27-5a41-456b-a820-9a726f1f9dc8",
   "metadata": {},
   "source": [
    "当在单个表达式中使用多个运算符时，运算符优先级(operator precedence)确定表达式的哪些部分按何种顺序求值。首先评估优先级较高的运算符（如数学中的 PEMDAS）。具有相同优先级的运算符从左到右进行计算。\n",
    "\n",
    "- () 括号，用于分组\n",
    "- ** 指数\n",
    "- *, / 乘法和除法\n",
    "-   +、- 加法和减法\n",
    "-   ==、!=、<、<=、>、>= 比较"
   ]
  },
  {
   "cell_type": "code",
   "execution_count": 15,
   "id": "7f8ed876-8645-4df7-8422-48fe00755d99",
   "metadata": {},
   "outputs": [
    {
     "data": {
      "text/plain": [
       "4"
      ]
     },
     "execution_count": 15,
     "metadata": {},
     "output_type": "execute_result"
    }
   ],
   "source": [
    "2 + 2"
   ]
  },
  {
   "cell_type": "code",
   "execution_count": 16,
   "id": "8c9d5090-2dba-41ad-b877-e19e7555cb5a",
   "metadata": {},
   "outputs": [
    {
     "data": {
      "text/plain": [
       "20"
      ]
     },
     "execution_count": 16,
     "metadata": {},
     "output_type": "execute_result"
    }
   ],
   "source": [
    "50 - 5*6"
   ]
  },
  {
   "cell_type": "code",
   "execution_count": 17,
   "id": "e284de5f-3617-447f-995e-9703cdb64695",
   "metadata": {},
   "outputs": [
    {
     "data": {
      "text/plain": [
       "5.666666666666667"
      ]
     },
     "execution_count": 17,
     "metadata": {},
     "output_type": "execute_result"
    }
   ],
   "source": [
    "17/3 # 除法运算总是返回一个浮点数"
   ]
  },
  {
   "cell_type": "code",
   "execution_count": 18,
   "id": "e27ae2ca-2943-4eed-88cb-a8f920f9707c",
   "metadata": {},
   "outputs": [
    {
     "data": {
      "text/plain": [
       "5"
      ]
     },
     "execution_count": 18,
     "metadata": {},
     "output_type": "execute_result"
    }
   ],
   "source": [
    "17 // 3 # 向下取整除法运算会丢弃小数部分"
   ]
  },
  {
   "cell_type": "code",
   "execution_count": 19,
   "id": "7504d8b7-3b9e-4318-901e-38df73983015",
   "metadata": {},
   "outputs": [
    {
     "data": {
      "text/plain": [
       "2"
      ]
     },
     "execution_count": 19,
     "metadata": {},
     "output_type": "execute_result"
    }
   ],
   "source": [
    "17 % 3 # % 运算返回相除的余数"
   ]
  },
  {
   "cell_type": "code",
   "execution_count": 20,
   "id": "7463432d-66d4-4eb7-b71f-973ed1df3ef9",
   "metadata": {},
   "outputs": [
    {
     "data": {
      "text/plain": [
       "17"
      ]
     },
     "execution_count": 20,
     "metadata": {},
     "output_type": "execute_result"
    }
   ],
   "source": [
    "5 * 3 + 2  # 向下取整的商 * 除数 + 余数"
   ]
  },
  {
   "cell_type": "code",
   "execution_count": 21,
   "id": "c3cf40e5-4644-4928-9aca-65e4c3ee7642",
   "metadata": {},
   "outputs": [
    {
     "data": {
      "text/plain": [
       "25"
      ]
     },
     "execution_count": 21,
     "metadata": {},
     "output_type": "execute_result"
    }
   ],
   "source": [
    "#  用 ** 运算符计算乘方\n",
    "5 ** 2  # 5 的平方"
   ]
  },
  {
   "cell_type": "code",
   "execution_count": 22,
   "id": "3c653cf2-f871-48dd-8ad8-c400696c1cab",
   "metadata": {},
   "outputs": [
    {
     "name": "stdout",
     "output_type": "stream",
     "text": [
      "hellohello\n"
     ]
    }
   ],
   "source": [
    "s = \"hello\"\n",
    "print(s * 2) # 字符串乘法，用于重复字符串"
   ]
  },
  {
   "cell_type": "markdown",
   "id": "eba4c093-99a9-4fc4-b74a-900ba401f082",
   "metadata": {},
   "source": [
    "`not`是布尔算符，用途对布尔值取反， 即把 True 变成 False，把 False 变成 True。"
   ]
  },
  {
   "cell_type": "code",
   "execution_count": 1,
   "id": "8ae9c947-1402-4eb4-bc76-cbd8aa930658",
   "metadata": {},
   "outputs": [
    {
     "name": "stdout",
     "output_type": "stream",
     "text": [
      "False\n",
      "True\n"
     ]
    }
   ],
   "source": [
    "print(not True)   #  False\n",
    "print(not False)  #  True"
   ]
  },
  {
   "cell_type": "markdown",
   "id": "2c4f6d67-0051-40ce-aa92-d5e4eb36e469",
   "metadata": {},
   "source": [
    "非布尔值也可以被 not 运算，依赖“真值测试”，即先转成布尔值（通过 bool()），再取反。"
   ]
  },
  {
   "cell_type": "code",
   "execution_count": 2,
   "id": "c7fb8ea1-6914-4af4-a94c-984bf9cc7981",
   "metadata": {},
   "outputs": [
    {
     "name": "stdout",
     "output_type": "stream",
     "text": [
      "True\n",
      "False\n",
      "True\n",
      "False\n",
      "True\n"
     ]
    }
   ],
   "source": [
    "print(not 0)         # True，因为 bool(0) 是 False\n",
    "print(not 1)         # False，因为 bool(1) 是 True\n",
    "print(not \"\")        # True，空字符串是 False\n",
    "print(not \"hello\")   # False，非空字符串是 True\n",
    "print(not None)      # True"
   ]
  },
  {
   "cell_type": "code",
   "execution_count": 3,
   "id": "12258efe-7352-484f-b20c-ae724b7941bf",
   "metadata": {},
   "outputs": [
    {
     "name": "stdout",
     "output_type": "stream",
     "text": [
      "True\n",
      "False\n",
      "True\n"
     ]
    }
   ],
   "source": [
    "# 与或运算符\n",
    "print(True and True) # True\n",
    "print(True and False) # False\n",
    "print(True or False) # True"
   ]
  },
  {
   "cell_type": "markdown",
   "id": "6a8c9d7c-6d91-4d0f-ad60-c95dc3de7646",
   "metadata": {},
   "source": [
    "#### x if y else z\n",
    "\n",
    "在Python中，x if y else z 是一个条件表达式，也称为三元条件运算符。它是一种简洁的方式来执行条件判断，其功能类似于标准的if-else语句。\n",
    "\n",
    "这个表达式的工作原理如下：\n",
    "\n",
    "- x 是当条件 y 为真 (True) 时返回的值。\n",
    "- z 是当条件 y 为假 (False) 时返回的值。"
   ]
  },
  {
   "cell_type": "code",
   "execution_count": 24,
   "id": "ca8b9d07-70a6-4ba0-827c-1b7d28d635dc",
   "metadata": {},
   "outputs": [
    {
     "name": "stdout",
     "output_type": "stream",
     "text": [
      "未成年\n"
     ]
    }
   ],
   "source": [
    "# 假设我们有一个变量 age，我们想根据年龄判断一个人是否是成年人：\n",
    "age = 17\n",
    "adult_status = \"成年\" if age >= 18 else \"未成年\"\n",
    "print(adult_status)  # 输出: 未成年"
   ]
  },
  {
   "cell_type": "code",
   "execution_count": 21,
   "id": "a4b11549-99d3-4462-b2cf-ca23e7b596f7",
   "metadata": {},
   "outputs": [
    {
     "name": "stdout",
     "output_type": "stream",
     "text": [
      "9\n",
      "-1\n"
     ]
    }
   ],
   "source": [
    "# 越界访问时候返回默认值\n",
    "i  = 3\n",
    "result = squares[i] if i < len(squares) else -1\n",
    "print(result)\n",
    "\n",
    "# 等效\n",
    "def safe_access(lst, index, default=None):\n",
    "    try:\n",
    "        return lst[index]\n",
    "    except IndexError:\n",
    "        return default\n",
    "print(safe_access(squares, 10, -1))"
   ]
  },
  {
   "cell_type": "markdown",
   "id": "a7716e63-2439-47f6-b994-489d1b1a28b8",
   "metadata": {},
   "source": [
    "#### 布尔运算符\n",
    "\n",
    "| 运算        | 结果：                                        | 备注  |\n",
    "| --------- | ------------------------------------------ | --- |\n",
    "| `x or y`  | 如果 _x_ 为真值，则 _x_，否则 _y_                    | (1) |\n",
    "| `x and y` | 如果 _x_ 为假值，则返回 _x_，否则返回 _y_                | (2) |\n",
    "| `not x`   | if _x_ is false, then `True`, else `False` | (3) |\n",
    "\n",
    "注释：\n",
    "\n",
    "1. 这是个短路运算符，因此只有在第一个参数为假值时才会对第二个参数求值。\n",
    "    \n",
    "2. 这是个短路运算符，因此只有在第一个参数为真值时才会对第二个参数求值。\n",
    "    \n",
    "3. `not` 的优先级比非布尔运算符低，因此 `not a == b` 会被解读为 `not (a == b)` 而 `a == not b` 会引发语法错误。"
   ]
  },
  {
   "cell_type": "code",
   "execution_count": 4,
   "id": "b3606294-4b3c-401d-aa3b-149ff37efc91",
   "metadata": {},
   "outputs": [
    {
     "data": {
      "text/plain": [
       "'Trondheim'"
      ]
     },
     "execution_count": 4,
     "metadata": {},
     "output_type": "execute_result"
    }
   ],
   "source": [
    "# 用作普通值而不是布尔值时，短路运算符的返回值通常是最后一个求了值的参数。\n",
    "string1, string2, string3 = '', 'Trondheim', 'Hammer Dance'\n",
    "non_null = string1 or string2 or string3\n",
    "non_null"
   ]
  },
  {
   "cell_type": "markdown",
   "id": "e97c6020-7f85-4885-b565-bf20a0cbf92c",
   "metadata": {},
   "source": [
    "### **运算符\n",
    "\n",
    "** 运算符并没有官方的中文名称。在中文文档和讨论中，通常会直接使用符号本身或者根据上下文翻译为“双星号”、“双星运算符”等。\n",
    "\n",
    "在不同的编程语境中，** 运算符可能有不同的称呼，例如：\n",
    "\n",
    "- 解包运算符：当用于函数调用时，它会将字典解包为关键字参数，或者将可迭代对象解包为一系列参数。\n",
    "\n",
    "- 收集关键字参数运算符：当用于函数定义时，它会收集传递给函数的任意数量的关键字参数，并将它们存储在字典中。\n",
    "\n",
    "- 双星号运算符：直接称呼，因为符号就是两个星号。\n"
   ]
  },
  {
   "cell_type": "markdown",
   "id": "ea26e538-c05e-4a43-b75d-5d285e9509ba",
   "metadata": {},
   "source": [
    "** 运算符通常用于两种情况：\n",
    "\n",
    "#### 解构字典，将字典的键值对转换为函数调用的关键字参数。"
   ]
  },
  {
   "cell_type": "code",
   "execution_count": 5,
   "id": "01ece772-6806-48c1-be7d-eb3659a5977c",
   "metadata": {},
   "outputs": [
    {
     "name": "stdout",
     "output_type": "stream",
     "text": [
      "1 2 3\n"
     ]
    }
   ],
   "source": [
    "def func(a, b, c):\n",
    "    print(a, b, c)\n",
    "\n",
    "# 字典\n",
    "d = {'a': 1, 'b': 2, 'c': 3}\n",
    "\n",
    "# 使用 ** 解构字典\n",
    "func(**d)"
   ]
  },
  {
   "cell_type": "markdown",
   "id": "67c35184-947e-4cea-8a90-ba2c08c8fd01",
   "metadata": {},
   "source": [
    "#### 收集函数调用中的剩余参数\n",
    "\n",
    "在定义函数时，** 可以用来收集任意数量的关键字参数，并将它们作为字典传递给函数。"
   ]
  },
  {
   "cell_type": "code",
   "execution_count": 8,
   "id": "2cb87313-972e-4361-b57f-58e6d70df2ab",
   "metadata": {},
   "outputs": [
    {
     "name": "stdout",
     "output_type": "stream",
     "text": [
      "a = 1\n",
      "b = 2\n",
      "c = 3\n"
     ]
    }
   ],
   "source": [
    "def func(**kwargs):\n",
    "    for key, value in kwargs.items():\n",
    "        print(f\"{key} = {value}\")\n",
    "\n",
    "# 调用函数时使用 ** 收集关键字参数\n",
    "func(a=1, b=2, c=3)"
   ]
  },
  {
   "cell_type": "markdown",
   "id": "3018c626-8f2a-4b0c-b4ab-2c1872438b19",
   "metadata": {
    "editable": true,
    "slideshow": {
     "slide_type": ""
    },
    "tags": []
   },
   "source": [
    "## 列表"
   ]
  },
  {
   "cell_type": "markdown",
   "id": "1614d7c7-fe07-4c4f-ac97-d805b0362819",
   "metadata": {},
   "source": [
    "列表 ，是用方括号标注，逗号分隔的一组值。列表 可以包含不同类型的元素，但一般情况下，各个元素的类型相同"
   ]
  },
  {
   "cell_type": "code",
   "execution_count": 26,
   "id": "19b6cfc0-62c7-4795-bfd9-66248e998f92",
   "metadata": {},
   "outputs": [
    {
     "name": "stdout",
     "output_type": "stream",
     "text": [
      "[1, 4, 9, 16, 25]\n",
      "<class 'list'>\n"
     ]
    }
   ],
   "source": [
    "squares = [1, 4, 9, 16, 25]\n",
    "print(squares)\n",
    "print(type(squares))"
   ]
  },
  {
   "cell_type": "code",
   "execution_count": 27,
   "id": "ff93781f-1847-4b1f-8bc4-bb50f86998d7",
   "metadata": {},
   "outputs": [
    {
     "data": {
      "text/plain": [
       "1"
      ]
     },
     "execution_count": 27,
     "metadata": {},
     "output_type": "execute_result"
    }
   ],
   "source": [
    "squares[0]  # 索引操作将返回条目"
   ]
  },
  {
   "cell_type": "code",
   "execution_count": 28,
   "id": "5a5321be-bb8f-4df2-b9b1-0de2708eafb3",
   "metadata": {},
   "outputs": [
    {
     "data": {
      "text/plain": [
       "25"
      ]
     },
     "execution_count": 28,
     "metadata": {},
     "output_type": "execute_result"
    }
   ],
   "source": [
    "squares[-1] # 返回最后一个条目"
   ]
  },
  {
   "cell_type": "code",
   "execution_count": 29,
   "id": "4a1b0930-80d3-4494-a1f8-1d5eb7f7071b",
   "metadata": {},
   "outputs": [
    {
     "data": {
      "text/plain": [
       "[9, 16, 25]"
      ]
     },
     "execution_count": 29,
     "metadata": {},
     "output_type": "execute_result"
    }
   ],
   "source": [
    "squares[-3:] # 切片操作，返回一个全新的列表"
   ]
  },
  {
   "cell_type": "code",
   "execution_count": 30,
   "id": "50cf0c1e-7547-43f7-bbd8-fcae79dbaf15",
   "metadata": {},
   "outputs": [
    {
     "data": {
      "text/plain": [
       "[1, 4, 9, 16, 25, 36, 49, 64, 81, 100]"
      ]
     },
     "execution_count": 30,
     "metadata": {},
     "output_type": "execute_result"
    }
   ],
   "source": [
    "squares + [36, 49, 64, 81, 100] # 合并列表操作"
   ]
  },
  {
   "cell_type": "markdown",
   "id": "62077ed3-499d-4cc7-9d9f-d05a6a2d481b",
   "metadata": {},
   "source": [
    "列表是 [mutable](https://docs.python.org/zh-cn/3/glossary.html#term-mutable) 类型，其内容可以改变:"
   ]
  },
  {
   "cell_type": "code",
   "execution_count": 31,
   "id": "864ce33b-e997-4f9f-b97e-f70fcb8fac46",
   "metadata": {},
   "outputs": [
    {
     "data": {
      "text/plain": [
       "[1, 8, 27, 64, 125, 216, 343]"
      ]
     },
     "execution_count": 31,
     "metadata": {},
     "output_type": "execute_result"
    }
   ],
   "source": [
    "cubes = [1, 8, 27, 65, 125]\n",
    "cubes[3] = 64 \n",
    "cubes.append(216)  # 添加 6 的立方\n",
    "cubes.append(7 ** 3)  # 和 7 的立方\n",
    "cubes"
   ]
  },
  {
   "cell_type": "markdown",
   "id": "2ced032f-970c-46a6-952a-043354dc6ec6",
   "metadata": {},
   "source": [
    "当你将一个列表赋值给一个变量时，该变量将引用 现有的列表。你通过一个变量对列表所做的任何更改都会被引用它的所有其他变量看到:"
   ]
  },
  {
   "cell_type": "code",
   "execution_count": 10,
   "id": "076a00f9-b696-442b-9960-8e3a797cf2ec",
   "metadata": {},
   "outputs": [
    {
     "name": "stdout",
     "output_type": "stream",
     "text": [
      "True\n"
     ]
    },
    {
     "data": {
      "text/plain": [
       "['Red', 'Green', 'Blue', 'Alph']"
      ]
     },
     "execution_count": 10,
     "metadata": {},
     "output_type": "execute_result"
    }
   ],
   "source": [
    "rgb = [\"Red\", \"Green\", \"Blue\"]\n",
    "rgba = rgb\n",
    "print(id(rgb) == id(rgba))  # 它们指向同一个对象\n",
    "rgba.append(\"Alph\")\n",
    "rgb"
   ]
  },
  {
   "cell_type": "code",
   "execution_count": 11,
   "id": "661cdf66-5fda-4c80-832c-41744523723a",
   "metadata": {},
   "outputs": [
    {
     "name": "stdout",
     "output_type": "stream",
     "text": [
      "False\n",
      "['Red', 'Green', 'Blue', 'Alph']\n",
      "['Red', 'Green', 'Blue', 'Alpha']\n"
     ]
    }
   ],
   "source": [
    "# 切片操作返回包含请求元素的新列表。以下切片操作会返回列表的 浅拷贝：\n",
    "correct_rgba = rgba[:]\n",
    "print(id(correct_rgba) == id(rgba))\n",
    "correct_rgba[-1] = \"Alpha\"\n",
    "print(rgba)\n",
    "print(correct_rgba)"
   ]
  },
  {
   "cell_type": "code",
   "execution_count": 34,
   "id": "aa512706-8971-4baf-ad3d-3ef8d28cc728",
   "metadata": {},
   "outputs": [
    {
     "name": "stdout",
     "output_type": "stream",
     "text": [
      "['a', 'b', 'c', 'd', 'e', 'f', 'g']\n",
      "7\n",
      "['a', 'b', 'C', 'D', 'E', 'H', 'f', 'g']\n",
      "['a', 'b', 'H', 'f', 'g']\n",
      "[]\n"
     ]
    }
   ],
   "source": [
    "# 为切片赋值可以改变列表大小，甚至清空整个列表：\n",
    "letters = ['a', 'b', 'c', 'd', 'e', 'f', 'g']\n",
    "print(letters)\n",
    "print(len(letters)) # 内置函数len返回列表长度\n",
    "\n",
    "# 替换一些值\n",
    "letters[2:5] = ['C', 'D', 'E', \"H\"]\n",
    "print(letters)\n",
    "\n",
    "# 现在移除它们\n",
    "letters[2:5] = []\n",
    "print(letters)\n",
    "\n",
    "# 通过用一个空列表替代所有元素来清空列表\n",
    "letters[:] = []\n",
    "print(letters)"
   ]
  },
  {
   "cell_type": "code",
   "execution_count": 35,
   "id": "445b4e26-9563-434d-a23e-21a769c08cc2",
   "metadata": {},
   "outputs": [
    {
     "name": "stdout",
     "output_type": "stream",
     "text": [
      "[['a', 'b', 'c'], [1, 2, 3]]\n"
     ]
    }
   ],
   "source": [
    "# 嵌套列表\n",
    "a = ['a', 'b', 'c']\n",
    "n = [1, 2, 3]\n",
    "x = [a, n]\n",
    "print(x)"
   ]
  },
  {
   "cell_type": "markdown",
   "id": "98fa6fcb-aa9d-4ba0-85c4-cc6d7a1bd51d",
   "metadata": {},
   "source": [
    "### 切片操作\n",
    "\n",
    "切片的基本语法如下：\n",
    "\n",
    "```\n",
    "sequence[start:stop:step]\n",
    "```\n",
    "\n",
    "- sequence 是要进行切片的序列。\n",
    "- start 是切片开始的索引（包含该索引位置的元素），如果不设置，默认为0。反向索引时候，最后一个元素是-1。\n",
    "- stop 是切片结束的索引（不包含该索引位置的元素），如果不设置，则切片到序列的末尾。\n",
    "- step 是步长，表示取元素的间隔，如果不设置，默认为1。\n",
    "\n",
    "**注意：** 对于不可变的数据类型（如字符串或元组），切片操作总是返回一个新的副本，修改这个副本不会影响原始数据。而对于可变的数据类型（如列表），切片操作返回的是一个新的序列对象，但它可能只是原始数据的一个引用，这种情况下修改副本可能会影响原始数据。"
   ]
  },
  {
   "cell_type": "code",
   "execution_count": 36,
   "id": "15c533fc-da1e-4e5e-b290-9a18a8308da5",
   "metadata": {},
   "outputs": [
    {
     "data": {
      "text/plain": [
       "[0, 1, 2, 3, 4, 5, 6, 7, 8, 9]"
      ]
     },
     "execution_count": 36,
     "metadata": {},
     "output_type": "execute_result"
    }
   ],
   "source": [
    "sequence = list(range(0, 10))\n",
    "sequence "
   ]
  },
  {
   "cell_type": "code",
   "execution_count": 37,
   "id": "09e9c6ce-b02d-4ddf-b00a-78ca8bd1dff5",
   "metadata": {},
   "outputs": [
    {
     "data": {
      "text/plain": [
       "[0, 1, 2, 3, 4, 5, 6, 7, 8, 9]"
      ]
     },
     "execution_count": 37,
     "metadata": {},
     "output_type": "execute_result"
    }
   ],
   "source": [
    "# 获取序列的全部元素：\n",
    "sequence[:]"
   ]
  },
  {
   "cell_type": "code",
   "execution_count": 38,
   "id": "0bfe073f-24fc-408d-93ef-a6d0b4f31c9b",
   "metadata": {},
   "outputs": [
    {
     "data": {
      "text/plain": [
       "[0, 1, 2, 3, 4]"
      ]
     },
     "execution_count": 38,
     "metadata": {},
     "output_type": "execute_result"
    }
   ],
   "source": [
    "# 从序列的开始位置到索引5（不包括索引5）：\n",
    "sequence[:5]"
   ]
  },
  {
   "cell_type": "code",
   "execution_count": 39,
   "id": "8e5e59be-5993-4fb3-9c6f-e9e59d2cf6ca",
   "metadata": {},
   "outputs": [
    {
     "data": {
      "text/plain": [
       "[5, 6, 7, 8, 9]"
      ]
     },
     "execution_count": 39,
     "metadata": {},
     "output_type": "execute_result"
    }
   ],
   "source": [
    "# 从索引5开始到序列的末尾：\n",
    "sequence[5:]"
   ]
  },
  {
   "cell_type": "code",
   "execution_count": 40,
   "id": "a025e93d-c9b8-457d-9844-bb27108fca81",
   "metadata": {},
   "outputs": [
    {
     "data": {
      "text/plain": [
       "[5, 7, 9]"
      ]
     },
     "execution_count": 40,
     "metadata": {},
     "output_type": "execute_result"
    }
   ],
   "source": [
    "# 从索引5开始到索引10（不包括索引10），步长为2（即取索引5, 7, 9）：\n",
    "sequence[5:10:2]"
   ]
  },
  {
   "cell_type": "code",
   "execution_count": 41,
   "id": "3a1f3307-cc07-45f7-b995-d0583367b7f7",
   "metadata": {},
   "outputs": [
    {
     "data": {
      "text/plain": [
       "[9, 8, 7, 6]"
      ]
     },
     "execution_count": 41,
     "metadata": {},
     "output_type": "execute_result"
    }
   ],
   "source": [
    "# 反向切片，从序列的末尾开始到索引5（不包括索引5），步长为-1：\n",
    "sequence[-1:5:-1]"
   ]
  },
  {
   "cell_type": "code",
   "execution_count": 42,
   "id": "ec411db6-c7cf-42cb-bdc7-c306e63d69f9",
   "metadata": {},
   "outputs": [
    {
     "data": {
      "text/plain": [
       "[2]"
      ]
     },
     "execution_count": 42,
     "metadata": {},
     "output_type": "execute_result"
    }
   ],
   "source": [
    "# 只取序列的第3个元素（索引从0开始）：\n",
    "sequence[2:3]"
   ]
  },
  {
   "cell_type": "code",
   "execution_count": 43,
   "id": "09b64036-4c31-4d52-b65f-2a4e29b3a7ba",
   "metadata": {},
   "outputs": [
    {
     "data": {
      "text/plain": [
       "[2, 4, 6, 8]"
      ]
     },
     "execution_count": 43,
     "metadata": {},
     "output_type": "execute_result"
    }
   ],
   "source": [
    "# 跳过索引0和1，从索引2开始每隔一个元素取一个，直到序列末尾：\n",
    "sequence[2::2]"
   ]
  },
  {
   "cell_type": "code",
   "execution_count": 44,
   "id": "305a0b9e-318b-4ce0-9811-de1d56768e30",
   "metadata": {},
   "outputs": [
    {
     "name": "stdout",
     "output_type": "stream",
     "text": [
      "[0, 1, 2, 3, 4, 5, 6, 7, 8, 9]\n",
      "[2]\n",
      "[20] [0, 1, 2, 3, 4, 5, 6, 7, 8, 9]\n"
     ]
    }
   ],
   "source": [
    "print(sequence)\n",
    "s0 = sequence[2:3]\n",
    "print(s0)\n",
    "s0[0] = 20\n",
    "print(s0, sequence)"
   ]
  },
  {
   "cell_type": "markdown",
   "id": "0ea6fb10-6c11-4b2b-b5c1-2fd51a5091d1",
   "metadata": {},
   "source": [
    "### 列表对象方法"
   ]
  },
  {
   "cell_type": "markdown",
   "id": "69c88886-c2c6-4fd3-8912-151c64e32f04",
   "metadata": {},
   "source": [
    "列表数据类型支持很多方法，列表对象的所有方法所示如下：\n",
    "\n",
    "list.append(x)\n",
    "\n",
    "    在列表末尾添加一个元素，相当于 a[len(a):] = [x] 。\n",
    "\n",
    "list.extend(iterable)\n",
    "\n",
    "    用可迭代对象的元素扩展列表。相当于 a[len(a):] = iterable 。\n",
    "\n",
    "list.insert(i, x)\n",
    "\n",
    "    在指定位置插入元素。第一个参数是插入元素的索引，因此，a.insert(0, x) 在列表开头插入元素， a.insert(len(a), x) 等同于 a.append(x) 。\n",
    "\n",
    "list.remove(x)\n",
    "\n",
    "    从列表中删除第一个值为 x 的元素。未找到指定元素时，触发 ValueError 异常。\n",
    "\n",
    "list.pop([i])\n",
    "\n",
    "    移除列表中给定位置上的条目，并返回该条目。 如果未指定索引号，则 a.pop() 将移除并返回列表中的最后一个条目。 如果列表为空或索引号在列表索引范围之外则会引发 IndexError。\n",
    "\n",
    "list.clear()\n",
    "\n",
    "    删除列表里的所有元素，相当于 del a[:] 。\n",
    "\n",
    "list.index(x[, start[, end]])\n",
    "\n",
    "    返回列表中第一个值为 x 的元素的零基索引。未找到指定元素时，触发 ValueError 异常。\n",
    "\n",
    "    可选参数 start 和 end 是切片符号，用于将搜索限制为列表的特定子序列。返回的索引是相对于整个序列的开始计算的，而不是 start 参数。\n",
    "\n",
    "list.count(x)\n",
    "\n",
    "    返回列表中元素 x 出现的次数。\n",
    "\n",
    "list.sort(*, key=None, reverse=False)\n",
    "\n",
    "    就地排序列表中的元素（要了解自定义排序参数，详见 sorted()）。\n",
    "\n",
    "list.reverse()\n",
    "\n",
    "    翻转列表中的元素。\n",
    "\n",
    "list.copy()\n",
    "\n",
    "    返回列表的浅拷贝。相当于 a[:] 。\n"
   ]
  },
  {
   "cell_type": "markdown",
   "id": "c896e03e-db08-4951-b8cc-11e37741f1a6",
   "metadata": {},
   "source": [
    "### 列表推导式\n",
    "\n",
    "语法格式：\n",
    "\n",
    "```\n",
    "[expression for item in iterable if condition]\n",
    "```\n",
    "\n",
    "各部分的意义：\n",
    "- expression：对 item 的操作，可以是任意的表达式。\n",
    "- item：从 iterable 中依次取出的元素。\n",
    "- iterable：一个可迭代对象，比如列表、元组、字符串等。\n",
    "- condition：（可选）一个条件表达式，只有满足此条件的 item 才会被包含在最终的列表中。\n",
    "\n",
    "列表推导式还可以包含多个 for 或 if 子句，例如：\n",
    "\n",
    "```\n",
    "[expression for item1 in iterable1 for item2 in iterable2 if condition]\n",
    "```\n"
   ]
  },
  {
   "cell_type": "markdown",
   "id": "56dcb004-9316-4b03-b994-0ab53d010b7b",
   "metadata": {},
   "source": [
    "创建平方值的列表三种方法："
   ]
  },
  {
   "cell_type": "markdown",
   "id": "023607cc-d8a9-49fb-a8b7-0c0ef0a40965",
   "metadata": {},
   "source": [
    "1. 循环处理"
   ]
  },
  {
   "cell_type": "code",
   "execution_count": 45,
   "id": "60cbf87b-c320-42bb-834a-652971bd78c4",
   "metadata": {},
   "outputs": [
    {
     "data": {
      "text/plain": [
       "[0, 1, 4, 9, 16, 25, 36, 49, 64, 81]"
      ]
     },
     "execution_count": 45,
     "metadata": {},
     "output_type": "execute_result"
    }
   ],
   "source": [
    "squares = []\n",
    "for x in range(10):\n",
    "    squares.append(x**2)\n",
    "squares"
   ]
  },
  {
   "cell_type": "markdown",
   "id": "ba45962e-ee57-4cfb-8043-8bd26112b217",
   "metadata": {},
   "source": [
    "2. lambda函数处理"
   ]
  },
  {
   "cell_type": "code",
   "execution_count": 12,
   "id": "59c59af5-3990-4f50-ad61-614c1e4d3fc7",
   "metadata": {},
   "outputs": [
    {
     "data": {
      "text/plain": [
       "[0, 1, 4, 9, 16, 25, 36, 49, 64, 81]"
      ]
     },
     "execution_count": 12,
     "metadata": {},
     "output_type": "execute_result"
    }
   ],
   "source": [
    "squares = list(map(lambda x: x**2, range(10)))\n",
    "squares"
   ]
  },
  {
   "cell_type": "markdown",
   "id": "6830408e-f49f-47c8-86de-23f5ee19483d",
   "metadata": {},
   "source": [
    "3. 列表推导式"
   ]
  },
  {
   "cell_type": "code",
   "execution_count": 47,
   "id": "4e66c1e6-fda9-4106-b17e-9ff91193ce26",
   "metadata": {},
   "outputs": [
    {
     "data": {
      "text/plain": [
       "[0, 1, 4, 9, 16, 25, 36, 49, 64, 81]"
      ]
     },
     "execution_count": 47,
     "metadata": {},
     "output_type": "execute_result"
    }
   ],
   "source": [
    "squares = [x**2 for x in range(10)]\n",
    "squares"
   ]
  },
  {
   "cell_type": "code",
   "execution_count": 48,
   "id": "7de092fa-82b9-4c43-9508-aad470b3a136",
   "metadata": {},
   "outputs": [
    {
     "data": {
      "text/plain": [
       "[0, 9, 36, 81]"
      ]
     },
     "execution_count": 48,
     "metadata": {},
     "output_type": "execute_result"
    }
   ],
   "source": [
    "squares = [x**2 for x in range(10) if x % 3 == 0]\n",
    "squares "
   ]
  },
  {
   "cell_type": "code",
   "execution_count": 49,
   "id": "c15c0645-f5d4-40b3-a292-bd9f7c7ada83",
   "metadata": {},
   "outputs": [
    {
     "data": {
      "text/plain": [
       "[1, 2, 3, 4]"
      ]
     },
     "execution_count": 49,
     "metadata": {},
     "output_type": "execute_result"
    }
   ],
   "source": [
    "# 带有条件的列表推导式，将一个列表中的正数元素取出来\n",
    "positive_numbers = [x for x in range(-5, 5) if x > 0]\n",
    "positive_numbers"
   ]
  },
  {
   "cell_type": "code",
   "execution_count": 15,
   "id": "85e19d1c-94d7-4aaf-841f-7ab677d8778d",
   "metadata": {},
   "outputs": [
    {
     "name": "stdout",
     "output_type": "stream",
     "text": [
      "[[1, 4, 7], [2, 5, 8], [3, 6, 9]]\n",
      "[[1, 4, 7], [2, 5, 8], [3, 6, 9]]\n"
     ]
    }
   ],
   "source": [
    "# 嵌套的列表推导式，创建一个矩阵的转置\n",
    "matrix = [[1, 2, 3], [4, 5, 6], [7, 8, 9]]\n",
    "transposed_matrix = [[row[i] for row in matrix] for i in range(len(matrix[0]))]\n",
    "print(transposed_matrix)\n",
    "\n",
    "# 等效于\n",
    "transposed_matrix = []\n",
    "for i in range(len(matrix[0])):\n",
    "    transposed_row = []\n",
    "    for row in matrix:\n",
    "        transposed_row.append(row[i])\n",
    "    transposed_matrix.append(transposed_row)\n",
    "\n",
    "print(transposed_matrix)"
   ]
  },
  {
   "cell_type": "code",
   "execution_count": 51,
   "id": "8bf13b93-b762-41fb-ad8f-f63919635fc8",
   "metadata": {},
   "outputs": [
    {
     "name": "stdout",
     "output_type": "stream",
     "text": [
      "[(1, 3), (1, 4), (2, 3), (2, 1), (2, 4), (3, 1), (3, 4)]\n"
     ]
    },
    {
     "data": {
      "text/plain": [
       "[(1, 3), (1, 4), (2, 3), (2, 1), (2, 4), (3, 1), (3, 4)]"
      ]
     },
     "execution_count": 51,
     "metadata": {},
     "output_type": "execute_result"
    }
   ],
   "source": [
    "# 将两个列表中不相等的元素组合起来：\n",
    "combs = [(x, y) for x in [1,2,3] for y in [3,1,4] if x != y]\n",
    "print(combs)\n",
    "\n",
    "# 等效于\n",
    "combs = []\n",
    "for x in [1,2,3]:\n",
    "    for y in [3,1,4]:\n",
    "        if x != y:\n",
    "            combs.append((x, y))\n",
    "combs"
   ]
  },
  {
   "cell_type": "markdown",
   "id": "22ce59aa-7d00-49d5-bf09-2d5799c09dd8",
   "metadata": {},
   "source": [
    "列表推导式的语法规则： 从左到右读，就对应从最外层到最内层的嵌套循环。换句话说，for 子句在语法上出现的顺序，就是循环嵌套的顺序。\n",
    "顺序不是由“写在左边还是右边”决定的，而是**由列表推导式的语法规则**决定的。\n",
    "\n",
    "```python\n",
    "[[row[i] for row in matrix] for i in range(3)]\n",
    "```\n",
    "- 外层 `for i in range(3)` 先出现 → **最外层循环**  \n",
    "- 内层 `for row in matrix` 后出现 → **内层循环**  \n",
    "所以先遍历 `i`，再遍历 `row` → 等价于\n",
    "\n",
    "```python\n",
    "for i in range(3):\n",
    "    build_one_row = []\n",
    "    for row in matrix:\n",
    "        build_one_row.append(row[i])\n",
    "    result.append(build_one_row)\n",
    "```\n",
    "\n",
    "```python\n",
    "[(x, y) for x in [1,2,3] for y in [3,1,4] if x != y]\n",
    "```\n",
    "- 第一个 `for x ...` 在最左边 → **最外层**  \n",
    "- 第二个 `for y ...` 在其右边 → **内层**  \n",
    "所以先 `x` 后 `y`，完全等同于\n",
    "\n",
    "```python\n",
    "for x in [1,2,3]:\n",
    "    for y in [3,1,4]:\n",
    "        if x != y:\n",
    "            combs.append((x, y))\n",
    "```"
   ]
  },
  {
   "cell_type": "code",
   "execution_count": 52,
   "id": "2cd2d102-7e09-41e9-9068-b052c34fec69",
   "metadata": {},
   "outputs": [],
   "source": [
    "vec = [-4, -2, 0, 2, 4]"
   ]
  },
  {
   "cell_type": "code",
   "execution_count": 53,
   "id": "0b1b94fb-178e-4a25-b99d-9881c1320874",
   "metadata": {},
   "outputs": [
    {
     "data": {
      "text/plain": [
       "[4, 2, 0, 2, 4]"
      ]
     },
     "execution_count": 53,
     "metadata": {},
     "output_type": "execute_result"
    }
   ],
   "source": [
    "# 对所有元素应用一个函数\n",
    "[abs(x) for x in vec]"
   ]
  },
  {
   "cell_type": "code",
   "execution_count": 54,
   "id": "069a7ab8-b12d-4d6b-a9f1-3d9e0f69dabf",
   "metadata": {},
   "outputs": [
    {
     "data": {
      "text/plain": [
       "[(0, 0), (1, 1), (2, 4), (3, 9), (4, 16), (5, 25)]"
      ]
     },
     "execution_count": 54,
     "metadata": {},
     "output_type": "execute_result"
    }
   ],
   "source": [
    "# 创建一个包含 (数字, 平方) 2 元组的列表\n",
    "[(x, x**2) for x in range(6)] # 元组必须加圆括号，否则会引发错误"
   ]
  },
  {
   "cell_type": "code",
   "execution_count": 20,
   "id": "200e70e1-daf4-4c74-8ce9-a067f300ee89",
   "metadata": {},
   "outputs": [
    {
     "name": "stdout",
     "output_type": "stream",
     "text": [
      "[1, 2, 3, 4, 5, 6, 7, 8, 9]\n",
      "[1, 2, 3, 4, 5, 6, 7, 8, 9]\n"
     ]
    }
   ],
   "source": [
    "# 使用两个 'for' 来展平嵌套的列表\n",
    "vec = [[1,2,3], [4,5,6], [7,8,9]]\n",
    "print([num for elem in vec for num in elem])\n",
    "\n",
    "# 等效于\n",
    "result = []\n",
    "for elem in vec:        # 先遍历 vec 的每一行\n",
    "    for num in elem:    # 再遍历该行里的每一个数字\n",
    "        result.append(num)\n",
    "print(result)"
   ]
  },
  {
   "cell_type": "code",
   "execution_count": 56,
   "id": "22cf71ee-e228-47e4-a6f2-1f53fa174119",
   "metadata": {},
   "outputs": [
    {
     "data": {
      "text/plain": [
       "['3.1', '3.14', '3.142', '3.1416', '3.14159']"
      ]
     },
     "execution_count": 56,
     "metadata": {},
     "output_type": "execute_result"
    }
   ],
   "source": [
    "# 嵌套函数\n",
    "from math import pi\n",
    "[str(round(pi, i)) for i in range(1, 6)]"
   ]
  },
  {
   "cell_type": "code",
   "execution_count": 57,
   "id": "bcff9f4e-0428-420c-b01c-f2e1a22894e0",
   "metadata": {},
   "outputs": [
    {
     "name": "stdout",
     "output_type": "stream",
     "text": [
      "81\n",
      "-1\n"
     ]
    }
   ],
   "source": []
  },
  {
   "cell_type": "markdown",
   "id": "0bedf280-625a-464e-b9e4-9f30fd69d8e8",
   "metadata": {},
   "source": [
    "### del操作\n",
    "\n",
    "del 语句用于从列表中移除切片或清空整个列表"
   ]
  },
  {
   "cell_type": "code",
   "execution_count": 58,
   "id": "6dc5a5f7-fb1c-4841-bd0e-8b89f6d5e95f",
   "metadata": {},
   "outputs": [
    {
     "data": {
      "text/plain": [
       "[-1, 0, 1, 2, 3, 4]"
      ]
     },
     "execution_count": 58,
     "metadata": {},
     "output_type": "execute_result"
    }
   ],
   "source": [
    "a = [-1]\n",
    "a.extend(range(0, 5))\n",
    "a"
   ]
  },
  {
   "cell_type": "code",
   "execution_count": 59,
   "id": "52377f08-d196-45bc-a727-04ba586d74a8",
   "metadata": {},
   "outputs": [
    {
     "data": {
      "text/plain": [
       "[0, 1, 2, 3, 4]"
      ]
     },
     "execution_count": 59,
     "metadata": {},
     "output_type": "execute_result"
    }
   ],
   "source": [
    "del a[0] # 删除第一个元素\n",
    "a"
   ]
  },
  {
   "cell_type": "code",
   "execution_count": 60,
   "id": "9b0bc2ce-1cfd-4ea3-bf7b-0a3a4db430c2",
   "metadata": {},
   "outputs": [
    {
     "data": {
      "text/plain": [
       "[0, 1, 4]"
      ]
     },
     "execution_count": 60,
     "metadata": {},
     "output_type": "execute_result"
    }
   ],
   "source": [
    "del a[2:4] # 删除第三个和第四个元素\n",
    "a"
   ]
  },
  {
   "cell_type": "code",
   "execution_count": 61,
   "id": "383cc11e-5b90-4920-ac86-3cd2bced5c89",
   "metadata": {},
   "outputs": [
    {
     "data": {
      "text/plain": [
       "[]"
      ]
     },
     "execution_count": 61,
     "metadata": {},
     "output_type": "execute_result"
    }
   ],
   "source": [
    "del a[:] # 清空列表\n",
    "a"
   ]
  },
  {
   "cell_type": "code",
   "execution_count": 63,
   "id": "d11f4b7f-2788-4777-989c-8ef019f80bbb",
   "metadata": {},
   "outputs": [
    {
     "name": "stdout",
     "output_type": "stream",
     "text": [
      "NOTE: Enter 'c' at the ipdb>  prompt to continue execution.\n",
      "> \u001b[0;32m<string>\u001b[0m(2)\u001b[0;36m<module>\u001b[0;34m()\u001b[0m\n",
      "\n"
     ]
    },
    {
     "name": "stdin",
     "output_type": "stream",
     "text": [
      "ipdb>  c\n"
     ]
    },
    {
     "name": "stdout",
     "output_type": "stream",
     "text": [
      "\u001b[0;31m---------------------------------------------------------------------------\u001b[0m\n",
      "\u001b[0;31mNameError\u001b[0m                                 Traceback (most recent call last)\n",
      "\u001b[0;31mNameError\u001b[0m: name 'a' is not defined\n"
     ]
    }
   ],
   "source": [
    "del a # 删除变量\n",
    "a # 此时变量是未定义的，再访问时候会报错"
   ]
  },
  {
   "cell_type": "markdown",
   "id": "3e8f33f2-2616-41b1-94f7-41937356f7e1",
   "metadata": {},
   "source": [
    "### in / not in\n",
    "\n",
    "对于序列类型（list, tuple, range）支持in/not in 判断元素是否存在序列中。参见[通用序列操作](https://docs.python.org/zh-cn/3/library/stdtypes.html#common-sequence-operations)。"
   ]
  },
  {
   "cell_type": "code",
   "execution_count": 23,
   "id": "3a1a3ee8-6845-412f-838f-95adc32b73db",
   "metadata": {},
   "outputs": [
    {
     "name": "stdout",
     "output_type": "stream",
     "text": [
      "True\n",
      "True\n"
     ]
    },
    {
     "data": {
      "text/plain": [
       "True"
      ]
     },
     "execution_count": 23,
     "metadata": {},
     "output_type": "execute_result"
    }
   ],
   "source": [
    "a = list(range(0,5))\n",
    "a\n",
    "print(1 in a)\n",
    "print(6 not in a)\n",
    "# in也适用于字符串\n",
    "'x' in \"xyz\""
   ]
  },
  {
   "cell_type": "markdown",
   "id": "61793aee-6bb4-4497-889d-2621b5d7825e",
   "metadata": {},
   "source": [
    "## 元组\n",
    "\n",
    "元组是 immutable （不可变的），一般可包含异质元素序列，通过解包或索引访问（如果是 namedtuples，可以属性访问）。列表是 mutable （可变的），列表元素一般为同质类型，可迭代访问。\n",
    "\n",
    "只有一个元素的元组可以通过在这个元素后添加逗号来构建（圆括号里只有一个值的话不够明确）。丑陋，但是有效。"
   ]
  },
  {
   "cell_type": "code",
   "execution_count": 33,
   "id": "4ce09233-2e45-4504-9d04-7c436f368dee",
   "metadata": {},
   "outputs": [
    {
     "data": {
      "text/plain": [
       "(12345, 54321, 'hello!')"
      ]
     },
     "execution_count": 33,
     "metadata": {},
     "output_type": "execute_result"
    }
   ],
   "source": [
    "t = 12345, 54321, 'hello!'\n",
    "t"
   ]
  },
  {
   "cell_type": "code",
   "execution_count": 25,
   "id": "717f279f-e826-469d-b41e-e2e17ef19716",
   "metadata": {},
   "outputs": [
    {
     "data": {
      "text/plain": [
       "'hello!'"
      ]
     },
     "execution_count": 25,
     "metadata": {},
     "output_type": "execute_result"
    }
   ],
   "source": [
    "t[2] # 根据索引访问"
   ]
  },
  {
   "cell_type": "code",
   "execution_count": 26,
   "id": "5e6f3415-3afc-4fb1-853a-829080460738",
   "metadata": {},
   "outputs": [
    {
     "data": {
      "text/plain": [
       "((12345, 54321, 'hello!'), (1, 2, 3, 4, 5))"
      ]
     },
     "execution_count": 26,
     "metadata": {},
     "output_type": "execute_result"
    }
   ],
   "source": [
    "# 元组可以嵌套\n",
    "u = t, (1, 2, 3, 4, 5)\n",
    "u"
   ]
  },
  {
   "cell_type": "code",
   "execution_count": 27,
   "id": "95331adc-a10c-4e4d-9ca6-8e7bb336a8cd",
   "metadata": {},
   "outputs": [
    {
     "ename": "TypeError",
     "evalue": "'tuple' object does not support item assignment",
     "output_type": "error",
     "traceback": [
      "\u001b[0;31m---------------------------------------------------------------------------\u001b[0m",
      "\u001b[0;31mTypeError\u001b[0m                                 Traceback (most recent call last)",
      "Cell \u001b[0;32mIn[27], line 2\u001b[0m\n\u001b[1;32m      1\u001b[0m \u001b[38;5;66;03m# 元组是不可变对象：\u001b[39;00m\n\u001b[0;32m----> 2\u001b[0m \u001b[43mt\u001b[49m\u001b[43m[\u001b[49m\u001b[38;5;241;43m0\u001b[39;49m\u001b[43m]\u001b[49m \u001b[38;5;241m=\u001b[39m \u001b[38;5;241m88888\u001b[39m \u001b[38;5;66;03m# 报错\u001b[39;00m\n",
      "\u001b[0;31mTypeError\u001b[0m: 'tuple' object does not support item assignment"
     ]
    }
   ],
   "source": [
    "# 元组是不可变对象：\n",
    "t[0] = 88888 # 报错"
   ]
  },
  {
   "cell_type": "code",
   "execution_count": 28,
   "id": "adaca345-9dc1-4617-8260-a4b82892e77e",
   "metadata": {},
   "outputs": [
    {
     "name": "stdout",
     "output_type": "stream",
     "text": [
      "([1, 2, 3], [3, 2, 1])\n"
     ]
    },
    {
     "data": {
      "text/plain": [
       "([1, 100, 3], [3, 2, 1])"
      ]
     },
     "execution_count": 28,
     "metadata": {},
     "output_type": "execute_result"
    }
   ],
   "source": [
    "v = ([1, 2, 3], [3, 2, 1]) # 元组可以包含可变对象\n",
    "print(v)\n",
    "v[0][1]=100\n",
    "v"
   ]
  },
  {
   "cell_type": "code",
   "execution_count": 29,
   "id": "3fb0dabf-04c4-46e4-a75a-4c5c19d09754",
   "metadata": {},
   "outputs": [
    {
     "name": "stdout",
     "output_type": "stream",
     "text": [
      "0\n",
      "1\n"
     ]
    },
    {
     "data": {
      "text/plain": [
       "('hello',)"
      ]
     },
     "execution_count": 29,
     "metadata": {},
     "output_type": "execute_result"
    }
   ],
   "source": [
    "# 0 个或 1 个元素的元组\n",
    "empty = () # 空元组\n",
    "singleton = 'hello',    # <-- 注意末尾的逗号\n",
    "print(len(empty))\n",
    "print(len(singleton))\n",
    "singleton"
   ]
  },
  {
   "cell_type": "code",
   "execution_count": 36,
   "id": "15f73e65-bc2d-4f55-9931-0c64ce9e3345",
   "metadata": {},
   "outputs": [
    {
     "name": "stdout",
     "output_type": "stream",
     "text": [
      "12345 54321 hello!\n"
     ]
    }
   ],
   "source": [
    "# 元组解包\n",
    "x, y, z = t\n",
    "print(x, y, z)"
   ]
  },
  {
   "cell_type": "markdown",
   "id": "70984277-66e0-443d-8403-d334cafbf978",
   "metadata": {},
   "source": [
    "## 集合\n",
    "\n",
    "集合是由不重复元素组成的无序容器。基本用法包括成员检测、消除重复元素。集合对象支持合集、交集、差集、对称差分等数学运算。\n",
    "\n",
    "创建集合用花括号或 set() 函数。注意，创建空集合只能用 set()，不能用 {}，{} 创建的是空字典"
   ]
  },
  {
   "cell_type": "code",
   "execution_count": 38,
   "id": "08004271-dca7-40f8-bf78-7d087632f7be",
   "metadata": {},
   "outputs": [
    {
     "name": "stdout",
     "output_type": "stream",
     "text": [
      "{'pear', 'banana', 'orange', 'apple'}\n"
     ]
    }
   ],
   "source": [
    "basket = {'apple', 'orange', 'apple', 'pear', 'orange', 'banana'}\n",
    "print(basket)                      # 显示重复项已被移除"
   ]
  },
  {
   "cell_type": "code",
   "execution_count": 39,
   "id": "46c14c9d-b951-4893-bece-e9fa8b709a06",
   "metadata": {},
   "outputs": [
    {
     "data": {
      "text/plain": [
       "True"
      ]
     },
     "execution_count": 39,
     "metadata": {},
     "output_type": "execute_result"
    }
   ],
   "source": [
    "'orange' in basket # 检查元素是否在集合中"
   ]
  },
  {
   "cell_type": "code",
   "execution_count": 40,
   "id": "f7f788dd-ad50-477f-9ea1-ed19f1d41b40",
   "metadata": {},
   "outputs": [
    {
     "data": {
      "text/plain": [
       "False"
      ]
     },
     "execution_count": 40,
     "metadata": {},
     "output_type": "execute_result"
    }
   ],
   "source": [
    "'crabgrass' in basket"
   ]
  },
  {
   "cell_type": "code",
   "execution_count": 42,
   "id": "b8ad655d-e828-4458-9046-cf2af69ee8ca",
   "metadata": {},
   "outputs": [
    {
     "data": {
      "text/plain": [
       "{1, 2, 3, 'a'}"
      ]
     },
     "execution_count": 42,
     "metadata": {},
     "output_type": "execute_result"
    }
   ],
   "source": [
    "# 通过列表创建集合\n",
    "s = set([1, 2, 3, \"a\"])\n",
    "s"
   ]
  },
  {
   "cell_type": "markdown",
   "id": "948f6527-6252-4a65-b21d-78a1b39809bf",
   "metadata": {},
   "source": [
    "### 集合运算"
   ]
  },
  {
   "cell_type": "code",
   "execution_count": 43,
   "id": "3337b37c-7548-4ed1-8c3c-930b00945534",
   "metadata": {},
   "outputs": [],
   "source": [
    "a = set('abracadabra')\n",
    "b = set('alacazam')"
   ]
  },
  {
   "cell_type": "code",
   "execution_count": 44,
   "id": "af98139e-6f8e-45c7-868c-7c84889a0767",
   "metadata": {},
   "outputs": [
    {
     "data": {
      "text/plain": [
       "{'a', 'b', 'c', 'd', 'r'}"
      ]
     },
     "execution_count": 44,
     "metadata": {},
     "output_type": "execute_result"
    }
   ],
   "source": [
    "a # a 中独有的字母"
   ]
  },
  {
   "cell_type": "code",
   "execution_count": 46,
   "id": "931db295-b321-4d67-85e6-a3287b828b28",
   "metadata": {},
   "outputs": [
    {
     "data": {
      "text/plain": [
       "{'b', 'd', 'r'}"
      ]
     },
     "execution_count": 46,
     "metadata": {},
     "output_type": "execute_result"
    }
   ],
   "source": [
    "a - b # 存在于 a 中但不存在于 b 中的字母"
   ]
  },
  {
   "cell_type": "code",
   "execution_count": 47,
   "id": "9efeb715-9c5b-45b2-8cfc-b8636b0aefb2",
   "metadata": {},
   "outputs": [
    {
     "data": {
      "text/plain": [
       "{'a', 'b', 'c', 'd', 'l', 'm', 'r', 'z'}"
      ]
     },
     "execution_count": 47,
     "metadata": {},
     "output_type": "execute_result"
    }
   ],
   "source": [
    "a | b  # 存在于 a 或 b 中或两者中皆有的字母"
   ]
  },
  {
   "cell_type": "code",
   "execution_count": 48,
   "id": "3e1792e2-4330-4d08-9a4f-f26856054c26",
   "metadata": {},
   "outputs": [
    {
     "data": {
      "text/plain": [
       "{'a', 'c'}"
      ]
     },
     "execution_count": 48,
     "metadata": {},
     "output_type": "execute_result"
    }
   ],
   "source": [
    "a & b # 同时存在于 a 和 b 中的字母"
   ]
  },
  {
   "cell_type": "code",
   "execution_count": 49,
   "id": "243bfc8b-915f-4605-9e85-8118c052c48a",
   "metadata": {},
   "outputs": [
    {
     "data": {
      "text/plain": [
       "{'b', 'd', 'l', 'm', 'r', 'z'}"
      ]
     },
     "execution_count": 49,
     "metadata": {},
     "output_type": "execute_result"
    }
   ],
   "source": [
    "a ^ b # 存在于 a 或 b 中但非两者中皆有的字母"
   ]
  },
  {
   "cell_type": "markdown",
   "id": "ace61c6f-f467-4613-b03c-928ca6f1e624",
   "metadata": {},
   "source": [
    "### 推导式\n",
    "\n",
    "类似列表推导式，集合也支持推导式"
   ]
  },
  {
   "cell_type": "code",
   "execution_count": 50,
   "id": "efc351ce-beba-4cfb-8de8-7ca94798583b",
   "metadata": {},
   "outputs": [
    {
     "data": {
      "text/plain": [
       "{'d', 'r'}"
      ]
     },
     "execution_count": 50,
     "metadata": {},
     "output_type": "execute_result"
    }
   ],
   "source": [
    "a = {x for x in 'abracadabra' if x not in 'abc'}\n",
    "a"
   ]
  },
  {
   "cell_type": "markdown",
   "id": "dee51480-0a63-488e-be67-03dbb749d93d",
   "metadata": {},
   "source": [
    "## 字典\n",
    "\n",
    "字典在其他语言中可能会被称为“关联存储”或“关联数组”。 \n",
    "- 不同于以固定范围的数字进行索引的序列，字典是以 键 进行索引的，键可以是任何不可变类型；\n",
    "- 字符串和数字总是可以作为键。 如果一个元组只包含字符串、数字或元组则也可以作为键；\n",
    "- 如果一个元组直接或间接地包含了任何可变对象，则不能作为键。\n",
    "- 列表不能作为键，因为列表可以使用索引赋值、切片赋值或者 append() 和 extend() 等方法进行原地修改列表。\n",
    "- 花括号 {} 用于创建空字典"
   ]
  },
  {
   "cell_type": "code",
   "execution_count": 62,
   "id": "fa8006b3-6eed-4a4f-9338-00a2aeb7b84f",
   "metadata": {},
   "outputs": [
    {
     "data": {
      "text/plain": [
       "{'jack': 4098, 'sape': 4139}"
      ]
     },
     "execution_count": 62,
     "metadata": {},
     "output_type": "execute_result"
    }
   ],
   "source": [
    "tel = {'jack': 4098, 'sape': 4139}\n",
    "tel"
   ]
  },
  {
   "cell_type": "code",
   "execution_count": 63,
   "id": "9db5e62e-19b1-48c7-ac48-b130b272e90b",
   "metadata": {},
   "outputs": [
    {
     "data": {
      "text/plain": [
       "{'jack': 4098, 'sape': 4139, 'guido': 4127}"
      ]
     },
     "execution_count": 63,
     "metadata": {},
     "output_type": "execute_result"
    }
   ],
   "source": [
    "tel['guido'] = 4127 # 添加新的键值对\n",
    "tel"
   ]
  },
  {
   "cell_type": "code",
   "execution_count": 64,
   "id": "8ea631f7-e3d9-4585-9e28-6ae962659554",
   "metadata": {},
   "outputs": [
    {
     "name": "stdout",
     "output_type": "stream",
     "text": [
      "4098\n"
     ]
    }
   ],
   "source": [
    "print(tel['jack']) # 访问键，若键不存在，则发生KeyError异常"
   ]
  },
  {
   "cell_type": "code",
   "execution_count": 65,
   "id": "e0dc9ae2-8fef-40c3-aac5-8548a9eb903a",
   "metadata": {},
   "outputs": [
    {
     "data": {
      "text/plain": [
       "{'jack': 4098, 'guido': 4127}"
      ]
     },
     "execution_count": 65,
     "metadata": {},
     "output_type": "execute_result"
    }
   ],
   "source": [
    "del tel['sape'] # 删除\n",
    "tel"
   ]
  },
  {
   "cell_type": "code",
   "execution_count": 66,
   "id": "59f13641-5e31-491d-8075-3b2f86db7817",
   "metadata": {},
   "outputs": [
    {
     "name": "stdout",
     "output_type": "stream",
     "text": [
      "{'jack': 4098, 'guido': 4127, 'irv': 4127}\n"
     ]
    }
   ],
   "source": [
    "tel['irv'] = 4127\n",
    "print(tel)"
   ]
  },
  {
   "cell_type": "code",
   "execution_count": 67,
   "id": "51dbf700-9b79-4603-a53a-04305ab0cf16",
   "metadata": {},
   "outputs": [
    {
     "data": {
      "text/plain": [
       "['jack', 'guido', 'irv']"
      ]
     },
     "execution_count": 67,
     "metadata": {},
     "output_type": "execute_result"
    }
   ],
   "source": [
    "list(tel) # 按插入次序排列, 返回该字典中所有键的列表"
   ]
  },
  {
   "cell_type": "code",
   "execution_count": 68,
   "id": "f80e3ea5-b57c-4939-afa6-5dc15e6ac388",
   "metadata": {},
   "outputs": [
    {
     "data": {
      "text/plain": [
       "{'jack': 4098, 'guido': 4127, 'irv': 4127}"
      ]
     },
     "execution_count": 68,
     "metadata": {},
     "output_type": "execute_result"
    }
   ],
   "source": [
    "sorted(tel) # 排序所有键组成的列表\n",
    "tel"
   ]
  },
  {
   "cell_type": "markdown",
   "id": "21481a39-b806-46ab-a1e0-80c943832ccb",
   "metadata": {},
   "source": [
    "### dict 构造函数"
   ]
  },
  {
   "cell_type": "code",
   "execution_count": 69,
   "id": "b4dd0ad3-347f-407d-8952-7966914d4adc",
   "metadata": {},
   "outputs": [
    {
     "data": {
      "text/plain": [
       "{'sape': 4139, 'guido': 4127, 'jack': 4098}"
      ]
     },
     "execution_count": 69,
     "metadata": {},
     "output_type": "execute_result"
    }
   ],
   "source": [
    "# 直接用键值对序列创建字典\n",
    "dict([('sape', 4139), ('guido', 4127), ('jack', 4098)])"
   ]
  },
  {
   "cell_type": "code",
   "execution_count": 70,
   "id": "dc3c9b73-273e-4514-9055-e365c60e30e9",
   "metadata": {},
   "outputs": [
    {
     "data": {
      "text/plain": [
       "{'sape': 4139, 'guido': 4127, 'jack': 4098}"
      ]
     },
     "execution_count": 70,
     "metadata": {},
     "output_type": "execute_result"
    }
   ],
   "source": [
    "# 关键字参数指定键值创建字典\n",
    "dict(sape=4139, guido=4127, jack=4098)"
   ]
  },
  {
   "cell_type": "markdown",
   "id": "962b12e3-85bc-46b8-a729-7309c30c8cb7",
   "metadata": {},
   "source": [
    "### 推导式\n",
    "\n",
    "类似列表推导式，集合也支持推导式"
   ]
  },
  {
   "cell_type": "code",
   "execution_count": 71,
   "id": "c6de9b92-b8ee-4278-afab-8079201904e3",
   "metadata": {},
   "outputs": [
    {
     "data": {
      "text/plain": [
       "{2: 4, 4: 16, 6: 36}"
      ]
     },
     "execution_count": 71,
     "metadata": {},
     "output_type": "execute_result"
    }
   ],
   "source": [
    "{x: x**2 for x in (2, 4, 6)}"
   ]
  },
  {
   "cell_type": "markdown",
   "id": "ff5ce571-c41a-4545-9a3c-c5de743fd0d8",
   "metadata": {},
   "source": [
    "## 字典与列表的循环"
   ]
  },
  {
   "cell_type": "markdown",
   "id": "29019085-5f6b-406e-94bd-3b4605ed1684",
   "metadata": {},
   "source": [
    "### 字典执行循环\n",
    "\n",
    "当对字典执行循环时，可以使用 items() 方法同时提取键及其对应的值"
   ]
  },
  {
   "cell_type": "code",
   "execution_count": 72,
   "id": "f73fef11-9889-483a-badf-3b7708f18407",
   "metadata": {},
   "outputs": [
    {
     "name": "stdout",
     "output_type": "stream",
     "text": [
      "gallahad the pure\n",
      "robin the brave\n"
     ]
    }
   ],
   "source": [
    "knights = {'gallahad': 'the pure', 'robin': 'the brave'}\n",
    "for k, v in knights.items():\n",
    "    print(k, v)"
   ]
  },
  {
   "cell_type": "markdown",
   "id": "a4ff6b1b-1ae5-4ab9-ba39-dc42b7d61069",
   "metadata": {},
   "source": [
    "### 序列循环\n",
    "\n",
    "Python中常见的序列有：字符串（String）、列表（List）、元组（Tuple）、范围（Range）、集合（Set）、字典（Dict）\n",
    "\n",
    "在序列中循环时，用 enumerate() 函数可以同时取出位置索引和对应的值："
   ]
  },
  {
   "cell_type": "code",
   "execution_count": 76,
   "id": "bd5a55c1-99fe-416a-9035-3e763b8fc7d0",
   "metadata": {},
   "outputs": [
    {
     "name": "stdout",
     "output_type": "stream",
     "text": [
      "0 = tic, 1 = tac, 2 = toe, \n",
      "0 = a, 1 = b, 2 = c, 3 = 中, 4 = 国, 5 = d, 6 = e, 7 = f, \n",
      "0 = gallahad, 1 = robin, \n",
      "0 = c, 1 = b, 2 = a, \n",
      "0 = 12345, 1 = 54321, 2 = hello!, "
     ]
    }
   ],
   "source": [
    "for i, v in enumerate(['tic', 'tac', 'toe']): # 列表\n",
    "    print(i, \"=\", v, end=', ')\n",
    "\n",
    "print()\n",
    "\n",
    "for i, v in enumerate(\"abc中国def\"): # 字符串\n",
    "    print(i, \"=\", v, end=', ')\n",
    "\n",
    "print()\n",
    "for i, v in enumerate(knights): # 字典\n",
    "    print(i, \"=\", v, end=', ')\n",
    "\n",
    "print()\n",
    "for i, v in enumerate(set('abc')): # 集合\n",
    "    print(i, \"=\", v, end=', ')\n",
    "\n",
    "print()\n",
    "for i, v in enumerate((12345, 54321, 'hello!')): # 元组\n",
    "    print(i, \"=\", v, end=', ')"
   ]
  },
  {
   "cell_type": "markdown",
   "id": "3fb34096-fcca-42c2-87a9-1e244d434a5d",
   "metadata": {},
   "source": [
    "### zip打包后循环\n",
    "\n",
    "Python 中的 zip() 函数用于将多个可迭代对象（如列表、元组、字符串等）打包成一个元组的迭代器，然后可以用于创建字典、列表或其他数据结构。\n",
    "\n",
    "```\n",
    "zip(iterable, ..., ...)\n",
    "```\n",
    "\n",
    "- iterable：一个或多个可迭代对象。\n",
    "\n",
    "zip() 函数返回一个迭代器，该迭代器生成元组，每个元组包含输入的每个可迭代对象的下一个元素。当最短的可迭代对象耗尽时，迭代结束。"
   ]
  },
  {
   "cell_type": "code",
   "execution_count": 77,
   "id": "f7b6c107-eb5c-4414-a4fb-4bd11240e2b4",
   "metadata": {},
   "outputs": [
    {
     "name": "stdout",
     "output_type": "stream",
     "text": [
      "[(1, 'a'), (2, 'b'), (3, 'c')]\n"
     ]
    }
   ],
   "source": [
    "# zip示例1\n",
    "\n",
    "# 列表\n",
    "list1 = [1, 2, 3, 4] # 4元素是多余的，不会迭代出来\n",
    "list2 = ['a', 'b', 'c']\n",
    "# 使用 zip 函数\n",
    "zipped = zip(list1, list2)\n",
    "# 将 zip 对象转换为列表\n",
    "zipped_list = list(zipped)\n",
    "print(zipped_list)  # 输出: [(1, 'a'), (2, 'b'), (3, 'c')]"
   ]
  },
  {
   "cell_type": "code",
   "execution_count": 78,
   "id": "b74218fa-7493-44d7-9ea8-f1f22486860e",
   "metadata": {},
   "outputs": [
    {
     "name": "stdout",
     "output_type": "stream",
     "text": [
      "{'name': 'Alice', 'age': 25, 'city': 'New York'}\n"
     ]
    }
   ],
   "source": [
    "# zip示例2： 创建字典\n",
    "keys = ['name', 'age', 'city']\n",
    "values = ['Alice', 25, 'New York']\n",
    "\n",
    "# 使用 zip 和 dict 函数创建字典\n",
    "my_dict = dict(zip(keys, values))\n",
    "\n",
    "print(my_dict)  # 输出: {'name': 'Alice', 'age': 25, 'city': 'New York'}"
   ]
  },
  {
   "cell_type": "code",
   "execution_count": 79,
   "id": "e74029d9-8734-489b-a976-d99bf3c5315e",
   "metadata": {},
   "outputs": [
    {
     "name": "stdout",
     "output_type": "stream",
     "text": [
      "What is your name?  It is lancelot.\n",
      "What is your quest?  It is the holy grail.\n",
      "What is your favorite color?  It is blue.\n"
     ]
    }
   ],
   "source": [
    "# zip示例3： 打包后循环\n",
    "questions = ['name', 'quest', 'favorite color']\n",
    "answers = ['lancelot', 'the holy grail', 'blue']\n",
    "\n",
    "for q, a in zip(questions, answers):\n",
    "    print('What is your {0}?  It is {1}.'.format(q, a))"
   ]
  },
  {
   "cell_type": "markdown",
   "id": "df396643-4a5f-4101-8f95-72d0aa50ffa1",
   "metadata": {},
   "source": [
    "### 逆向循环"
   ]
  },
  {
   "cell_type": "code",
   "execution_count": 80,
   "id": "29338a8d-67c4-4581-a64d-c93a21fe8e10",
   "metadata": {},
   "outputs": [
    {
     "name": "stdout",
     "output_type": "stream",
     "text": [
      "9, 7, 5, 3, 1, "
     ]
    }
   ],
   "source": [
    "for i in reversed(range(1, 10, 2)):\n",
    "    print(i, end=\", \")"
   ]
  },
  {
   "cell_type": "markdown",
   "id": "65757038-ace2-4330-87ab-943c31401497",
   "metadata": {},
   "source": [
    "### 排序后再循环"
   ]
  },
  {
   "cell_type": "code",
   "execution_count": 81,
   "id": "d6ecd3fb-27c5-4a04-bf01-4d7d31c1f945",
   "metadata": {},
   "outputs": [
    {
     "name": "stdout",
     "output_type": "stream",
     "text": [
      "apple, apple, banana, orange, orange, pear, "
     ]
    }
   ],
   "source": [
    "basket = ['apple', 'orange', 'apple', 'pear', 'orange', 'banana']\n",
    "for i in sorted(basket): # sorted不会更改原始序列\n",
    "    print(i, end=\", \")"
   ]
  },
  {
   "cell_type": "markdown",
   "id": "978a1280-e715-4942-8a03-cd593ae1e115",
   "metadata": {},
   "source": [
    "### 去重后再循环"
   ]
  },
  {
   "cell_type": "code",
   "execution_count": 82,
   "id": "beab3491-435a-4336-9ba9-7fc482a064dd",
   "metadata": {},
   "outputs": [
    {
     "name": "stdout",
     "output_type": "stream",
     "text": [
      "apple, banana, orange, pear, "
     ]
    }
   ],
   "source": [
    "basket = ['apple', 'orange', 'apple', 'pear', 'orange', 'banana']\n",
    "\n",
    "for f in sorted(set(basket)):\n",
    "    print(f, end=\", \")"
   ]
  },
  {
   "cell_type": "code",
   "execution_count": null,
   "id": "d72aa7c8-5869-4911-8022-ddf2fd91ed43",
   "metadata": {},
   "outputs": [],
   "source": []
  },
  {
   "cell_type": "markdown",
   "id": "4bea0466-5b92-43ae-8223-33f9723fa723",
   "metadata": {},
   "source": [
    "##  序列和其他类型的比较\n",
    "\n",
    "- 序列对象可以与相同序列类型的其他对象比较。这种比较使用 字典式 顺序：首先，比较前两个对应元素，如果不相等，则可确定比较结果；如果相等，则比较之后的两个元素，以此类推，直到其中一个序列结束。\n",
    "- 如果要比较的两个元素本身是相同类型的序列，则递归地执行字典式顺序比较。如果两个序列中所有的对应元素都相等，则两个序列相等。\n",
    "- 如果一个序列是另一个的初始子序列，则较短的序列可被视为较小（较少）的序列。 对于字符串来说，字典式顺序使用 Unicode 码位序号排序单个字符。\n",
    "\n",
    "**注意：** 当比较不同类型的对象时，只要待比较的对象提供了合适的比较方法，就可以使用 < 和 > 进行比较。例如，混合的数字类型通过数字值进行比较，所以，0 等于 0.0，等等。如果没有提供合适的比较方法，解释器不会随便给出一个比较结果，而是引发 TypeError 异常。"
   ]
  },
  {
   "cell_type": "code",
   "execution_count": 83,
   "id": "0d5871b3-1000-4e12-8935-fa361bfc7e11",
   "metadata": {
    "editable": true,
    "slideshow": {
     "slide_type": ""
    },
    "tags": []
   },
   "outputs": [
    {
     "data": {
      "text/plain": [
       "True"
      ]
     },
     "execution_count": 83,
     "metadata": {},
     "output_type": "execute_result"
    }
   ],
   "source": [
    "(1, 2, 3) < (1, 2, 4)"
   ]
  },
  {
   "cell_type": "code",
   "execution_count": 84,
   "id": "c77daddd-5de6-46c3-83bb-909e8c09e442",
   "metadata": {},
   "outputs": [
    {
     "data": {
      "text/plain": [
       "True"
      ]
     },
     "execution_count": 84,
     "metadata": {},
     "output_type": "execute_result"
    }
   ],
   "source": [
    "[1, 2, 3] < [1, 2, 4]"
   ]
  },
  {
   "cell_type": "code",
   "execution_count": 85,
   "id": "05c70a98-b91f-407b-be2d-333e3547ae28",
   "metadata": {},
   "outputs": [
    {
     "data": {
      "text/plain": [
       "True"
      ]
     },
     "execution_count": 85,
     "metadata": {},
     "output_type": "execute_result"
    }
   ],
   "source": [
    "'ABC' < 'C' < 'Pascal' < 'Python'"
   ]
  },
  {
   "cell_type": "code",
   "execution_count": 86,
   "id": "f533d4be-c190-49d6-a613-eea07fc3a8c3",
   "metadata": {},
   "outputs": [
    {
     "data": {
      "text/plain": [
       "True"
      ]
     },
     "execution_count": 86,
     "metadata": {},
     "output_type": "execute_result"
    }
   ],
   "source": [
    "(1, 2, 3, 4)  < (1, 2, 4)"
   ]
  },
  {
   "cell_type": "code",
   "execution_count": 87,
   "id": "9afdcdac-ee1e-4498-ac5d-a1cac97dab00",
   "metadata": {},
   "outputs": [
    {
     "data": {
      "text/plain": [
       "True"
      ]
     },
     "execution_count": 87,
     "metadata": {},
     "output_type": "execute_result"
    }
   ],
   "source": [
    "(1, 2)   < (1, 2, -1)"
   ]
  },
  {
   "cell_type": "code",
   "execution_count": 88,
   "id": "bcbd8040-ffe9-421f-9fd5-1ecc59ad0cc1",
   "metadata": {},
   "outputs": [
    {
     "data": {
      "text/plain": [
       "True"
      ]
     },
     "execution_count": 88,
     "metadata": {},
     "output_type": "execute_result"
    }
   ],
   "source": [
    "(1, 2, 3)   == (1.0, 2.0, 3.0)"
   ]
  },
  {
   "cell_type": "code",
   "execution_count": 89,
   "id": "fd5556b9-0696-4b92-9493-2ce8d3fbbe84",
   "metadata": {
    "editable": true,
    "slideshow": {
     "slide_type": ""
    },
    "tags": []
   },
   "outputs": [
    {
     "data": {
      "text/plain": [
       "True"
      ]
     },
     "execution_count": 89,
     "metadata": {},
     "output_type": "execute_result"
    }
   ],
   "source": [
    "(1, 2, ('aa', 'ab'))  < (1, 2, ('abc', 'a'), 4)"
   ]
  }
 ],
 "metadata": {
  "kernelspec": {
   "display_name": "Python 3 (ipykernel)",
   "language": "python",
   "name": "python3"
  },
  "language_info": {
   "codemirror_mode": {
    "name": "ipython",
    "version": 3
   },
   "file_extension": ".py",
   "mimetype": "text/x-python",
   "name": "python",
   "nbconvert_exporter": "python",
   "pygments_lexer": "ipython3",
   "version": "3.10.12"
  }
 },
 "nbformat": 4,
 "nbformat_minor": 5
}
