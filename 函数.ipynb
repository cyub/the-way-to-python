{
 "cells": [
  {
   "cell_type": "markdown",
   "id": "5178e726-698d-416b-9685-933cf7721d56",
   "metadata": {},
   "source": [
    "## 函数"
   ]
  },
  {
   "cell_type": "markdown",
   "id": "a6ba6fc3-aa08-4c79-840b-7de67075a602",
   "metadata": {},
   "source": [
    "### 定义函数\n",
    "\n",
    "定义 函数使用关键字 def，后跟函数名与括号内的形参列表。函数语句从下一行开始，并且必须缩进。\n",
    "\n",
    "函数内的第一条语句是字符串时，该字符串就是文档字符串，也称为 docstring，详见 文档字符串。利用文档字符串可以自动生成在线文档或打印版文档，还可以让开发者在浏览代码时直接查阅文档。\n",
    "\n",
    "函数在 执行 时使用函数局部变量符号表，所有函数变量赋值都存在局部符号表中；引用变量时，首先，在局部符号表里查找变量，然后，是外层函数局部符号表，再是全局符号表，最后是内置名称符号表。因此，尽管可以引用全局变量和外层函数的变量，但最好不要在函数内直接赋值（除非是 global 语句定义的全局变量，或 nonlocal 语句定义的外层函数变量）。\n",
    "\n",
    "在调用函数时会将实际参数（实参）引入到被调用函数的局部符号表中；因此，实参是使用 按值调用 来传递的（其中的 值 始终是对象的 引用 而不是对象的值）。 当一个函数调用另外一个函数时，会为该调用创建一个新的局部符号表。\n",
    "\n",
    "函数定义在当前符号表中把函数名与函数对象关联在一起。解释器把函数名指向的对象作为用户自定义函数。还可以使用其他名称指向同一个函数对象，并访问访该函数"
   ]
  },
  {
   "cell_type": "code",
   "execution_count": 1,
   "id": "e4691df3-664c-4333-85cb-d93cfc20cf3b",
   "metadata": {},
   "outputs": [
    {
     "name": "stdout",
     "output_type": "stream",
     "text": [
      "0 1 1 2 3 5 8 13 21 34 55 89 144 233 377 610 987 1597 \n"
     ]
    }
   ],
   "source": [
    "def fib(n):    # 输出斐波那契数列直到 n\n",
    "    \"\"\"Print a Fibonacci series up to n.\"\"\"\n",
    "    a, b = 0, 1\n",
    "    while a < n:\n",
    "        print(a, end=' ')\n",
    "        a, b = b, a+b\n",
    "    print()\n",
    "\n",
    "# 现在调用我们刚定义的函数：\n",
    "fib(2000)"
   ]
  },
  {
   "cell_type": "code",
   "execution_count": 2,
   "id": "d6d48eab-0bae-411f-9c51-373a4aa9fe52",
   "metadata": {},
   "outputs": [
    {
     "data": {
      "text/plain": [
       "<function __main__.fib(n)>"
      ]
     },
     "execution_count": 2,
     "metadata": {},
     "output_type": "execute_result"
    }
   ],
   "source": [
    "fib"
   ]
  },
  {
   "cell_type": "code",
   "execution_count": 3,
   "id": "42fb921b-ae5a-4c1c-898f-1a0ea7fff7f8",
   "metadata": {},
   "outputs": [
    {
     "name": "stdout",
     "output_type": "stream",
     "text": [
      "0 1 1 2 3 5 8 13 21 34 55 89 \n"
     ]
    }
   ],
   "source": [
    "f = fib\n",
    "f(100)"
   ]
  },
  {
   "cell_type": "markdown",
   "id": "3e17a876-cf5b-43b0-a2a8-599c3bdbb5c0",
   "metadata": {},
   "source": [
    "即使没有 return 语句的函数也有返回值，尽管这个值可能相当无聊。 这个值被称为 None (是一个内置名称)。 通常解释器会屏蔽单独的返回值 None。 如果你确有需要可以使用 print() 查看它。"
   ]
  },
  {
   "cell_type": "code",
   "execution_count": 4,
   "id": "6aed8c19-8b30-4d14-9dfd-e7bd658a20f9",
   "metadata": {},
   "outputs": [
    {
     "name": "stdout",
     "output_type": "stream",
     "text": [
      "\n",
      "None\n"
     ]
    }
   ],
   "source": [
    "print(fib(0))"
   ]
  },
  {
   "cell_type": "markdown",
   "id": "f5563aa6-d912-435b-bc94-e384d248c19b",
   "metadata": {},
   "source": [
    "### 函数参数"
   ]
  },
  {
   "cell_type": "markdown",
   "id": "065985a0-f7c1-4ebf-b557-acdf4d53c615",
   "metadata": {},
   "source": [
    "#### 默认值参数"
   ]
  },
  {
   "cell_type": "code",
   "execution_count": 5,
   "id": "a88f75dc-2864-4fde-938d-95b2061457a0",
   "metadata": {},
   "outputs": [],
   "source": [
    "def ask_ok(prompt, retries=4, reminder='Please try again!'):\n",
    "    while True:\n",
    "        reply = input(prompt)\n",
    "        if reply in {'y', 'ye', 'yes'}:\n",
    "            return True\n",
    "        if reply in {'n', 'no', 'nop', 'nope'}:\n",
    "            return False\n",
    "        retries = retries - 1\n",
    "        if retries < 0:\n",
    "            raise ValueError('invalid user response')\n",
    "        print(reminder)"
   ]
  },
  {
   "cell_type": "code",
   "execution_count": 6,
   "id": "eeb3ddf0-8867-4b7c-b2f9-81553ceb98fc",
   "metadata": {},
   "outputs": [
    {
     "name": "stdin",
     "output_type": "stream",
     "text": [
      "Do you really want to quit? y\n",
      "OK to overwrite the file? y\n",
      "OK to overwrite the file? y\n"
     ]
    },
    {
     "data": {
      "text/plain": [
       "True"
      ]
     },
     "execution_count": 6,
     "metadata": {},
     "output_type": "execute_result"
    }
   ],
   "source": [
    "ask_ok('Do you really want to quit?') # 只给出必选实参\n",
    "ask_ok('OK to overwrite the file?', 2) # 给出一个可选实参\n",
    "ask_ok('OK to overwrite the file?', 2, 'Come on, only yes or no!') # 给出所有实参"
   ]
  },
  {
   "cell_type": "markdown",
   "id": "5b368c56-f8a8-45e9-a1e4-2d7d827da7cc",
   "metadata": {},
   "source": [
    "默认值只计算一次。默认值为列表、字典或类实例等可变对象时，会产生与该规则不同的结果。例如，下面的函数会累积后续调用时传递的参数："
   ]
  },
  {
   "cell_type": "code",
   "execution_count": 7,
   "id": "a920477d-9ef5-4101-bd28-203e5407d586",
   "metadata": {},
   "outputs": [
    {
     "name": "stdout",
     "output_type": "stream",
     "text": [
      "5\n"
     ]
    }
   ],
   "source": [
    "i = 5\n",
    "\n",
    "def f(arg=i):\n",
    "    print(arg) # 输出5\n",
    "i = 6\n",
    "f()"
   ]
  },
  {
   "cell_type": "code",
   "execution_count": 8,
   "id": "1246b754-08cd-4238-962a-64055c9ef5a0",
   "metadata": {},
   "outputs": [
    {
     "name": "stdout",
     "output_type": "stream",
     "text": [
      "[1]\n",
      "[1, 2]\n",
      "[1, 2, 3]\n"
     ]
    }
   ],
   "source": [
    "def f(a, L=[]):\n",
    "    L.append(a)\n",
    "    return L\n",
    "\n",
    "print(f(1)) # 会累积结果\n",
    "print(f(2))\n",
    "print(f(3))\n"
   ]
  },
  {
   "cell_type": "markdown",
   "id": "dc80d4d1-6eb9-46ec-91f1-c38da7f2114c",
   "metadata": {},
   "source": [
    "不想在后续调用之间共享默认值时，应以如下方式编写函数："
   ]
  },
  {
   "cell_type": "code",
   "execution_count": 9,
   "id": "72a52e7a-89f0-4ab0-a31a-4945b8fa1664",
   "metadata": {},
   "outputs": [
    {
     "name": "stdout",
     "output_type": "stream",
     "text": [
      "[1]\n",
      "[2]\n",
      "[3]\n"
     ]
    }
   ],
   "source": [
    "def f(a, L=None):\n",
    "    if L is None:\n",
    "        L = []\n",
    "    L.append(a)\n",
    "    return L\n",
    "print(f(1)) # 不会累积结果\n",
    "print(f(2))\n",
    "print(f(3))"
   ]
  },
  {
   "cell_type": "markdown",
   "id": "3e2ed52a-7624-4028-befb-39ac29e1b303",
   "metadata": {},
   "source": [
    "#### 关键字参数\n",
    "\n",
    "kwarg=value 形式的参数（实参）称为 关键字参数，也称为命令形参。"
   ]
  },
  {
   "cell_type": "code",
   "execution_count": 10,
   "id": "593267f8-4ddc-458d-a0ab-f4f0e860047c",
   "metadata": {},
   "outputs": [],
   "source": [
    "# 定义函数接受一个必选参数（voltage）和三个可选参数（state, action 和 type）\n",
    "def parrot(voltage, state='a stiff', action='voom', type='Norwegian Blue'):\n",
    "    print(\"-- This parrot wouldn't\", action, end=' ')\n",
    "    print(\"if you put\", voltage, \"volts through it.\")\n",
    "    print(\"-- Lovely plumage, the\", type)\n",
    "    print(\"-- It's\", state, \"!\")"
   ]
  },
  {
   "cell_type": "code",
   "execution_count": 11,
   "id": "c711df3b-f0ec-460c-a173-a0d6ebbdfda6",
   "metadata": {},
   "outputs": [
    {
     "name": "stdout",
     "output_type": "stream",
     "text": [
      "-- This parrot wouldn't voom if you put 1000 volts through it.\n",
      "-- Lovely plumage, the Norwegian Blue\n",
      "-- It's a stiff !\n",
      "-- This parrot wouldn't voom if you put 1000 volts through it.\n",
      "-- Lovely plumage, the Norwegian Blue\n",
      "-- It's a stiff !\n",
      "-- This parrot wouldn't VOOOOOM if you put 1000000 volts through it.\n",
      "-- Lovely plumage, the Norwegian Blue\n",
      "-- It's a stiff !\n",
      "-- This parrot wouldn't VOOOOOM if you put 1000000 volts through it.\n",
      "-- Lovely plumage, the Norwegian Blue\n",
      "-- It's a stiff !\n",
      "-- This parrot wouldn't jump if you put a million volts through it.\n",
      "-- Lovely plumage, the Norwegian Blue\n",
      "-- It's bereft of life !\n",
      "-- This parrot wouldn't voom if you put a thousand volts through it.\n",
      "-- Lovely plumage, the Norwegian Blue\n",
      "-- It's pushing up the daisies !\n"
     ]
    }
   ],
   "source": [
    "parrot(1000)                                          # 1 个位置参数\n",
    "parrot(voltage=1000)                                  # 1 个关键字参数\n",
    "parrot(voltage=1000000, action='VOOOOOM')             # 2 个关键字参数\n",
    "parrot(action='VOOOOOM', voltage=1000000)             # 2 个关键字参数\n",
    "parrot('a million', 'bereft of life', 'jump')         # 3 个位置参数\n",
    "parrot('a thousand', state='pushing up the daisies')  # 1 个位置参数，1 个关键字参数"
   ]
  },
  {
   "cell_type": "markdown",
   "id": "d3a66c5a-22b7-4d1a-93f7-a68db5cedeb5",
   "metadata": {},
   "source": [
    "函数调用时，关键字参数必须跟在位置参数后面。关键字参数的顺序并不重要，但必须匹配函数定义的中的参数。以下调用函数的方式都无效："
   ]
  },
  {
   "cell_type": "code",
   "execution_count": 12,
   "id": "1fe73f64-0a0b-40f4-bfc7-853d50ff7754",
   "metadata": {},
   "outputs": [
    {
     "ename": "SyntaxError",
     "evalue": "positional argument follows keyword argument (3731229080.py, line 2)",
     "output_type": "error",
     "traceback": [
      "\u001b[0;36m  Cell \u001b[0;32mIn[12], line 2\u001b[0;36m\u001b[0m\n\u001b[0;31m    parrot(voltage=5.0, 'dead')  # 关键字参数后存在非关键字参数\u001b[0m\n\u001b[0m                              ^\u001b[0m\n\u001b[0;31mSyntaxError\u001b[0m\u001b[0;31m:\u001b[0m positional argument follows keyword argument\n"
     ]
    }
   ],
   "source": [
    "parrot()                     # 缺失必需的参数\n",
    "parrot(voltage=5.0, 'dead')  # 关键字参数后存在非关键字参数\n",
    "parrot(110, voltage=220)     # 同一个参数重复的值\n",
    "parrot(actor='John Cleese')  # 未知的关键字参数"
   ]
  },
  {
   "cell_type": "markdown",
   "id": "049e6981-b74b-4343-ae5a-f932b1f4dc45",
   "metadata": {},
   "source": [
    "##### 约束参数形式\n",
    "\n",
    "我们可以使用`/`,`*`来约定参数形式：\n",
    "\n",
    "```\n",
    "def f(pos1, pos2, /, pos_or_kwd, *, kwd1, kwd2):\n",
    "      -----------    ----------     ----------\n",
    "        |             |                  |\n",
    "        |        位置或关键字   |\n",
    "        |                                - 仅限关键字\n",
    "         -- 仅限位置\n",
    "```\n",
    "\n",
    "/ 和 * 是可选的。这些符号表明形参如何把参数值传递给函数：位置、位置或关键字、关键字。函数定义中未使用 / 和 * 时，参数可以按位置或关键字传递给函数。"
   ]
  },
  {
   "cell_type": "code",
   "execution_count": null,
   "id": "44b9bb25-0d1b-4624-b1b0-f5ae92652741",
   "metadata": {},
   "outputs": [],
   "source": [
    "def standard_arg(arg): # 没有任何限制\n",
    "    print(arg)\n",
    "\n",
    "def pos_only_arg(arg, /): # 只允许位置参数\n",
    "    print(arg)\n",
    "\n",
    "def kwd_only_arg(*, arg): # 只允许命名参数\n",
    "    print(arg)\n",
    "\n",
    "def combined_example(pos_only, /, standard, *, kwd_only): \n",
    "    print(pos_only, standard, kwd_only)"
   ]
  },
  {
   "cell_type": "markdown",
   "id": "51762bce-67f7-46a0-847a-8f2f8b117d23",
   "metadata": {},
   "source": [
    "#### 任意实参列表\n",
    "\n",
    "任意实参列表也称为可变参数，保存到元组里面。"
   ]
  },
  {
   "cell_type": "code",
   "execution_count": null,
   "id": "17e10701-e731-4b7e-bcbd-015f4e11d0cd",
   "metadata": {},
   "outputs": [],
   "source": [
    "def write_multiple_items(file, separator, *args):\n",
    "    file.write(separator.join(args))\n",
    "def say_hi(greet, *args):\n",
    "    print(\"say \" + greet + \" to \")\n",
    "    for arg in args:\n",
    "        print(arg)\n",
    "say_hi(\"hi\", \"lucy\", \"jack\", \"frank\")"
   ]
  },
  {
   "cell_type": "markdown",
   "id": "0776eef6-f062-4960-86a8-5d2e195dfc7c",
   "metadata": {},
   "source": [
    "*args 形参后的任何形式参数只能是仅限关键字参数，即只能用作关键字参数，不能用作位置参数："
   ]
  },
  {
   "cell_type": "code",
   "execution_count": null,
   "id": "3681f636-0e87-4ab5-bd7f-d56e3c548826",
   "metadata": {},
   "outputs": [],
   "source": [
    "def concat(*args, sep=\"/\"):\n",
    "    return sep.join(args)\n",
    "\n",
    "print(concat(\"earth\", \"mars\", \"venus\"))\n",
    "print(concat(\"earth\", \"mars\", \"venus\", sep=\".\"))"
   ]
  },
  {
   "cell_type": "markdown",
   "id": "81341f24-7567-4ca4-906b-abb0c24498b5",
   "metadata": {},
   "source": [
    "####  解包实参列表\n",
    "\n",
    "函数调用要求独立的位置参数，但实参在列表或元组里时，要执行解包实参的操作。\n",
    "\n",
    "-  \\* 操作符把实参从列表或元组解包出来\n",
    "- \\*\\* 操作符解包字典"
   ]
  },
  {
   "cell_type": "code",
   "execution_count": null,
   "id": "708d3538-d6c9-4273-889d-d2b862cf576d",
   "metadata": {},
   "outputs": [],
   "source": [
    "l = list(range(3, 6))            # 附带两个参数的正常调用\n",
    "print(l)\n",
    "\n",
    "args = [3, 6]\n",
    "l = list(range(*args)) # 解包列表\n",
    "print(l)"
   ]
  },
  {
   "cell_type": "code",
   "execution_count": null,
   "id": "a51e065c-4214-43fc-9e6e-94b4b3cdc3b0",
   "metadata": {},
   "outputs": [],
   "source": [
    "def parrot(voltage, state='a stiff', action='voom'):\n",
    "    print(\"-- This parrot wouldn't\", action, end=' ')\n",
    "\n",
    "    print(\"if you put\", voltage, \"volts through it.\", end=' ')\n",
    "\n",
    "    print(\"E's\", state, \"!\")\n",
    "\n",
    "d = {\"voltage\": \"four million\", \"state\": \"bleedin' demised\", \"action\": \"VOOM\"}\n",
    "parrot(**d) # 解包字典"
   ]
  },
  {
   "cell_type": "markdown",
   "id": "9f036309-a425-4fa2-994a-a77ec716dbde",
   "metadata": {},
   "source": [
    "### Lambda 表达式\n",
    "\n",
    "lambda 关键字用于创建小巧的匿名函数。lambda a, b: a+b 函数返回两个参数的和。Lambda 函数可用于任何需要函数对象的地方。在语法上，匿名函数只能是单个表达式。在语义上，它只是常规函数定义的语法糖。与嵌套函数定义一样，lambda 函数可以引用包含作用域中的变量。"
   ]
  },
  {
   "cell_type": "code",
   "execution_count": null,
   "id": "68a1c531-9506-4fe8-b86e-7a41885871ef",
   "metadata": {},
   "outputs": [],
   "source": [
    "def make_incrementor(n):\n",
    "    return lambda x: x + n\n",
    "\n",
    "f = make_incrementor(42)\n",
    "print(f(0))\n",
    "print(f(1))"
   ]
  },
  {
   "cell_type": "markdown",
   "id": "fb8347aa-becc-4976-954b-5d3eb66f3f6b",
   "metadata": {},
   "source": [
    "### 文档字符串\n",
    "\n",
    "档字符串内容和格式的约定:\n",
    "\n",
    "- 第一行应为对象用途的简短摘要。为保持简洁，不要在这里显式说明对象名或类型，因为可通过其他方式获取这些信息（除非该名称碰巧是描述函数操作的动词）。这一行应以大写字母开头，以句点结尾。\n",
    "\n",
    "- 文档字符串为多行时，第二行应为空白行，在视觉上将摘要与其余描述分开。后面的行可包含若干段落，描述对象的调用约定、副作用等。\n",
    "\n",
    "    Python 解析器不会删除 Python 中多行字符串字面值的缩进，因此，文档处理工具应在必要时删除缩进。这项操作遵循以下约定：文档字符串第一行 之后 的第一个非空行决定了整个文档字符串的缩进量（第一行通常与字符串开头的引号相邻，其缩进在字符串中并不明显，因此，不能用第一行的缩进），然后，删除字符串中所有行开头处与此缩进“等价”的空白符。不能有比此缩进更少的行，但如果出现了缩进更少的行，应删除这些行的所有前导空白符。转化制表符后（通常为 8 个空格），应测试空白符的等效性。"
   ]
  },
  {
   "cell_type": "code",
   "execution_count": null,
   "id": "22a1736d-e6ba-452a-be74-63dac3f60139",
   "metadata": {},
   "outputs": [],
   "source": [
    "def my_function():\n",
    "\n",
    "    \"\"\"Do nothing, but document it.\n",
    "\n",
    "    No, really, it doesn't do anything.\n",
    "    \"\"\"\n",
    "    pass\n",
    "\n",
    "print(my_function.__doc__)"
   ]
  },
  {
   "cell_type": "markdown",
   "id": "4c261e69-9911-4fec-ad9e-3f4cfef55e4a",
   "metadata": {},
   "source": [
    "### 函数注解\n",
    "\n",
    "函数注解 是可选的用户自定义函数类型的元数据完整信息。\n",
    "\n",
    "标注 以字典的形式存放在函数的 __annotations__ 属性中而对函数的其他部分没有影响。 形参标注的定义方式是在形参名后加冒号，后面跟一个会被求值为标注的值的表达式。 返回值标注的定义方式是加组合符号 ->，后面跟一个表达式，这样的校注位于形参列表和表示 def 语句结束的冒号。"
   ]
  },
  {
   "cell_type": "code",
   "execution_count": null,
   "id": "60889e4f-ca55-4369-969c-75a1b7b5bd39",
   "metadata": {},
   "outputs": [],
   "source": [
    "def f(ham: str, eggs: str = 'eggs') -> str:\n",
    "    print(\"Annotations:\", f.__annotations__)\n",
    "    print(\"Arguments:\", ham, eggs)\n",
    "    return ham + ' and ' + eggs\n",
    "f('spam')"
   ]
  },
  {
   "cell_type": "markdown",
   "id": "346b6454-6f33-4af0-8e3a-cf3123797e9c",
   "metadata": {},
   "source": [
    "### 编码风格\n",
    "\n",
    "Python 项目大多都遵循 [PEP 8](https://peps.python.org/pep-0008/) 的风格指南；它推行的编码风格易于阅读、赏心悦目。Python 开发者均应抽时间悉心研读；以下是该提案中的核心要点：\n",
    "\n",
    "- 缩进，用 4 个空格，不要用制表符。\n",
    "      4 个空格是小缩进（更深嵌套）和大缩进（更易阅读）之间的折中方案。制表符会引起混乱，最好别用。\n",
    "\n",
    "- 换行，一行不超过 79 个字符。\n",
    "\n",
    "    这样换行的小屏阅读体验更好，还便于在大屏显示器上并排阅读多个代码文件。\n",
    "\n",
    "- 用空行分隔函数和类，及函数内较大的代码块。\n",
    "\n",
    "- 最好把注释放到单独一行。\n",
    "\n",
    "- 使用文档字符串。\n",
    "\n",
    "- 运算符前后、逗号后要用空格，但不要直接在括号内使用： a = f(1, 2) + g(3, 4)。\n",
    "\n",
    "- 类和函数的命名要一致；按惯例，命名类用 UpperCamelCase，命名函数与方法用 lowercase_with_underscores。命名方法中第一个参数总是用 self。\n",
    "\n",
    "- 编写用于国际多语环境的代码时，不要用生僻的编码。Python 默认的 UTF-8 或纯 ASCII 可以胜任各种情况。\n",
    "\n",
    "- 同理，就算多语阅读、维护代码的可能再小，也不要在标识符中使用非 ASCII 字符。\n"
   ]
  }
 ],
 "metadata": {
  "kernelspec": {
   "display_name": "Python 3 (ipykernel)",
   "language": "python",
   "name": "python3"
  },
  "language_info": {
   "codemirror_mode": {
    "name": "ipython",
    "version": 3
   },
   "file_extension": ".py",
   "mimetype": "text/x-python",
   "name": "python",
   "nbconvert_exporter": "python",
   "pygments_lexer": "ipython3",
   "version": "3.10.12"
  }
 },
 "nbformat": 4,
 "nbformat_minor": 5
}
