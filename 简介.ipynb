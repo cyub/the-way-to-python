{
 "cells": [
  {
   "cell_type": "markdown",
   "id": "e7062bad-a8ef-4380-a979-88e149b3c91d",
   "metadata": {},
   "source": [
    "# The way to Python"
   ]
  },
  {
   "cell_type": "markdown",
   "id": "f59d84e3-7064-4b87-a60b-dec7cd19d9e5",
   "metadata": {},
   "source": [
    "中文名称：Python入门指南"
   ]
  },
  {
   "cell_type": "markdown",
   "id": "1510f40e-196a-4531-b247-6805e84093e6",
   "metadata": {},
   "source": [
    "参考资料：[Python 教程](https://docs.python.org/zh-cn/3/tutorial/index.html)"
   ]
  },
  {
   "cell_type": "code",
   "execution_count": null,
   "id": "0536c9c9-b272-4b79-8d32-4aec8b2490d0",
   "metadata": {},
   "outputs": [],
   "source": []
  }
 ],
 "metadata": {
  "kernelspec": {
   "display_name": "Python 3 (ipykernel)",
   "language": "python",
   "name": "python3"
  },
  "language_info": {
   "codemirror_mode": {
    "name": "ipython",
    "version": 3
   },
   "file_extension": ".py",
   "mimetype": "text/x-python",
   "name": "python",
   "nbconvert_exporter": "python",
   "pygments_lexer": "ipython3",
   "version": "3.10.12"
  }
 },
 "nbformat": 4,
 "nbformat_minor": 5
}
