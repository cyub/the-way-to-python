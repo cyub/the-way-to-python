{
 "cells": [
  {
   "cell_type": "markdown",
   "id": "bbb67c32-a62d-4f85-920d-cd56b31cb0d0",
   "metadata": {},
   "source": [
    "## 控制流"
   ]
  },
  {
   "cell_type": "markdown",
   "id": "f6592b9a-7266-41ef-949f-e445e87d20dc",
   "metadata": {},
   "source": [
    "### if语句"
   ]
  },
  {
   "cell_type": "code",
   "execution_count": 1,
   "id": "764a435b-be6b-4066-96fb-d4cca3217184",
   "metadata": {},
   "outputs": [
    {
     "name": "stdin",
     "output_type": "stream",
     "text": [
      "请输入一个数字: 1\n"
     ]
    }
   ],
   "source": [
    "x = int(input(\"请输入一个数字:\"))"
   ]
  },
  {
   "cell_type": "code",
   "execution_count": 2,
   "id": "659d3d57-8f54-42a2-a5c2-215fe41fb94f",
   "metadata": {},
   "outputs": [
    {
     "name": "stdout",
     "output_type": "stream",
     "text": [
      "大于零\n"
     ]
    }
   ],
   "source": [
    "if x< 0:\n",
    "    x = 0\n",
    "    print(\"小于零\")\n",
    "elif x == 0:\n",
    "    print(\"等于0\")\n",
    "else:\n",
    "    print(\"大于零\")"
   ]
  },
  {
   "cell_type": "markdown",
   "id": "7c4450d8-8fba-4a3e-831a-89bb5f1ccfaa",
   "metadata": {},
   "source": [
    "### for语句"
   ]
  },
  {
   "cell_type": "code",
   "execution_count": 5,
   "id": "01d535dc-0027-4287-94b4-e73475722c93",
   "metadata": {},
   "outputs": [
    {
     "name": "stdout",
     "output_type": "stream",
     "text": [
      "cat 3\n",
      "dog 3\n",
      "lion 4\n"
     ]
    }
   ],
   "source": [
    "## 迭代列表\n",
    "\n",
    "animals = ['cat', 'dog', 'lion']\n",
    "for a in animals:\n",
    "    print(a, len(a))"
   ]
  },
  {
   "cell_type": "code",
   "execution_count": 6,
   "id": "60042a68-cde8-4340-8176-2b65c9ee6fcc",
   "metadata": {},
   "outputs": [
    {
     "name": "stdout",
     "output_type": "stream",
     "text": [
      "Hans active\n",
      "Éléonore inactive\n",
      "景太郎 active\n"
     ]
    }
   ],
   "source": [
    "## 迭代字典\n",
    "users = {'Hans': 'active', 'Éléonore': 'inactive', '景太郎': 'active'}\n",
    "for user, status in users.items():\n",
    "    print(user, status)"
   ]
  },
  {
   "cell_type": "code",
   "execution_count": 7,
   "id": "bf1e35db-3ef5-4faa-8114-8885a1a6da54",
   "metadata": {
    "editable": true,
    "slideshow": {
     "slide_type": ""
    },
    "tags": []
   },
   "outputs": [
    {
     "name": "stdout",
     "output_type": "stream",
     "text": [
      "0 Mary\n",
      "1 had\n",
      "2 a\n",
      "3 little\n",
      "4 lamb\n"
     ]
    }
   ],
   "source": [
    "## 通过索引迭代列表\n",
    "\n",
    "a = ['Mary', 'had', 'a', 'little', 'lamb']\n",
    "for i in range(len(a)):\n",
    "    print(i, a[i])"
   ]
  },
  {
   "cell_type": "markdown",
   "id": "319d401d-2750-4d31-bc3b-bc06919d9b21",
   "metadata": {},
   "source": [
    "### break 和 continue 语句"
   ]
  },
  {
   "cell_type": "markdown",
   "id": "b2de8258-33aa-48f6-9523-aa28e682d914",
   "metadata": {},
   "source": [
    "break 语句将跳出最近的一层 for 或 while 循环:"
   ]
  },
  {
   "cell_type": "code",
   "execution_count": 9,
   "id": "10143a82-01e5-4cf1-aa2d-dffe07d6b051",
   "metadata": {},
   "outputs": [
    {
     "name": "stdout",
     "output_type": "stream",
     "text": [
      "4 equals 2 * 2\n",
      "6 equals 2 * 3\n",
      "8 equals 2 * 4\n",
      "9 equals 3 * 3\n"
     ]
    }
   ],
   "source": [
    "for n in range(2, 10):\n",
    "    for x in range(2, n):\n",
    "        if n % x == 0:\n",
    "            print(f\"{n} equals {x} * {n//x}\")\n",
    "            break"
   ]
  },
  {
   "cell_type": "markdown",
   "id": "207b8857-d837-4ae7-8c69-38d153d42a49",
   "metadata": {},
   "source": [
    "continue 语句将继续执行循环的下一次迭代:"
   ]
  },
  {
   "cell_type": "code",
   "execution_count": 10,
   "id": "d2805a9d-63e7-439a-b579-f68bd43805d2",
   "metadata": {},
   "outputs": [
    {
     "name": "stdout",
     "output_type": "stream",
     "text": [
      "Found an even number 2\n",
      "Found an odd number 3\n",
      "Found an even number 4\n",
      "Found an odd number 5\n",
      "Found an even number 6\n",
      "Found an odd number 7\n",
      "Found an even number 8\n",
      "Found an odd number 9\n"
     ]
    }
   ],
   "source": [
    "for num in range(2, 10):\n",
    "    if num % 2 == 0:\n",
    "        print(f\"Found an even number {num}\")\n",
    "        continue\n",
    "    print(f\"Found an odd number {num}\")"
   ]
  },
  {
   "cell_type": "markdown",
   "id": "9bbcb212-3783-48ed-ba8e-67dcb3359597",
   "metadata": {},
   "source": [
    "### 循环的 else 子句\n",
    "在 for 或 while 循环中 break 语句可能对应一个 else 子句。 如果循环在未执行 break 的情况下结束，else 子句将会执行。\n",
    "\n",
    "在 for 循环中，else 子句会在循环结束其他最后一次迭代之后，即未执行 break 的情况下被执行。\n",
    "\n",
    "在 while 循环中，它会在循环条件变为假值后执行。"
   ]
  },
  {
   "cell_type": "code",
   "execution_count": 11,
   "id": "15885374-4178-4cdf-8194-b0527998f272",
   "metadata": {},
   "outputs": [
    {
     "name": "stdout",
     "output_type": "stream",
     "text": [
      "2 is a prime number\n",
      "3 is a prime number\n",
      "4 equals 2 * 2\n",
      "5 is a prime number\n",
      "6 equals 2 * 3\n",
      "7 is a prime number\n",
      "8 equals 2 * 4\n",
      "9 equals 3 * 3\n"
     ]
    }
   ],
   "source": [
    "for n in range(2, 10):\n",
    "    for x in range(2, n):\n",
    "        if n % x == 0:\n",
    "            print(n, 'equals', x, '*', n//x)\n",
    "            break\n",
    "    else:\n",
    "        # 循环到底未找到一个因数\n",
    "        print(n, 'is a prime number')"
   ]
  },
  {
   "cell_type": "markdown",
   "id": "1990c4fe-f908-4dec-85aa-464ce9b99753",
   "metadata": {},
   "source": [
    "### pass语句\n",
    "\n",
    "pass 语句不执行任何动作。语法上需要一个语句，但程序毋需执行任何动作时，可以使用该语句。"
   ]
  },
  {
   "cell_type": "code",
   "execution_count": 13,
   "id": "0ec4ccdb-79c0-4c6e-989b-2eb4d50be6a1",
   "metadata": {},
   "outputs": [],
   "source": [
    "# 创建一个最小的类\n",
    "class MyEmptyClass:\n",
    "    pass"
   ]
  },
  {
   "cell_type": "code",
   "execution_count": 14,
   "id": "83e4581a-a592-4bd9-b5d2-ba332fa6d76c",
   "metadata": {},
   "outputs": [],
   "source": [
    "# pass 还可用作函数或条件语句体的占位符\n",
    "def initlog(*args):\n",
    "    pass   # 记得实现这个！"
   ]
  },
  {
   "cell_type": "markdown",
   "id": "bf78e652-3e25-4efe-b587-1a86b3b31aed",
   "metadata": {},
   "source": [
    "### match语句\n",
    "\n",
    "match 语句接受一个表达式并把它的值与一个或多个 case 块给出的一系列模式进行比较。"
   ]
  },
  {
   "cell_type": "code",
   "execution_count": 16,
   "id": "8bd4ddc9-1376-405a-b6b6-c501b3c5be84",
   "metadata": {},
   "outputs": [],
   "source": [
    "def http_error(status):\n",
    "    match status:\n",
    "        case 400:\n",
    "            return \"Bad request\"\n",
    "        case 404:\n",
    "            return \"Not found\"\n",
    "        case 418:\n",
    "            return \"I'm a teapot\"\n",
    "        case 401 | 403 | 404: # 可以使用 | （“ or ”）在一个模式中组合几个字面值\n",
    "            return \"Not allowed\"\n",
    "        case _: # 变量名” _ 被作为 通配符 并必定会匹配成功\n",
    "            return \"Something's wrong with the internet\"\n"
   ]
  },
  {
   "cell_type": "code",
   "execution_count": 18,
   "id": "31388083-1304-48c6-b3e6-93e114ad9582",
   "metadata": {},
   "outputs": [
    {
     "name": "stdout",
     "output_type": "stream",
     "text": [
      "Not allowed\n"
     ]
    }
   ],
   "source": [
    "print(http_error(401))"
   ]
  },
  {
   "cell_type": "markdown",
   "id": "0c3384af-9d28-47b3-8455-eabe91e2b088",
   "metadata": {},
   "source": [
    "形如解包赋值的模式可被用于绑定变量："
   ]
  },
  {
   "cell_type": "code",
   "execution_count": 20,
   "id": "da51ee3e-8a44-4af7-861e-b25d61bb0719",
   "metadata": {},
   "outputs": [],
   "source": [
    "def point_fn(point):\n",
    "    # point 是一个 (x, y) 元组\n",
    "    match point:\n",
    "        case (0, 0):\n",
    "            print(\"Origin\")\n",
    "        case (0, y):\n",
    "            print(f\"Y={y}\")\n",
    "        case (x, 0):\n",
    "            print(f\"X={x}\")\n",
    "        case (x, y):\n",
    "            print(f\"X={x}, Y={y}\")\n",
    "        case _:\n",
    "            raise ValueError(\"Not a point\")"
   ]
  },
  {
   "cell_type": "code",
   "execution_count": 29,
   "id": "de4d278d-7f26-41fc-828d-23e5dccf1057",
   "metadata": {},
   "outputs": [
    {
     "name": "stdout",
     "output_type": "stream",
     "text": [
      "Origin\n",
      "Y=1\n",
      "X=100\n",
      "X=1, Y=2\n"
     ]
    }
   ],
   "source": [
    "point_fn((0,0))\n",
    "point_fn((0, 1))\n",
    "point_fn((100, 0))\n",
    "point_fn((1, 2))"
   ]
  },
  {
   "cell_type": "markdown",
   "id": "c90d5679-58c3-4805-a6fb-95f903ea15e3",
   "metadata": {},
   "source": [
    "将对象属性捕获到变量里面："
   ]
  },
  {
   "cell_type": "code",
   "execution_count": 40,
   "id": "977734dd-6128-46e0-9af6-a035b01e651e",
   "metadata": {},
   "outputs": [
    {
     "name": "stdout",
     "output_type": "stream",
     "text": [
      "Origin\n",
      "Y=1\n",
      "X=1\n",
      "Somewhere else\n",
      "Not a point\n"
     ]
    }
   ],
   "source": [
    "# 定义类\n",
    "class Point:\n",
    "    def __init__(self, x, y):\n",
    "        self.x = x\n",
    "        self.y = y\n",
    "\n",
    "def where_is(point):\n",
    "    match point:\n",
    "        case Point(x=0, y=0):\n",
    "            print(\"Origin\")\n",
    "        case Point(x=0, y=y):\n",
    "            print(f\"Y={y}\")\n",
    "        case Point(x=x, y=0):\n",
    "            print(f\"X={x}\")\n",
    "        # case Point(x, y) if x == y: # 添加if字句作为约束项\n",
    "        #     print(f\"Y=X at {x}\")\n",
    "        case Point():\n",
    "            print(\"Somewhere else\")\n",
    "        case _:\n",
    "            print(\"Not a point\")\n",
    "\n",
    "where_is(Point(0,0))\n",
    "where_is(Point(0, 1))\n",
    "where_is(Point(1, 0))\n",
    "where_is(Point(1, 1))\n",
    "where_is(100)"
   ]
  },
  {
   "cell_type": "markdown",
   "id": "6bc936f7-0671-41b4-a159-055202fe6028",
   "metadata": {},
   "source": [
    "模式可以使用具名常量。它们必须作为带点号的名称出现，以防止它们被解释为用于捕获的变量:"
   ]
  },
  {
   "cell_type": "code",
   "execution_count": 41,
   "id": "4dd61175-d0f2-42eb-ac0e-22a5146fca68",
   "metadata": {},
   "outputs": [
    {
     "name": "stdin",
     "output_type": "stream",
     "text": [
      "Enter your choice of 'red', 'blue' or 'green':  red\n"
     ]
    },
    {
     "name": "stdout",
     "output_type": "stream",
     "text": [
      "I see red!\n"
     ]
    }
   ],
   "source": [
    "from enum import Enum\n",
    "class Color(Enum):\n",
    "    RED = 'red'\n",
    "    GREEN = 'green'\n",
    "    BLUE = 'blue'\n",
    "\n",
    "color = Color(input(\"Enter your choice of 'red', 'blue' or 'green': \"))\n",
    "match color:\n",
    "    case Color.RED:\n",
    "        print(\"I see red!\")\n",
    "    case Color.GREEN:\n",
    "        print(\"Grass is green\")\n",
    "    case Color.BLUE:\n",
    "        print(\"I'm feeling the blues :(\")"
   ]
  },
  {
   "cell_type": "code",
   "execution_count": null,
   "id": "f873c978-02ec-428f-8710-82797a3cf0eb",
   "metadata": {},
   "outputs": [],
   "source": []
  }
 ],
 "metadata": {
  "kernelspec": {
   "display_name": "Python 3 (ipykernel)",
   "language": "python",
   "name": "python3"
  },
  "language_info": {
   "codemirror_mode": {
    "name": "ipython",
    "version": 3
   },
   "file_extension": ".py",
   "mimetype": "text/x-python",
   "name": "python",
   "nbconvert_exporter": "python",
   "pygments_lexer": "ipython3",
   "version": "3.10.12"
  }
 },
 "nbformat": 4,
 "nbformat_minor": 5
}
