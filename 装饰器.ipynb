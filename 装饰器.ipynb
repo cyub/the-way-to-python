{
 "cells": [
  {
   "cell_type": "markdown",
   "id": "62341292-b26a-4623-aa9e-4c3fbdce6fb9",
   "metadata": {},
   "source": [
    "## 装饰器\n",
    "\n",
    "装饰器（Decorator）是 Python 中一个强大且优雅的特性，它允许你以非侵入式的方式为函数或方法添加功能，而无需修改原函数的代码。装饰器广泛用于日志记录、性能测试、权限验证等场景。"
   ]
  },
  {
   "cell_type": "markdown",
   "id": "6289b919-a511-4785-a109-8a3e28f71313",
   "metadata": {},
   "source": [
    "### 函数是一等公民\n",
    "\n",
    "在 Python 中，函数是**一等公民**（First-Class Object），意味着函数可以像变量一样被赋值、传递、返回。这为装饰器奠定了基础。\n",
    "\n",
    "装饰器本质上是一个函数，它接受另一个函数作为输入，并返回一个新的函数（包装函数）。"
   ]
  },
  {
   "cell_type": "code",
   "execution_count": 1,
   "id": "3206ce49-2d8a-4b77-aace-ae39def75e91",
   "metadata": {},
   "outputs": [
    {
     "name": "stdout",
     "output_type": "stream",
     "text": [
      "Hello, World!\n",
      "Hello, Python!\n"
     ]
    }
   ],
   "source": [
    "# 函数赋值给变量\n",
    "def greet(name):\n",
    "    return f\"Hello, {name}!\"\n",
    "\n",
    "hello = greet  # 函数赋值\n",
    "print(hello(\"World\"))  # 输出: Hello, World!\n",
    "\n",
    "# 函数作为参数传递\n",
    "def execute(func, arg):\n",
    "    return func(arg)\n",
    "\n",
    "print(execute(greet, \"Python\"))  # 输出: Hello, Python!"
   ]
  },
  {
   "cell_type": "markdown",
   "id": "46f8f9dd-9a1b-4c22-be67-deef6f97d151",
   "metadata": {},
   "source": [
    "### 简单装饰器：无参数装饰器\n",
    "\n",
    "最基本的装饰器是一个函数，它包裹原函数，并在调用前后添加逻辑。\n",
    "\n",
    "#### 示例：添加打印日志的装饰器"
   ]
  },
  {
   "cell_type": "code",
   "execution_count": 2,
   "id": "730cba08-a341-41c2-bcdc-78e1db6bd018",
   "metadata": {},
   "outputs": [
    {
     "name": "stdout",
     "output_type": "stream",
     "text": [
      "函数 greet 开始执行...\n",
      "Hello, Alice!\n",
      "函数 greet 执行完成！\n"
     ]
    }
   ],
   "source": [
    "def my_decorator(func):\n",
    "    def wrapper(*args, **kwargs):\n",
    "        print(f\"函数 {func.__name__} 开始执行...\")\n",
    "        result = func(*args, **kwargs)  # 调用原函数\n",
    "        print(f\"函数 {func.__name__} 执行完成！\")\n",
    "        return result\n",
    "    return wrapper\n",
    "\n",
    "# 使用装饰器\n",
    "@my_decorator  # 等价于: greet = my_decorator(greet)\n",
    "def greet(name):\n",
    "    print(f\"Hello, {name}!\")\n",
    "\n",
    "greet(\"Alice\")  # 输出:\n",
    "# 函数 greet 开始执行...\n",
    "# Hello, Alice!\n",
    "# 函数 greet 执行完成！"
   ]
  },
  {
   "cell_type": "markdown",
   "id": "f646debe-cda8-4239-9ee0-4af8120393de",
   "metadata": {},
   "source": [
    "上面代码说明：\n",
    "\n",
    "- `my_decorator` 是装饰器函数。\n",
    "- `wrapper` 是内层包装函数，接收原函数的所有参数（`*args, **kwargs`）。\n",
    "- `@my_decorator` 语法糖：自动将 `greet` 替换为 `my_decorator(greet)`。"
   ]
  },
  {
   "cell_type": "markdown",
   "id": "98d5034d-cc39-4788-8f2c-5be9cb57225c",
   "metadata": {},
   "source": [
    "### 带参数的装饰器\n",
    "\n",
    "有时装饰器需要接受参数（如配置选项）。这时，需要一个三层嵌套结构：外层函数接收装饰器参数，返回一个装饰器函数。\n",
    "\n",
    "#### 示例：可配置的重复执行装饰器"
   ]
  },
  {
   "cell_type": "code",
   "execution_count": 3,
   "id": "f315c0fc-ead0-45d2-ab1d-d5046bc742eb",
   "metadata": {},
   "outputs": [
    {
     "name": "stdout",
     "output_type": "stream",
     "text": [
      "Hello, Bob!\n",
      "Hello, Bob!\n",
      "Hello, Bob!\n"
     ]
    }
   ],
   "source": [
    "def repeat(times):\n",
    "    def decorator(func):\n",
    "        def wrapper(*args, **kwargs):\n",
    "            for _ in range(times):\n",
    "                result = func(*args, **kwargs)\n",
    "            return result\n",
    "        return wrapper\n",
    "    return decorator\n",
    "\n",
    "# 使用：重复执行 3 次\n",
    "@repeat(times=3)\n",
    "def say_hello(name):\n",
    "    print(f\"Hello, {name}!\")\n",
    "\n",
    "say_hello(\"Bob\")  # 输出: Hello, Bob! (三次)"
   ]
  },
  {
   "cell_type": "markdown",
   "id": "743e877d-6335-4fc0-96b1-ce75bdba549a",
   "metadata": {},
   "source": [
    "上面代码说明：\n",
    "\n",
    "- `repeat(times)`：外层接收参数 `times`，返回装饰器 `decorator`。\n",
    "- `decorator(func)`：接收原函数，返回 `wrapper`。"
   ]
  },
  {
   "cell_type": "markdown",
   "id": "5cd3dc65-818f-453e-8da9-1096602c14f3",
   "metadata": {},
   "source": [
    "### 类装饰器\n",
    "\n",
    "装饰器也可以是类，通过 `__call__` 方法实现。\n",
    "\n",
    "#### 示例：计数器类装饰器"
   ]
  },
  {
   "cell_type": "code",
   "execution_count": 4,
   "id": "4a87a124-a8b5-4293-af41-83ab20f80059",
   "metadata": {},
   "outputs": [
    {
     "name": "stdout",
     "output_type": "stream",
     "text": [
      "函数 multiply 已调用 1 次\n",
      "6\n",
      "函数 multiply 已调用 2 次\n",
      "20\n"
     ]
    }
   ],
   "source": [
    "class Counter:\n",
    "    def __init__(self, func):\n",
    "        self.func = func\n",
    "        self.count = 0\n",
    "\n",
    "    def __call__(self, *args, **kwargs):\n",
    "        self.count += 1\n",
    "        print(f\"函数 {self.func.__name__} 已调用 {self.count} 次\")\n",
    "        return self.func(*args, **kwargs)\n",
    "\n",
    "@Counter\n",
    "def multiply(x, y):\n",
    "    return x * y\n",
    "\n",
    "print(multiply(2, 3))  # 输出: 函数 multiply 已调用 1 次 \\n 6\n",
    "print(multiply(4, 5))  # 输出: 函数 multiply 已调用 2 次 \\n 20"
   ]
  },
  {
   "cell_type": "markdown",
   "id": "ddf24a4b-3db0-4aae-9683-7df01db634a3",
   "metadata": {},
   "source": [
    "上面代码说明：\n",
    "\n",
    "- 类实例化时接收原函数（`__init__`）。\n",
    "- 每次调用实例时，触发 `__call__`，执行原函数并添加逻辑。\n",
    "- 适合需要状态（如计数）的场景。"
   ]
  },
  {
   "cell_type": "markdown",
   "id": "1f7a47c1-3f0e-476c-9796-8125e49f9995",
   "metadata": {},
   "source": [
    "### 高级用法：使用 `functools.wraps`\n",
    "\n",
    "直接使用 `wrapper` 会丢失原函数的元信息（如 `__name__`、`docstring`）。我们可以使用 `functools.wraps` 来修复。记住：**始终使用 `@wraps(func)` 保持函数签名完整**。"
   ]
  },
  {
   "cell_type": "code",
   "execution_count": 5,
   "id": "6ba6a2de-60d7-4deb-b56e-b214e6fd4221",
   "metadata": {},
   "outputs": [
    {
     "name": "stdout",
     "output_type": "stream",
     "text": [
      "greet\n",
      "问候函数\n"
     ]
    }
   ],
   "source": [
    "from functools import wraps\n",
    "\n",
    "def my_decorator(func):\n",
    "    @wraps(func)  # 复制原函数的元信息\n",
    "    def wrapper(*args, **kwargs):\n",
    "        print(\"执行前...\")\n",
    "        result = func(*args, **kwargs)\n",
    "        print(\"执行后...\")\n",
    "        return result\n",
    "    return wrapper\n",
    "\n",
    "@my_decorator\n",
    "def greet(name):\n",
    "    \"\"\"问候函数\"\"\"\n",
    "    return f\"Hello, {name}!\"\n",
    "\n",
    "print(greet.__name__)  # 输出: greet (而非 wrapper)\n",
    "print(greet.__doc__)   # 输出: 问候函数"
   ]
  },
  {
   "cell_type": "markdown",
   "id": "7edeb105-55ff-48ba-9d6a-c28250d8a829",
   "metadata": {},
   "source": [
    "### 实用示例：性能计时装饰器\n",
    "\n",
    "一个常见应用：测量函数执行时间。"
   ]
  },
  {
   "cell_type": "code",
   "execution_count": 6,
   "id": "b8a6d4c8-af41-45e6-a51e-94e2352b3538",
   "metadata": {},
   "outputs": [
    {
     "name": "stdout",
     "output_type": "stream",
     "text": [
      "slow_function 执行时间: 1.0011 秒\n",
      "499500\n"
     ]
    }
   ],
   "source": [
    "import time\n",
    "from functools import wraps\n",
    "\n",
    "def timer(func):\n",
    "    @wraps(func)\n",
    "    def wrapper(*args, **kwargs):\n",
    "        start = time.time()\n",
    "        result = func(*args, **kwargs)\n",
    "        end = time.time()\n",
    "        print(f\"{func.__name__} 执行时间: {end - start:.4f} 秒\")\n",
    "        return result\n",
    "    return wrapper\n",
    "\n",
    "@timer\n",
    "def slow_function(n):\n",
    "    time.sleep(1)  # 模拟耗时操作\n",
    "    return sum(range(n))\n",
    "\n",
    "print(slow_function(1000))  # 输出执行时间约 1 秒"
   ]
  },
  {
   "cell_type": "markdown",
   "id": "b14b91c0-a361-4143-aa30-e1019ee6e6c4",
   "metadata": {},
   "source": [
    "### 多个装饰器和嵌套\n",
    "\n",
    "装饰器可以堆叠，按从下到上的顺序执行（自内而外）。"
   ]
  },
  {
   "cell_type": "code",
   "execution_count": 7,
   "id": "41e6a8fb-4523-42e8-9c4c-20410bc9cd92",
   "metadata": {},
   "outputs": [
    {
     "name": "stdout",
     "output_type": "stream",
     "text": [
      "执行前...\n",
      "核心逻辑: Test\n",
      "执行后...\n",
      "combined_func 执行时间: 0.0011 秒\n"
     ]
    }
   ],
   "source": [
    "@timer\n",
    "@my_decorator\n",
    "def combined_func(name):\n",
    "    print(f\"核心逻辑: {name}\")\n",
    "\n",
    "combined_func(\"Test\")\n",
    "# 先执行 my_decorator 的逻辑，然后 timer 的"
   ]
  },
  {
   "cell_type": "markdown",
   "id": "b867097d-baeb-44ce-8448-7e024ccbb4a4",
   "metadata": {},
   "source": [
    "#### 多个装饰器叠加顺序\n",
    "\n",
    "```python\n",
    "@d2\n",
    "@d1\n",
    "def func(): ...\n",
    "```\n",
    "\n",
    "等价于 func = d2(d1(func))。执行顺序：d1 先包，但 d2 的外层 wrapper 先运行。"
   ]
  },
  {
   "cell_type": "code",
   "execution_count": null,
   "id": "4e5c4959-dc55-48d0-9a24-076f4f6613ff",
   "metadata": {},
   "outputs": [],
   "source": []
  }
 ],
 "metadata": {
  "kernelspec": {
   "display_name": "Python 3 (ipykernel)",
   "language": "python",
   "name": "python3"
  },
  "language_info": {
   "codemirror_mode": {
    "name": "ipython",
    "version": 3
   },
   "file_extension": ".py",
   "mimetype": "text/x-python",
   "name": "python",
   "nbconvert_exporter": "python",
   "pygments_lexer": "ipython3",
   "version": "3.10.12"
  }
 },
 "nbformat": 4,
 "nbformat_minor": 5
}
